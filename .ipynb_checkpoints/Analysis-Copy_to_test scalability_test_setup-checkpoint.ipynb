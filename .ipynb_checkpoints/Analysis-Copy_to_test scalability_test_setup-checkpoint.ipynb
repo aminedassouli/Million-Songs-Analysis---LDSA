{
 "cells": [
  {
   "cell_type": "markdown",
   "metadata": {},
   "source": [
    "# <center> Million Songs Analysis</center>"
   ]
  },
  {
   "cell_type": "markdown",
   "metadata": {},
   "source": [
    "## Starting the Spark session"
   ]
  },
  {
   "cell_type": "code",
   "execution_count": null,
   "metadata": {},
   "outputs": [],
   "source": [
    "from pyspark.sql import SparkSession\n",
    "\n",
    "spark_session = SparkSession\\\n",
    "        .builder\\\n",
    "        .master(\"spark://host-192-168-1-153-ldsa:7077\")\\\n",
    "        .appName(\"Project_19\")\\\n",
    "        .config(\"spark.dynamicAllocation.enabled\", True)\\\n",
    "        .config(\"spark.shuffle.service.enabled\", True)\\\n",
    "        .config(\"spark.dynamicAllocation.executorIdleTimeout\",\"10m\")\\\n",
    "        .config(\"spark.dynamicAllocation.initialExecutors\", 1)\\\n",
    "        .config(\"spark.dynamicAllocation.minExecutors\", 1)\\\n",
    "        .config(\"spark.dynamicAllocation.maxExecutors\", 1)\\\n",
    "        .config(\"spark.executor.cores\",1)\\\n",
    "        .getOrCreate()\n",
    "spark_context = spark_session.sparkContext"
   ]
  },
  {
   "cell_type": "markdown",
   "metadata": {},
   "source": [
    "## Importations"
   ]
  },
  {
   "cell_type": "code",
   "execution_count": null,
   "metadata": {},
   "outputs": [],
   "source": [
    "import h5py\n",
    "import io, time\n",
    "import matplotlib.pyplot as plt\n",
    "from pyspark.sql import Row\n",
    "from pyspark.sql.types import *\n",
    "from pyspark.sql.functions import monotonically_increasing_id, col, when"
   ]
  },
  {
   "cell_type": "markdown",
   "metadata": {},
   "source": [
    "## Loading the data into RDDs (Skip)"
   ]
  },
  {
   "cell_type": "code",
   "execution_count": null,
   "metadata": {},
   "outputs": [],
   "source": [
    "\"\"\" This function turns a list of binary elements to a string with the element separated by the character ',' \"\"\"\n",
    "def list_bin_to_str(list_terms) :\n",
    "    string=\"\"\n",
    "    for term in list_terms :\n",
    "        string += term.decode()+','\n",
    "    return string[1:-1]   "
   ]
  },
  {
   "cell_type": "code",
   "execution_count": null,
   "metadata": {
    "scrolled": true
   },
   "outputs": [],
   "source": [
    "\"\"\" We prepare first a RDD containing tuples (song_information, artist_information) \"\"\"\n",
    "#rdd = spark_context.binaryFiles(\"hdfs://host-192-168-1-153-ldsa:9000/millionsongs/data/A/B/*\")\n",
    "rdd = spark_context.binaryFiles(\"/mnt/ms/data/A/*/*\")\n",
    "\n",
    "# A function to open the h5 files one by one and take the information of interest for the song and the artist\n",
    "def f(x):\n",
    "    with h5py.File(io.BytesIO(x[1])) as f:\n",
    "        \n",
    "        f_meta = f['metadata'][\"songs\"]\n",
    "        f_analys = f['analysis'][\"songs\"]\n",
    "        f_brainz = f['musicbrainz'][\"songs\"]\n",
    "        \n",
    "        artist_terms = list_bin_to_str(f['metadata']['artist_terms'][:10])\n",
    "        similar_artists = list_bin_to_str(f['metadata']['similar_artists'][:10])\n",
    "        \n",
    "        return ((f_meta[0][-3].decode(), f_meta[0][-2].decode(),\n",
    "                f_meta[0][9].decode(), f_meta[0][4].decode(),\n",
    "                f_meta[0][-6].decode(),\n",
    "                float(f_analys[0][3]), float(f_meta[0][-4]),\n",
    "                float(f_analys[0][2]), float(f_analys[0][23]), \n",
    "                float(f_analys[0][-4]), int(f_brainz[0][1])), \n",
    "               \n",
    "                (f_meta[0][4].decode(), f_meta[0][9].decode(),\n",
    "                f_meta[0][6].decode(), float(f_meta[0][3]),\n",
    "                artist_terms, similar_artists))\n",
    "\n",
    "rdd = rdd.map(f)\n",
    "\n",
    "\"\"\" We create two RDDs (songs, artists) from the general one \"\"\"\n",
    "rdd_songs = rdd.map(lambda x : x[0])\n",
    "rdd_artists = rdd.map(lambda x : x[1])"
   ]
  },
  {
   "cell_type": "markdown",
   "metadata": {},
   "source": [
    "## Turning RDDs to Data frames (Skip)"
   ]
  },
  {
   "cell_type": "markdown",
   "metadata": {},
   "source": [
    "<b> *   Table Songs </b>"
   ]
  },
  {
   "cell_type": "code",
   "execution_count": null,
   "metadata": {
    "scrolled": false
   },
   "outputs": [],
   "source": [
    "attributes = rdd_songs.map(lambda p: Row(p[0], p[1], p[2], p[3], p[4], p[5], p[6], p[7], p[8], p[9], p[10]))\n",
    "fields = [StructField(\"song_id\", StringType(), True), StructField(\"title\", StringType(), True), \n",
    "          StructField(\"artist_name\", StringType(), True), StructField(\"artist_id\", StringType(), True),\n",
    "          StructField(\"release_album\", StringType(), True), \n",
    "          StructField(\"duration\", FloatType(), True), StructField(\"hotness\", FloatType(), True), \n",
    "          StructField(\"danceability\", FloatType(), True), StructField(\"loudness\", FloatType(), True), \n",
    "          StructField(\"tempo\", FloatType(), True), StructField(\"year\", IntegerType())]\n",
    "songs_schema = StructType(fields)\n",
    "\n",
    "df_songs = spark_session.createDataFrame(attributes, songs_schema)\n",
    "df_songs.show()"
   ]
  },
  {
   "cell_type": "markdown",
   "metadata": {},
   "source": [
    "<b> *   Table Artists </b>"
   ]
  },
  {
   "cell_type": "code",
   "execution_count": null,
   "metadata": {},
   "outputs": [],
   "source": [
    "attributes = rdd_artists.map(lambda p: Row(p[0], p[1], p[2], p[3], p[4], p[5]))\n",
    "fields = [StructField(\"id\", StringType(), True), StructField(\"name\", StringType(), True), \n",
    "          StructField(\"location\", StringType(), True), StructField(\"hotness\", FloatType(), True),\n",
    "          StructField(\"terms\", StringType(), True), \n",
    "          StructField(\"similar_artists\", StringType(), True)]\n",
    "artists_schema = StructType(fields)\n",
    "\n",
    "df_artists = spark_session.createDataFrame(attributes, artists_schema)\\\n",
    "                          .dropDuplicates()\n",
    "df_artists.show()"
   ]
  },
  {
   "cell_type": "markdown",
   "metadata": {},
   "source": [
    "## Saving data frames in csv files (Skip)"
   ]
  },
  {
   "cell_type": "markdown",
   "metadata": {},
   "source": [
    "<b> *   Table Songs </b>"
   ]
  },
  {
   "cell_type": "code",
   "execution_count": null,
   "metadata": {},
   "outputs": [],
   "source": [
    "df_songs.write.format('com.databricks.spark.csv')\\\n",
    "        .option(\"header\", \"true\")\\\n",
    "        .save('/home/ubuntu/MySongs_all.csv')\n"
   ]
  },
  {
   "cell_type": "markdown",
   "metadata": {},
   "source": [
    "<b> *   Table Artists </b>"
   ]
  },
  {
   "cell_type": "code",
   "execution_count": null,
   "metadata": {},
   "outputs": [],
   "source": [
    "df_artists.write.format('com.databricks.spark.csv')\\\n",
    "        .option(\"header\", \"true\")\\\n",
    "        .save('/home/ubuntu/MyArtists_all.csv')\n"
   ]
  },
  {
   "cell_type": "code",
   "execution_count": null,
   "metadata": {},
   "outputs": [],
   "source": [
    "df_songs.take(10)"
   ]
  },
  {
   "cell_type": "markdown",
   "metadata": {},
   "source": [
    "## Loading data frames from csv files"
   ]
  },
  {
   "cell_type": "markdown",
   "metadata": {},
   "source": [
    "<b> *   Table Songs </b>"
   ]
  },
  {
   "cell_type": "code",
   "execution_count": null,
   "metadata": {},
   "outputs": [],
   "source": [
    "fields = [StructField(\"song_id\", StringType(), True), StructField(\"title\", StringType(), True), \n",
    "          StructField(\"artist_name\", StringType(), True), StructField(\"artist_id\", StringType(), True),\n",
    "          StructField(\"release_album\", StringType(), True), \n",
    "          StructField(\"duration\", FloatType(), True), StructField(\"hotness\", FloatType(), True), \n",
    "          StructField(\"danceability\", FloatType(), True), StructField(\"loudness\", FloatType(), True), \n",
    "          StructField(\"tempo\", FloatType(), True), StructField(\"year\", IntegerType())]\n",
    "songs_schema = StructType(fields)\n",
    "\n",
    "\n",
    "\n",
    "df_songs = spark_session.read\\\n",
    "    .option(\"header\", \"true\")\\\n",
    "    .csv('hdfs://192.168.1.153:50070/team19/MySongs_all.csv')    "
   ]
  },
  {
   "cell_type": "markdown",
   "metadata": {},
   "source": [
    "Lets take a look at the table : "
   ]
  },
  {
   "cell_type": "code",
   "execution_count": null,
   "metadata": {},
   "outputs": [],
   "source": [
    "df_songs.printSchema()\n",
    "df_songs.limit(10).show()"
   ]
  },
  {
   "cell_type": "markdown",
   "metadata": {},
   "source": [
    "<b> *   Table Artists </b>"
   ]
  },
  {
   "cell_type": "code",
   "execution_count": null,
   "metadata": {},
   "outputs": [],
   "source": [
    "fields = [StructField(\"id\", StringType(), True), StructField(\"name\", StringType(), True), \n",
    "          StructField(\"location\", StringType(), True), StructField(\"hotness\", FloatType(), True),\n",
    "          StructField(\"terms\", StringType(), True), \n",
    "          StructField(\"similar_artists\", StringType(), True)]\n",
    "artists_schema = StructType(fields)\n",
    "\n",
    "df_artists = spark_session.read.load('hdfs://192.168.1.153:50070/team19/MyArtists_all.csv', \n",
    "                          format='com.databricks.spark.csv', \n",
    "                          header='true', \n",
    "                          schema=artists_schema)\\\n",
    "                          .cache()"
   ]
  },
  {
   "cell_type": "markdown",
   "metadata": {},
   "source": [
    "Lets take a look at this table as well"
   ]
  },
  {
   "cell_type": "code",
   "execution_count": null,
   "metadata": {},
   "outputs": [],
   "source": [
    "df_artists.printSchema()\n",
    "df_artists.limit(10).show()"
   ]
  },
  {
   "cell_type": "markdown",
   "metadata": {},
   "source": [
    "# Functions"
   ]
  },
  {
   "cell_type": "code",
   "execution_count": null,
   "metadata": {},
   "outputs": [],
   "source": [
    "\"\"\" This function returns the song information in a visible way (as a string) \"\"\"\n",
    "def song_str(song) :\n",
    "    if song[\"year\"] != 0 :\n",
    "        return \"{} - {} ({})\".format(song[\"title\"], song[\"artist_name\"], song[\"year\"])\n",
    "    else :\n",
    "        return \"{} - {}\".format(song[\"title\"], song[\"artist_name\"])"
   ]
  },
  {
   "cell_type": "code",
   "execution_count": null,
   "metadata": {},
   "outputs": [],
   "source": [
    "\"\"\" This function asks the user for the title of a song and returns it from the database \"\"\"\n",
    "def ask_for_song() :\n",
    "    right = False # Boolean to verify that the user's song is the one found in the database   \n",
    "    while not right : \n",
    "        song_title = input(\" Title of the song : \")\n",
    "        # We look at the song in the database even if the user enters an incomplete name\n",
    "        song = df_songs.filter(df_songs[\"title\"].like(\"%\" + song_title + \"%\")).first()\n",
    "        while song == None :\n",
    "            print(\" This song doesn't exist in the database\")\n",
    "            song = df_songs.filter(df_songs[\"title\"].like(\"%\" + input(\"Title of the song : \") + \"%\")).first()\n",
    "        right = (input(\" Is your song {} (y/n) ? \".format(song_str(song))) == 'y')\n",
    "    \n",
    "    print(\" The chosen song is : {} \".format(song_str(song)))\n",
    "    return song"
   ]
  },
  {
   "cell_type": "code",
   "execution_count": null,
   "metadata": {},
   "outputs": [],
   "source": [
    "\"\"\" This function returns the songs which belong to the same artist as the input song(Row) \"\"\"\n",
    "def same_artist(song) :\n",
    "    similar_songs = df_songs.filter(df_songs.artist_name == song[\"artist_name\"])\n",
    "    return similar_songs.filter(similar_songs.title != song[\"title\"])\n",
    "  "
   ]
  },
  {
   "cell_type": "code",
   "execution_count": null,
   "metadata": {},
   "outputs": [],
   "source": [
    "\"\"\" This function returns the songs, from the dataframe, which have similar tempo as the input song\"\"\"\n",
    "def similar_tempo(song, dataframe, margin) : \n",
    "    similar_songs = dataframe.filter(dataframe.tempo.between(song[\"tempo\"] - margin, song[\"tempo\"] + margin))\\\n",
    "                             .filter(dataframe.title != song[\"title\"])\n",
    " \n",
    "    return similar_songs"
   ]
  },
  {
   "cell_type": "code",
   "execution_count": null,
   "metadata": {},
   "outputs": [],
   "source": [
    "\"\"\" This function returns the songs, from the dataframe, which have similar loudness as the input song \"\"\"\n",
    "def similar_loudness(song, dataframe, margin) : \n",
    "    similar_songs = dataframe.filter(dataframe.loudness.between(song[\"loudness\"] - margin, song[\"loudness\"] + margin))\\\n",
    "                             .filter(dataframe.title != song[\"title\"])\n",
    "\n",
    "    return similar_songs"
   ]
  },
  {
   "cell_type": "code",
   "execution_count": null,
   "metadata": {},
   "outputs": [],
   "source": [
    "\"\"\" This function returns the songs, from the dataframe, which have similar hotness as the input song \"\"\"\n",
    "def similar_hotness(song, dataframe, margin) : \n",
    "    similar_songs = dataframe.filter(dataframe.hotness.between(song[\"hotness\"] - margin, song[\"hotness\"] + margin))\\\n",
    "                             .filter(dataframe.title != song[\"title\"])\n",
    "\n",
    "    return similar_songs"
   ]
  },
  {
   "cell_type": "code",
   "execution_count": null,
   "metadata": {},
   "outputs": [],
   "source": [
    "\"\"\" This function returns the songs, from the dataframe, which have similar danceability as the input song \"\"\"\n",
    "def similar_danceability(song, dataframe, margin) : \n",
    "    similar_songs = dataframe.filter(dataframe.danceability.between(song[\"danceability\"] - margin, song[\"danceability\"] + margin))\\\n",
    "                             .filter(dataframe.title != song[\"title\"])\n",
    "\n",
    "    return similar_songs"
   ]
  },
  {
   "cell_type": "code",
   "execution_count": null,
   "metadata": {},
   "outputs": [],
   "source": [
    "\"\"\" This function returns the songs, from the dataframe, which are similar to the input song based on tempo, loudness,\n",
    "hotness and danceability \"\"\"\n",
    "# number is the number of generated suggestions\n",
    "# margins is a dictionary with the 4 attributes above as keys and their corresponding values are a tuple of\n",
    "# (initial margin, margin_increase)\n",
    "def similar_model1(song, number, margins) :\n",
    "    similar_songs = spark_session.createDataFrame(spark_context.emptyRDD(), songs_schema)\n",
    "    x = 0\n",
    "    while similar_songs.count() < number :\n",
    "        similar_songs_inter = similar_tempo(song, df_songs, margins[\"tempo\"][1] * x + margins[\"tempo\"][0])\n",
    "        similar_songs_inter = similar_loudness(song, similar_songs_inter, margins[\"loudness\"][1] * x + margins[\"loudness\"][0])\n",
    "        similar_songs_inter = similar_danceability(song, similar_songs_inter, margins[\"hotness\"][1] * x + margins[\"hotness\"][0])\n",
    "        similar_songs = similar_hotness(song, similar_songs_inter, margins[\"danceability\"][1] * x + margins[\"danceability\"][0])\n",
    "        x += 1\n",
    "    return similar_songs.limit(number)"
   ]
  },
  {
   "cell_type": "markdown",
   "metadata": {},
   "source": [
    "# Core Analysis"
   ]
  },
  {
   "cell_type": "markdown",
   "metadata": {},
   "source": [
    "### Asking the user for a song "
   ]
  },
  {
   "cell_type": "code",
   "execution_count": null,
   "metadata": {
    "scrolled": false
   },
   "outputs": [],
   "source": [
    "user_song = ask_for_song()"
   ]
  },
  {
   "cell_type": "markdown",
   "metadata": {},
   "source": [
    "### Songs from the same artist"
   ]
  },
  {
   "cell_type": "code",
   "execution_count": null,
   "metadata": {
    "scrolled": false
   },
   "outputs": [],
   "source": [
    "songs_same_artist = same_artist(user_song)\n",
    "if songs_same_artist.count() != 0 :\n",
    "    some_songs = songs_same_artist.take(10)\n",
    "    print(\" Songs from the same artist :\")\n",
    "    for song in some_songs : \n",
    "        print(\" * \", song[\"title\"])\n",
    "else :\n",
    "    print(\" This artist doesn't have any other songs.\")\n",
    "    "
   ]
  },
  {
   "cell_type": "markdown",
   "metadata": {},
   "source": [
    "### Songs with similar tempo"
   ]
  },
  {
   "cell_type": "code",
   "execution_count": null,
   "metadata": {
    "scrolled": true
   },
   "outputs": [],
   "source": [
    "margin = 10\n",
    "songs_similar_tempo = similar_tempo(user_song, df_songs, margin).limit(10).collect()\n",
    "if songs_similar_tempo != None :\n",
    "    print(\"Songs with similar tempo (with a margin of {}) :\".format(margin))\n",
    "    for song in songs_similar_tempo : \n",
    "        print(\" * \", end=\"\")\n",
    "        print(song_str(song))"
   ]
  },
  {
   "cell_type": "markdown",
   "metadata": {},
   "source": [
    "### Songs with similar loudness"
   ]
  },
  {
   "cell_type": "code",
   "execution_count": null,
   "metadata": {},
   "outputs": [],
   "source": [
    "margin = 0.1\n",
    "songs_similar_loudness = similar_loudness(user_song, df_songs, margin).limit(10).collect()\n",
    "if songs_similar_loudness != None :\n",
    "    print(\"Songs with similar loudness (with a margin of {}) :\".format(margin))\n",
    "    for song in songs_similar_loudness : \n",
    "        print(\" * \", end=\"\")\n",
    "        print(song_str(song))"
   ]
  },
  {
   "cell_type": "markdown",
   "metadata": {},
   "source": [
    "### Songs with similar hotness"
   ]
  },
  {
   "cell_type": "code",
   "execution_count": null,
   "metadata": {},
   "outputs": [],
   "source": [
    "margin = 0.1\n",
    "songs_similar_hotness = similar_hotness(user_song, df_songs, margin).limit(10).collect()\n",
    "if songs_similar_hotness != None :\n",
    "    print(\"Songs with similar hotness (with a margin of {}) :\".format(margin))\n",
    "    for song in songs_similar_hotness : \n",
    "        print(\" * \", end=\"\")\n",
    "        print(song_str(song))"
   ]
  },
  {
   "cell_type": "markdown",
   "metadata": {},
   "source": [
    "### Songs with similar danceability"
   ]
  },
  {
   "cell_type": "code",
   "execution_count": null,
   "metadata": {
    "scrolled": false
   },
   "outputs": [],
   "source": [
    "margin = 0.1\n",
    "songs_similar_danceability = similar_danceability(user_song, df_songs, margin).limit(10).collect()\n",
    "if songs_similar_danceability != None :\n",
    "    print(\"Songs with similar danceability (with a margin of {}) :\".format(margin))\n",
    "    for song in songs_similar_danceability : \n",
    "        print(\" * \", end=\"\")\n",
    "        print(song_str(song))"
   ]
  },
  {
   "cell_type": "markdown",
   "metadata": {},
   "source": [
    "### Songs with similar tempo, loudness, hotness and danceability"
   ]
  },
  {
   "cell_type": "code",
   "execution_count": null,
   "metadata": {},
   "outputs": [],
   "source": [
    "margins = {\"tempo\" : (1, 0.1), \"loudness\" : (1, 0.2), \"hotness\" : (1, 0.3), \"danceability\" : (0.01, 0.02)}"
   ]
  },
  {
   "cell_type": "markdown",
   "metadata": {},
   "source": [
    "To make things clearer, lets plot first the margins,  which are going to be passed as an argument to the function below, as a function of the number of iterations :"
   ]
  },
  {
   "cell_type": "code",
   "execution_count": null,
   "metadata": {},
   "outputs": [],
   "source": [
    "X_iterations = range(20)\n",
    "Y_margins = [[], [], [], []]\n",
    "\n",
    "list_margins = [(1,0.1), (1,0.2), (1,0.3), (0.01,0.02)]\n",
    "for i in range(20) :\n",
    "    for j in range(4) :\n",
    "        Y_margins[j].append(list_margins[j][0] + i * list_margins[j][1])\n",
    "        \n",
    "labels = [\"tempo\", \"loudness\", \"hotness\", \"danceability\"]\n",
    "for i in range(4) :\n",
    "    plt.plot(X_iterations, Y_margins[i], label = labels[i])\n",
    "    \n",
    "plt.legend()\n",
    "plt.show()"
   ]
  },
  {
   "cell_type": "code",
   "execution_count": null,
   "metadata": {},
   "outputs": [],
   "source": [
    "songs_similar_model1 = similar_model1(user_song, 10, margins)\n",
    "print(\"Similar songs following the model 1:\".format(margin))\n",
    "for song in songs_similar_model1.collect() : \n",
    "    print(\" * \", end=\"\")\n",
    "    print(song_str(song))"
   ]
  },
  {
   "cell_type": "code",
   "execution_count": null,
   "metadata": {
    "scrolled": true
   },
   "outputs": [],
   "source": [
    "df_artists.show()"
   ]
  },
  {
   "cell_type": "code",
   "execution_count": null,
   "metadata": {},
   "outputs": [],
   "source": [
    "songs_similar_model1[0][\"title\"]"
   ]
  },
  {
   "cell_type": "code",
   "execution_count": null,
   "metadata": {
    "scrolled": true
   },
   "outputs": [],
   "source": [
    "terms = songs_similar_model1.join(df_artists, df_songs.artist_id == df_artists.id)\\\n",
    "        .select(df_artists.location, df_artists.hotness, df_artists.terms)\\\n",
    "        .collect()\n"
   ]
  },
  {
   "cell_type": "code",
   "execution_count": null,
   "metadata": {},
   "outputs": [],
   "source": [
    "terms"
   ]
  },
  {
   "cell_type": "markdown",
   "metadata": {},
   "source": [
    "## Releasing the resources"
   ]
  },
  {
   "cell_type": "code",
   "execution_count": null,
   "metadata": {},
   "outputs": [],
   "source": [
    "spark_context.stop()"
   ]
  },
  {
   "cell_type": "code",
   "execution_count": null,
   "metadata": {},
   "outputs": [],
   "source": []
  }
 ],
 "metadata": {
  "kernelspec": {
   "display_name": "Python 3",
   "language": "python",
   "name": "python3"
  },
  "language_info": {
   "codemirror_mode": {
    "name": "ipython",
    "version": 3
   },
   "file_extension": ".py",
   "mimetype": "text/x-python",
   "name": "python",
   "nbconvert_exporter": "python",
   "pygments_lexer": "ipython3",
   "version": "3.6.7"
  }
 },
 "nbformat": 4,
 "nbformat_minor": 2
}
