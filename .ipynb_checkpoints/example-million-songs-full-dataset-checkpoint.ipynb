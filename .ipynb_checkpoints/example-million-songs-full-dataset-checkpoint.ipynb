{
 "cells": [
  {
   "cell_type": "code",
   "execution_count": 6,
   "metadata": {},
   "outputs": [],
   "source": [
    "from pyspark.sql import SparkSession\n",
    "\n",
    "# New API\n",
    "spark_session = SparkSession\\\n",
    "        .builder\\\n",
    "        .master(\"spark://192.168.1.153:7077\") \\\n",
    "        .appName(\"ben_million_songs_full_nfs\")\\\n",
    "        .config(\"spark.dynamicAllocation.enabled\", True)\\\n",
    "        .config(\"spark.shuffle.service.enabled\", True)\\\n",
    "        .config(\"spark.dynamicAllocation.executorIdleTimeout\",\"30s\")\\\n",
    "        .config(\"spark.executor.cores\",4)\\\n",
    "        .getOrCreate()\n",
    "\n",
    "# Old API (RDD)\n",
    "spark_context = spark_session.sparkContext"
   ]
  },
  {
   "cell_type": "code",
   "execution_count": 9,
   "metadata": {},
   "outputs": [
    {
     "name": "stdout",
     "output_type": "stream",
     "text": [
      "['file:/mnt/ms/data/X/Y/Z/TRXYZQF128F4261795.h5', 'file:/mnt/ms/data/X/Y/Z/TRXYZSV128F4283395.h5', 'file:/mnt/ms/data/X/Y/Z/TRXYZUL128F92C61C2.h5', 'file:/mnt/ms/data/X/Y/Z/TRXYZSK12903C93F8C.h5', 'file:/mnt/ms/data/X/Y/Z/TRXYZCZ128F421B478.h5', 'file:/mnt/ms/data/X/Y/Z/TRXYZWX128F4220237.h5', 'file:/mnt/ms/data/X/Y/Z/TRXYZRU128F92E90DC.h5', 'file:/mnt/ms/data/X/Y/Z/TRXYZHF128F428B065.h5', 'file:/mnt/ms/data/X/Y/Z/TRXYZYS128F424FA4F.h5', 'file:/mnt/ms/data/X/Y/Z/TRXYZCV128F9311952.h5']\n"
     ]
    }
   ],
   "source": [
    "# This directory needs to be mounted on (a) spark master (b) all workers (c) driver (notebook).\n",
    "lines = spark_context.binaryFiles(\"/mnt/ms/data/X/Y/Z/*\")\n",
    "print(lines.map(lambda x: x[0]).take(10))"
   ]
  },
  {
   "cell_type": "code",
   "execution_count": null,
   "metadata": {},
   "outputs": [],
   "source": []
  },
  {
   "cell_type": "code",
   "execution_count": null,
   "metadata": {},
   "outputs": [],
   "source": [
    "# release the cores for another application!\n",
    "# spark_context.stop()"
   ]
  }
 ],
 "metadata": {
  "kernelspec": {
   "display_name": "Python 3",
   "language": "python",
   "name": "python3"
  },
  "language_info": {
   "codemirror_mode": {
    "name": "ipython",
    "version": 3
   },
   "file_extension": ".py",
   "mimetype": "text/x-python",
   "name": "python",
   "nbconvert_exporter": "python",
   "pygments_lexer": "ipython3",
   "version": "3.6.7"
  }
 },
 "nbformat": 4,
 "nbformat_minor": 2
}
