{
 "cells": [
  {
   "cell_type": "code",
   "execution_count": 1,
   "metadata": {},
   "outputs": [],
   "source": [
    "from pyspark.sql import SparkSession\n",
    "\n",
    "# (8 cores, 16gb per machine) x 5 = 40 cores\n",
    "\n",
    "# New API\n",
    "spark_session = SparkSession\\\n",
    "        .builder\\\n",
    "        .master(\"local[1]\") \\\n",
    "        .appName(\"Project_19\")\\\n",
    "        .config(\"spark.dynamicAllocation.enabled\", True)\\\n",
    "        .config(\"spark.shuffle.service.enabled\", True)\\\n",
    "        .config(\"spark.dynamicAllocation.executorIdleTimeout\",\"30s\")\\\n",
    "        .config(\"spark.executor.cores\",4)\\\n",
    "        .getOrCreate()\n",
    "\n",
    "        \n",
    "        \n",
    "# Old API (RDD)\n",
    "spark_context = spark_session.sparkContext"
   ]
  },
  {
   "cell_type": "code",
   "execution_count": 137,
   "metadata": {
    "scrolled": true
   },
   "outputs": [
    {
     "name": "stdout",
     "output_type": "stream",
     "text": [
      "keys are [<HDF5 group \"/analysis\" (16 members)>, <HDF5 group \"/metadata\" (5 members)>, <HDF5 group \"/musicbrainz\" (3 members)>]\n",
      "\n",
      "<KeysViewHDF5 ['artist_terms', 'artist_terms_freq', 'artist_terms_weight', 'similar_artists', 'songs']>\n",
      "\n",
      "('analyzer_version', 'artist_7digitalid', 'artist_familiarity', 'artist_hotttnesss', 'artist_id', 'artist_latitude', 'artist_location', 'artist_longitude', 'artist_mbid', 'artist_name', 'artist_playmeid', 'genre', 'idx_artist_terms', 'idx_similar_artists', 'release', 'release_7digitalid', 'song_hotttnesss', 'song_id', 'title', 'track_7digitalid')\n",
      "[(b'', 165270, 0.58179377, 0.40199754, b'ARD7TVE1187B99BFB1', nan, b'California - LA', nan, b'e77e51a5-4761-45b3-9847-2051f811e366', b'Casual', 4479, b'', 0, 0, b'Fear Itself', 300848, 0.60211999, b'SOMZWCG12A8C13C480', b\"I Didn't Mean To\", 3401791)]\n",
      "artist_hotttnesss\n",
      "0.4019975433642836\n"
     ]
    },
    {
     "name": "stderr",
     "output_type": "stream",
     "text": [
      "/home/ubuntu/.local/lib/python3.6/site-packages/h5py/_hl/dataset.py:313: H5pyDeprecationWarning: dataset.value has been deprecated. Use dataset[()] instead.\n",
      "  \"Use dataset[()] instead.\", H5pyDeprecationWarning)\n"
     ]
    }
   ],
   "source": [
    "import h5py\n",
    "\n",
    "\n",
    "# Sample file from http://millionsongdataset.com/pages/getting-dataset/\n",
    "songs = h5py.File('b.h5') # type = HDF5 file.\n",
    "\n",
    "print(f'keys are {list(songs.values())}')\n",
    "group_analysis = songs['metadata'] # type: HDF5 group.\n",
    "print()\n",
    "print(group_analysis.keys()) # AttributeManager -- these are like a small metadata dictionary attached anywhere in the tree.\n",
    "\n",
    "#bars_start = songs['analysis']['bars_start'] # Dataset.\n",
    "\n",
    "# Lets look at a more complex table elsewhere in the tree...\n",
    "\n",
    "songs = songs['metadata']['songs'] # Dataset.\n",
    "\n",
    "# This dataset has rows and columns. Lets get the first row...\n",
    "song_row = songs.value\n",
    "print()\n",
    "# print the column names\n",
    "print(song_row.dtype.names)\n",
    "print(song_row)\n",
    "print(song_row.dtype.names[3])\n",
    "print(song_row[0][3])\n",
    "#print([song.decode(\"ASCII\") for song in song_row])\n",
    "\n",
    "\n",
    "\n",
    "# Note: these numpy and h5py data types will likely not survive or behave strangely when passed through Java.\n",
    "# You may need to extract the information you need, and convert it to regular python lists to 'survive the trip'.\"\"\""
   ]
  },
  {
   "cell_type": "code",
   "execution_count": 153,
   "metadata": {},
   "outputs": [
    {
     "name": "stdout",
     "output_type": "stream",
     "text": [
      "(b'', 165270, 0.58179377, 0.40199754, b'ARD7TVE1187B99BFB1', nan, b'California - LA', nan, b'e77e51a5-4761-45b3-9847-2051f811e366', b'Casual', 4479, b'', 0, 0, b'Fear Itself', 300848, 0.60211999, b'SOMZWCG12A8C13C480', b\"I Didn't Mean To\", 3401791)\n",
      "[b'ARV4KO21187FB38008' b'ARWHM281187FB3D381' b'ARJGOG11187B98D89F'\n",
      " b'AR9ODB41187FB459B2' b'ARXM6VQ1187FB5B1E0' b'ARNWZ1N1187B9B71BA'\n",
      " b'ARDWYZZ11F4C8413FA' b'ARTP3H51187B98FB75' b'ARWCDXN12454A4D1E8'\n",
      " b'ARJ54S61187B9ACD39' b'AR5PF241187B989C1D' b'ARR7MLL1187B99B636'\n",
      " b'ARLMHFV1187B9A3833' b'ARPRERY1187B99E2DC' b'AR34BCQ1187B9A68E4'\n",
      " b'ARFWBUC11F4C8413DA' b'ARPWGMN1187FB560E3' b'ARVCIVW12454A4D1E7'\n",
      " b'ARG89HY1187FB3CA15' b'AR9IGU51187FB40D6B' b'ARNNOYR11F4C845127'\n",
      " b'ARZMFNT11F4C8413DD' b'ARPR9W71187FB3723A' b'AR5VBGP1187B98EB43'\n",
      " b'ARFHDOI1187FB57230' b'ARBSQPF11F4C8413E0' b'AROYGID11F4C8413DB'\n",
      " b'ARDXUGZ11F4C84452F' b'ARMW4I01187B98AEF8' b'AR7AYQG1187B994B3F'\n",
      " b'ARHVZEM11F4C841FF9' b'ARP9H0U1187FB3FEA7' b'ARVSIGU11F4C8413E6'\n",
      " b'AROWKNS1187FB59ED5' b'ARUSTLW11F4C8413DE' b'ARSKPDX11F4C83D2A9'\n",
      " b'ARB4D891187B9954F7' b'ARRIWD31187B9A9B4A' b'ARNAAQH11F4C8413E1'\n",
      " b'ARVRVYO11F4C8413DF' b'ARNIZ5P1187B989AF5' b'AR6YR7H1187FB40D23'\n",
      " b'ARVAOCN12454A4CD5D' b'ARQN3MO1187B98A811' b'AR6M50Z1187B9A3503'\n",
      " b'ARYEBOD11F4C83CD89' b'ARQTORN11F50C4CED2' b'ARUGOBE1269FCD74CE'\n",
      " b'ARD3STO1187FB3E36A' b'ARXU8YQ1187B999861' b'AR0D3LM1187B9B9592'\n",
      " b'ARCTCBU11F4C8413DC' b'ARAVZPG1187B98F815' b'AR79GH61187B993492'\n",
      " b'ARBCGAP12086C13383' b'ARLQK3P1187FB42113' b'ARGNP1T1187FB5024D'\n",
      " b'ARDIP5S1187FB57056' b'ARWG53T1187FB44281' b'ARV7RUN1187B9AF59C'\n",
      " b'ARHAEF41187FB38ECB' b'AR6UET41187B98C8BE' b'ARYYFT91187FB50113'\n",
      " b'ARD1KGL1187B98C838' b'ARKBKTR1187FB39255' b'ARRPOUR1187FB4D0BA'\n",
      " b'AR6VXP71187FB5B898' b'ARRWZGD11F50C4EDAE' b'ARVCPYN11F4C83B19D'\n",
      " b'AROKSCN1269FCD6CF1' b'AR7YOK41187B9A3E0C' b'ARSVLBA11F50C5126C'\n",
      " b'ARGVYYD11C8A416342' b'ARSK1IB1187B996850' b'ARD39VZ1187B9B9A57'\n",
      " b'ARIPNAN1187FB3E577' b'ARK276D1187FB3D8FC' b'AROWLBR11F4C84790E'\n",
      " b'ARRX19M1187FB5756D' b'ARLERFY11F50C4ABF2' b'ARJ5PHW119B8668EB3'\n",
      " b'ARQIMRI11F4C845124' b'AR6S4EF1187B99A528' b'ARYSPOI11F4C847915'\n",
      " b'ARVFENS11F50C4ABE5' b'ARTH9041187FB43E1F' b'ARRZSQJ1269FB30A5F'\n",
      " b'ARWFREB1187B98B09D' b'ARZ3EIB1187B989D35' b'ARNHXXE11F4C84129E'\n",
      " b'ARACWVH1187FB55452' b'AR3QS2R1187B9953C7' b'ARTXGGI1187B9B3D58'\n",
      " b'AR92C2I1187FB4161C' b'ARNNCRQ11F50C4ABE7' b'ARQPFMZ1187B9B1504'\n",
      " b'ARPZEFW11F50C47E67' b'ARSIEKZ122ECCBC0B1' b'AR0WMTB1187B9A8E0F'\n",
      " b'ARHRRWZ11F4C846224']\n"
     ]
    }
   ],
   "source": [
    "songs = h5py.File('b.h5')\n",
    "songs = songs[\"metadata\"]\n",
    "print(songs[\"songs\"][0])\n",
    "print(songs['similar_artists'][:])\n"
   ]
  },
  {
   "cell_type": "code",
   "execution_count": 154,
   "metadata": {
    "scrolled": true
   },
   "outputs": [],
   "source": [
    "import io, time\n",
    "from pyspark.sql import Row\n",
    "from pyspark.sql.types import *\n",
    "from pyspark.sql.functions import monotonically_increasing_id\n",
    "\n",
    "#rdd = spark_context.binaryFiles(\"hdfs://host-192-168-1-153-ldsa:9000/millionsongs/data/A/B/*\")\n",
    "rdd = spark_context.binaryFiles(\"/mnt/ms/data/A/B/*\")\n",
    "\n",
    "def f(x):\n",
    "    with h5py.File(io.BytesIO(x[1])) as f:\n",
    "        \n",
    "        f_meta = f['metadata'][\"songs\"]\n",
    "        f_analys = f['analysis'][\"songs\"]\n",
    "        f_brainz = f['musicbrainz'][\"songs\"]\n",
    "        \n",
    "        return ((f_meta[0][-3].decode(), f_meta[0][-2].decode(),\n",
    "                f_meta[0][9].decode(), f_meta[0][-6].decode(),\n",
    "                float(f_analys[0][3]), float(f_meta[0][-4]),\n",
    "                float(f_analys[0][2]), float(f_analys[0][23]), \n",
    "                float(f_analys[0][-4]), int(f_brainz[0][1])), \n",
    "               \n",
    "                (f_meta[0][4].decode(), f_meta[0][9].decode(),\n",
    "                f_meta[0][6].decode(), float(f_meta[0][3])))\n",
    "\n",
    "rdd = rdd.map(f)\n",
    "rdd_songs = rdd.map(lambda x : x[0])\n",
    "rdd_artists = rdd.map(lambda x : x[1])"
   ]
  },
  {
   "cell_type": "code",
   "execution_count": 116,
   "metadata": {},
   "outputs": [
    {
     "name": "stdout",
     "output_type": "stream",
     "text": [
      "+------------------+--------------------+--------------------+--------------------+---------+----------+------------+--------+-------+----+\n",
      "|           song_id|               title|         artist_name|       release_album| duration|   hotness|danceability|loudness|  tempo|year|\n",
      "+------------------+--------------------+--------------------+--------------------+---------+----------+------------+--------+-------+----+\n",
      "|SOPLQMB12AC4686313|Girl Of Mysteriou...|           MARC COHN|    Burning The Daze| 257.5669|       0.0|         0.0| -13.107|102.073|1998|\n",
      "|SOFJWKK12AB01826CD|The Cookie Bakers...|      Laurie Berkner|           Buzz Buzz|233.45587|       0.0|         0.0| -16.263| 144.71|2001|\n",
      "|SOHNDZB12A8C13EDB8|      Shooting Stars|           Cauterize|    So Far From Real|240.43057|0.71432906|         0.0|  -4.714| 97.148|2003|\n",
      "|SOAPGDK12A6D4FAF5E|        The Blessing|                 Joi|        Without Zero|333.24362|0.44369507|         0.0|  -4.141| 95.973|   0|\n",
      "|SOUYWLC12AB0181B41|     Sappy Love Song|         Buck-O-Nine|Songs In The Key ...|202.55302| 0.4806106|         0.0|  -9.946|169.449|1994|\n",
      "|SOSDZFY12A8C143718|           Forgotten|    Callenish Circle|   Forbidden Empathy|226.11546|0.50338125|         0.0|  -7.237|184.453|1999|\n",
      "|SOHDQHR12AB018A98F|          Fast Girls|        The Kingbees| The Kingbees I & II|119.66649|       NaN|         0.0|  -9.212|201.974|1980|\n",
      "|SOETQOF12A8C14494B|   Our Day Will Come|    Angelic Upstarts|Blood On The Terr...| 229.1979|       NaN|         0.0|  -9.551|147.936|1987|\n",
      "|SOCMOPC12A58A7D3C6|           The Story|   Tristan Prettyman|t w e n t y t h r...|175.22893| 0.6641728|         0.0|  -7.713| 72.708|2005|\n",
      "|SOZJQZM12A67ADAE49|The Creatures Are...|Murder At The Reg...|      filed: '93-'03|244.71465|       NaN|         0.0|  -6.589| 87.061|2003|\n",
      "|SOAYYRV12AAF3B522A|            Falstaff|  The Watts Prophets|Things Gonna Get ...|  96.1824|       0.0|         0.0| -12.718|164.842|2005|\n",
      "|SOTCPOF12AB01885FE|Doctor Of Hearts ...|        THE CHIFFONS|    60's Girl Groups|  166.922|       0.0|         0.0|    -7.0|120.712|   0|\n",
      "|SOSYIET12A6D4FB3CF|             Feel It|      Hassaan Mackey|Rawkus 50 Present...|266.00443|0.21508032|         0.0|  -5.101|120.617|   0|\n",
      "|SOLDELA12AB0180E83|(There'll Be) Pea...|       Elvis Presley|Blue Christmas Wi...| 200.0975|       NaN|         0.0|  -16.34| 67.219|   0|\n",
      "|SOSEFMC12A8C136D2A|         Qui Es-tu ?|           Percubaba|       Dream & Strup| 289.6714| 0.3589765|         0.0|  -7.868| 99.307|   0|\n",
      "|SOUKNJR12A6D4FCC29|   Torturing My Soul|           Magic Sam|           Magic Sam| 237.5571|0.27784988|         0.0| -13.549|  93.51|   0|\n",
      "|SOERPNN12A58A7D057|     La Vida En Rosa| S. Solis y Orquesta|Instrumental Acor...|182.20363|0.19858672|         0.0| -11.415| 63.007|   0|\n",
      "|SOLBDTR12AB0182326|Paginas Muertas -...|     Olimpo Cardenas|Olimpo Cardenas' ...| 172.7473|       NaN|         0.0| -14.417|196.784|   0|\n",
      "|SORNVIM12AB0186FFF|   Come See About Me|     Shakin' Stevens|The Epic Masters ...| 351.5816|       NaN|         0.0|  -3.567|125.258|2007|\n",
      "|SOJXMRA12A58A7A875|Little Bitty Pret...|           Dee Clark|       Greatest Hits|141.19138|       NaN|         0.0|   -9.56| 91.704|   0|\n",
      "+------------------+--------------------+--------------------+--------------------+---------+----------+------------+--------+-------+----+\n",
      "only showing top 20 rows\n",
      "\n"
     ]
    }
   ],
   "source": [
    "attributes = rdd_songs.map(lambda p: Row(p[0], p[1], p[2], p[3], p[4], p[5], p[6], p[7], p[8], p[9]))\n",
    "fields = [StructField(\"song_id\", StringType(), True), StructField(\"title\", StringType(), True), \n",
    "          StructField(\"artist_name\", StringType(), True), StructField(\"release_album\", StringType(), True), \n",
    "          StructField(\"duration\", FloatType(), True), StructField(\"hotness\", FloatType(), True), \n",
    "          StructField(\"danceability\", FloatType(), True), StructField(\"loudness\", FloatType(), True), \n",
    "          StructField(\"tempo\", FloatType(), True), StructField(\"year\", IntegerType())]\n",
    "schema = StructType(fields)\n",
    "\n",
    "df_songs = spark_session.createDataFrame(attributes, schema)\n",
    "df_songs.show()"
   ]
  },
  {
   "cell_type": "code",
   "execution_count": 155,
   "metadata": {},
   "outputs": [
    {
     "name": "stdout",
     "output_type": "stream",
     "text": [
      "+------------------+--------------------+--------------------+----------+-----------+\n",
      "|                id|                name|            location|   hotness| id_created|\n",
      "+------------------+--------------------+--------------------+----------+-----------+\n",
      "|AR53H581187B9A93F9|        Sylvie Lewis|     California - LA|0.31954274|          0|\n",
      "|ARX4VP21187FB37BF9|      The Alter Boys|                    |0.43073228|          1|\n",
      "|ARV2MS01187FB39026|          Les Baxter|         Detroit, MI|0.41340813|          2|\n",
      "|ARK893O1187B994919|    The Mayflies USA|                    |0.24001746|          3|\n",
      "|AREC15G1187B9B84F2|           Sly Stone|   San Francisco, CA|0.47389132| 8589934592|\n",
      "|AR6QMID1187FB53957|             Caravan|             England|0.41063988| 8589934593|\n",
      "|ARN94E81187B9A124F|              Soweto|                    | 0.3330376| 8589934594|\n",
      "|ARWXN5D1187FB470CF|             Buck 65|Sackville, Nova S...| 0.4442687| 8589934595|\n",
      "|ARENGZO1187FB4CEB4|    Angelic Upstarts|Sheffield, Yorksh...|0.37944567|17179869184|\n",
      "|ARIN19M1187FB371C6|SugaRush Beat Com...|Internationally p...| 0.3409934|17179869185|\n",
      "|ARTOFYC11E2835D5E5|Vitamin String Qu...|     Los Angeles, ca| 0.5508624|17179869186|\n",
      "|AR12C1U1187FB51104|    Derniere Volonte|                    |       0.0|17179869187|\n",
      "|ARBIRGY11E2835D271|       The Derailers|          Austin, TX| 0.4155895|17179869188|\n",
      "|AR9AWNF1187B9AB0B4|Kenny G featuring...|Seattle, Washingt...|0.55021256|17179869189|\n",
      "|ARMH5LA1187B99D776|Ciaran Tourish_ D...|                    |       0.0|17179869190|\n",
      "|ARKCKFJ1187FB36D08|                Yazz|                    |0.37615877|17179869191|\n",
      "|ARBYTNW11F50C51447|        Rômulo Fróes|                    |0.23262708|25769803776|\n",
      "|AR1HRPE1187B98BD21|          Crossroads|              Kansas|0.30906263|25769803777|\n",
      "|AR2JD2Z1187B998A90|        Ethel Merman|New York, NY [Ast...|0.34125477|25769803778|\n",
      "|ARRNUI21187B995335|          Rumillajta|                    |0.32041842|25769803779|\n",
      "+------------------+--------------------+--------------------+----------+-----------+\n",
      "only showing top 20 rows\n",
      "\n"
     ]
    }
   ],
   "source": [
    "attributes = rdd_artists.map(lambda p: Row(p[0], p[1], p[2], p[3]))\n",
    "fields = [StructField(\"id\", StringType(), True), StructField(\"name\", StringType(), True), \n",
    "          StructField(\"location\", StringType(), True), StructField(\"hotness\", FloatType(), True)]\n",
    "schema = StructType(fields)\n",
    "\n",
    "df_artists = spark_session.createDataFrame(attributes, schema)\\\n",
    "                          .dropDuplicates()\n",
    "df_artists.show()"
   ]
  },
  {
   "cell_type": "code",
   "execution_count": null,
   "metadata": {},
   "outputs": [],
   "source": []
  },
  {
   "cell_type": "code",
   "execution_count": 114,
   "metadata": {},
   "outputs": [
    {
     "data": {
      "text/plain": [
       "[Row(id='3058822f-8e58-4427-820a-8f7a279887c1', name='Heinz Rudolf Kunze', location='Espelkamp-Mittwald, Germany', hotness=0.38667646050453186, id_created=0),\n",
       " Row(id='b4806361-a71f-4bf3-981b-e65412b5e536', name='Shola Ama_ Wiley_ Devlin & J2k', location='', hotness=0.4184960424900055, id_created=1),\n",
       " Row(id='1f57081f-3478-4824-ab72-8f1b419ea330', name='Neil Norman', location='', hotness=0.2580132484436035, id_created=2),\n",
       " Row(id='79051997-aa72-4c72-8993-33e78fe72668', name='Tsujiko Noriko', location='日本の大阪市 (Osaka, Japan)', hotness=0.4096820652484894, id_created=3),\n",
       " Row(id='01a5a6cb-f361-4738-bcba-f40bd5553f3c', name='Kelly Llorenna', location='', hotness=0.4227825701236725, id_created=4),\n",
       " Row(id='5ca3f318-d028-4151-ac73-78e2b2d6cdcc', name='Tom Petty', location='Gainesville, FL', hotness=0.5683504939079285, id_created=5),\n",
       " Row(id='3531715d-fee3-4c5b-82ff-5d85865b598b', name='Reinhard Mey', location='Berlin, Germany', hotness=0.3998229503631592, id_created=6),\n",
       " Row(id='e77e51a5-4761-45b3-9847-2051f811e366', name='Casual', location='California - LA', hotness=0.40199753642082214, id_created=7),\n",
       " Row(id='09760ba8-f103-4c60-ada8-7d30f16c2e23', name='Kasia Stankiewicz', location='', hotness=0.3993726670742035, id_created=8),\n",
       " Row(id='73fdb566-a9b1-494c-9f32-51768ec9fd27', name='OutKast', location='Atlanta, GA', hotness=0.5744970440864563, id_created=9),\n",
       " Row(id='', name='Eddie Sierra', location='', hotness=0.15337054431438446, id_created=10),\n",
       " Row(id='a5249ff4-11d4-4c19-afd4-94bb41c1756b', name='Alan Sorrenti', location='', hotness=0.37084540724754333, id_created=11),\n",
       " Row(id='daeec599-bf5d-4428-994a-e76ba5f86e2f', name='Passion Pit', location='Laval Quebec Canada', hotness=0.4970235228538513, id_created=12),\n",
       " Row(id='afed4881-8d2e-4c43-86a4-ef81e005339c', name='Crime And The City Solution', location='', hotness=0.38571637868881226, id_created=13),\n",
       " Row(id='6e987552-beba-4cc2-900d-ac01c7b4c964', name='Liam Lynch', location='', hotness=0.38786768913269043, id_created=14),\n",
       " Row(id='d5c51c36-ac67-4727-91ed-ee9f0df81a2d', name='Gloria Gaynor', location='Newark, NJ', hotness=0.4838910698890686, id_created=15),\n",
       " Row(id='13cc5114-c93a-4a7b-bfaf-d8d5b57a0126', name='Down To The Bone', location='', hotness=0.370632529258728, id_created=16),\n",
       " Row(id='d0630a08-3b40-4cb4-9f48-7d525262c1f6', name='Bill Evans Trio', location='', hotness=0.4480404853820801, id_created=8589934592),\n",
       " Row(id='66d8b7c7-8096-4096-b528-04489969e452', name='SKOLD vs. KMFDM', location='', hotness=0.35658034682273865, id_created=8589934593),\n",
       " Row(id='5e6c760b-42e0-4df4-a221-0269355da00a', name='Dean Martin', location='Steubenville, OH', hotness=0.6432403326034546, id_created=8589934594),\n",
       " Row(id='9fb6a4e2-f512-44df-a1a8-9630d94267c0', name='Sylvie Lewis', location='California - LA', hotness=0.3195427358150482, id_created=8589934595),\n",
       " Row(id='f96ebe5e-fa84-4583-95b0-962a1b0f1b57', name='G. Love', location='', hotness=0.5110755562782288, id_created=8589934596),\n",
       " Row(id='', name='Beatnuts', location='', hotness=0.2855232357978821, id_created=8589934597),\n",
       " Row(id='ede4d4ea-a1a9-4a6c-8f32-8c25cbc0d87b', name='Comfort', location='UK - England - South East', hotness=0.405043363571167, id_created=8589934598),\n",
       " Row(id='7935ac9d-f99f-4659-8eb4-59dc1d20e811', name='Reel People', location='', hotness=0.3833906352519989, id_created=8589934599),\n",
       " Row(id='0627192d-4fed-4f4b-bad8-383bb42fa8fa', name='Patrick Doyle', location='', hotness=0.42613402009010315, id_created=8589934600),\n",
       " Row(id='6fe07aa5-fec0-4eca-a456-f29bff451b04', name='Weezer', location='', hotness=0.7761677503585815, id_created=8589934601),\n",
       " Row(id='579e89d2-af42-4e73-acad-762abffee08a', name='Wrangler Brutes', location='Los Angeles, CA', hotness=0.3947207033634186, id_created=17179869184),\n",
       " Row(id='17c886c7-1442-4031-8430-41cb98d4c5f4', name='PFR', location='', hotness=0.38439929485321045, id_created=17179869185),\n",
       " Row(id='a68a1001-8a09-4d8c-8083-289885825200', name='Joaquin Phoenix', location='Alexandria, VA', hotness=0.4454583525657654, id_created=17179869186),\n",
       " Row(id='278fe007-ee33-410c-be59-eabb4b87b68f', name='Mediaeval Baebes', location='UK - England - London', hotness=0.47749558091163635, id_created=17179869187),\n",
       " Row(id='0f99692b-2ac7-4cd4-9986-682d0c7fb8fe', name='Jackopierce', location='Dallas, TX', hotness=0.3805464506149292, id_created=17179869188),\n",
       " Row(id='7dc35846-c93a-4261-b665-ae750e3afdfb', name='Johnny Gill', location='COLUMBIA, Maryland', hotness=0.37721362709999084, id_created=17179869189),\n",
       " Row(id='84d06499-0643-46b8-9e1f-45f743a53f5e', name='Bananarama', location='London, England', hotness=0.4355531632900238, id_created=17179869190),\n",
       " Row(id='b91c664b-5eee-4536-8b70-b1f2be519ac0', name='Alison Krauss / Union Station', location='', hotness=0.4253261089324951, id_created=17179869191),\n",
       " Row(id='637dac7c-29fe-421c-ba3a-8a4ec5bff202', name='nor elle', location='', hotness=0.39193907380104065, id_created=17179869192),\n",
       " Row(id='b8686ad9-6aa7-45b4-b97c-f9d1042f44cb', name='Los Wawanco', location='', hotness=0.27745163440704346, id_created=17179869193),\n",
       " Row(id='04271c28-b9a7-4724-b7fd-022409fbce60', name='Herbie Mann', location='Brooklyn, NY', hotness=0.368379682302475, id_created=17179869194),\n",
       " Row(id='fae2cd4c-f847-4cb3-b311-60c8906cdb0b', name='The Smithereens', location='Carteret, New Jersey', hotness=0.40501469373703003, id_created=17179869195),\n",
       " Row(id='ff2ea20a-7ad4-4dc1-8223-0fef02b8136f', name='The Planets', location='Manchester', hotness=0.3643111288547516, id_created=25769803776),\n",
       " Row(id='4bf9b00d-5f32-4b6f-badb-ad7bda086cb9', name='Lisa Lynne', location='California - LA', hotness=0.42093774676322937, id_created=25769803777),\n",
       " Row(id='4da511d4-4dfe-4389-9c0a-4ecf35cb0467', name='KJ Sawka', location='', hotness=0.3581836521625519, id_created=25769803778),\n",
       " Row(id='f0bea941-5c7e-4253-ad43-5ba3c5a5f14d', name='Russ Ballard', location='Waltham Cross, Hertfordshire, Eng', hotness=0.3337295353412628, id_created=25769803779),\n",
       " Row(id='44be840b-bc58-4f43-8321-2675b4d72b2a', name='Kristian Meurman', location='', hotness=0.39410528540611267, id_created=25769803780),\n",
       " Row(id='859a5c63-08df-42da-905c-7307f56db95d', name='Code 64', location='NORWAY', hotness=0.42179200053215027, id_created=25769803781),\n",
       " Row(id='330966e4-cac3-4e19-927e-0fcb14225547', name='Desorden Público', location='', hotness=0.3852531313896179, id_created=25769803782),\n",
       " Row(id='be00eda8-a3ef-45ac-b70a-de21bcd61562', name='Buck-O-Nine', location='San Diego, CA', hotness=0.37278157472610474, id_created=34359738368),\n",
       " Row(id='97ca435a-8894-411f-9916-89b31d33017f', name='Tim Keegan', location='', hotness=0.25916826725006104, id_created=34359738369),\n",
       " Row(id='2f9553b9-98be-455f-859f-8dcea40c40aa', name='Sisterhood of Convoluted Thinkers', location='', hotness=0.20512071251869202, id_created=34359738370),\n",
       " Row(id='fc61dd75-880b-44ba-9ba9-c7b643d33413', name='Prefuse 73', location='', hotness=0.4454011619091034, id_created=34359738371)]"
      ]
     },
     "execution_count": 114,
     "metadata": {},
     "output_type": "execute_result"
    }
   ],
   "source": [
    "df_artists.take(50)"
   ]
  },
  {
   "cell_type": "markdown",
   "metadata": {},
   "source": [
    "df_artists.where(df_artists.name.like(\"%MARC%\")).show()"
   ]
  },
  {
   "cell_type": "code",
   "execution_count": null,
   "metadata": {},
   "outputs": [],
   "source": [
    "df.count()"
   ]
  },
  {
   "cell_type": "code",
   "execution_count": null,
   "metadata": {},
   "outputs": [],
   "source": [
    "# release the cores for another application!\n",
    "spark_context.stop()"
   ]
  }
 ],
 "metadata": {
  "kernelspec": {
   "display_name": "Python 3",
   "language": "python",
   "name": "python3"
  },
  "language_info": {
   "codemirror_mode": {
    "name": "ipython",
    "version": 3
   },
   "file_extension": ".py",
   "mimetype": "text/x-python",
   "name": "python",
   "nbconvert_exporter": "python",
   "pygments_lexer": "ipython3",
   "version": "3.6.7"
  }
 },
 "nbformat": 4,
 "nbformat_minor": 2
}
