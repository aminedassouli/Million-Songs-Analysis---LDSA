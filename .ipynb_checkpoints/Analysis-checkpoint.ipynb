{
 "cells": [
  {
   "cell_type": "code",
   "execution_count": 12,
   "metadata": {},
   "outputs": [],
   "source": [
    "from pyspark.sql import SparkSession\n",
    "\n",
    "# (8 cores, 16gb per machine) x 5 = 40 cores\n",
    "\n",
    "# New API\n",
    "spark_session = SparkSession\\\n",
    "        .builder\\\n",
    "        .master(\"spark://host-192-168-1-153-ldsa:7077\") \\\n",
    "        .appName(\"Project_1\")\\\n",
    "        .config(\"spark.dynamicAllocation.enabled\", True)\\\n",
    "        .config(\"spark.shuffle.service.enabled\", True)\\\n",
    "        .config(\"spark.dynamicAllocation.executorIdleTimeout\",\"30s\")\\\n",
    "        .config(\"spark.executor.cores\",8)\\\n",
    "        .getOrCreate()\n",
    "\n",
    "        \n",
    "        \n",
    "# Old API (RDD)\n",
    "spark_context = spark_session.sparkContext"
   ]
  },
  {
   "cell_type": "code",
   "execution_count": 13,
   "metadata": {
    "scrolled": true
   },
   "outputs": [
    {
     "name": "stdout",
     "output_type": "stream",
     "text": [
      "keys are [<HDF5 group \"/analysis\" (16 members)>, <HDF5 group \"/metadata\" (5 members)>, <HDF5 group \"/musicbrainz\" (3 members)>]\n",
      "<KeysViewHDF5 ['artist_terms', 'artist_terms_freq', 'artist_terms_weight', 'similar_artists', 'songs']>\n",
      "('analyzer_version', 'artist_7digitalid', 'artist_familiarity', 'artist_hotttnesss', 'artist_id', 'artist_latitude', 'artist_location', 'artist_longitude', 'artist_mbid', 'artist_name', 'artist_playmeid', 'genre', 'idx_artist_terms', 'idx_similar_artists', 'release', 'release_7digitalid', 'song_hotttnesss', 'song_id', 'title', 'track_7digitalid')\n",
      "[(b'', 1998, 0.63063004, 0.41749964, b'ARMJAGH1187FB546F3', 35.14968, b'Memphis, TN', -90.04892, b'1c78ab62-db33-4433-8d0b-7c8dcf1849c2', b'The Box Tops', 22066, b'', 0, 0, b'Dimensions', 300822, nan, b'SOCIWDW12A8C13D406', b'Soul Deep', 3400270)]\n"
     ]
    },
    {
     "name": "stderr",
     "output_type": "stream",
     "text": [
      "/home/ubuntu/.local/lib/python3.6/site-packages/h5py/_hl/dataset.py:313: H5pyDeprecationWarning: dataset.value has been deprecated. Use dataset[()] instead.\n",
      "  \"Use dataset[()] instead.\", H5pyDeprecationWarning)\n"
     ]
    }
   ],
   "source": [
    "import h5py\n",
    "\n",
    "\n",
    "# Sample file from http://millionsongdataset.com/pages/getting-dataset/\n",
    "songs = h5py.File('a.h5') # type = HDF5 file.\n",
    "\n",
    "print(f'keys are {list(songs.values())}')\n",
    "group_analysis = songs['metadata'] # type: HDF5 group.\n",
    "\n",
    "print(group_analysis.keys()) # AttributeManager -- these are like a small metadata dictionary attached anywhere in the tree.\n",
    "\n",
    "#bars_start = songs['analysis']['bars_start'] # Dataset.\n",
    "\n",
    "# Lets look at a more complex table elsewhere in the tree...\n",
    "\n",
    "songs = songs['metadata']['songs'] # Dataset.\n",
    "\n",
    "# This dataset has rows and columns. Lets get the first row...\n",
    "song_row = songs.value\n",
    "\n",
    "# print the column names\n",
    "print(song_row.dtype.names)\n",
    "print(song_row)\n",
    "#print([song.decode(\"ASCII\") for song in song_row])\n",
    "\n",
    "\n",
    "# Note: these numpy and h5py data types will likely not survive or behave strangely when passed through Java.\n",
    "# You may need to extract the information you need, and convert it to regular python lists to 'survive the trip'.\"\"\""
   ]
  },
  {
   "cell_type": "code",
   "execution_count": 14,
   "metadata": {
    "scrolled": true
   },
   "outputs": [],
   "source": [
    "import io, time\n",
    "t = time.time()\n",
    "rdd = spark_context.binaryFiles(\"hdfs://host-192-168-1-153-ldsa:9000/millionsongs/data/A/B/*\")\n",
    "# or load all the files with some wildcards...\n",
    "#rdd = spark_context.binaryFiles(\"hdfs://host-192-168-1-153-ldsa:9000/millionsongs/data/*/*/*/*\")\n",
    "\n",
    "def f(x):\n",
    "    # return print(sys.path)\n",
    "    \n",
    "    # x[0] = filename\n",
    "    # x[1] = binary content\n",
    "    with h5py.File(io.BytesIO(x[1])) as f:\n",
    "        # drill down with a path\n",
    "        # we need to convert to a \"python list\" -- custom types won't survive the round-trip via Java...\n",
    "        f_meta = f['metadata'][\"songs\"]\n",
    "        f_analys = f['analysis'][\"songs\"]\n",
    "        # g is a 'dataset' type.\n",
    "        return (f_meta[0][-3].decode(), f_meta[0][-2].decode(),\n",
    "                f_meta[0][9].decode(),\n",
    "                float(f_analys[0][3]), float(f_analys[0][2]))\n",
    "\n",
    "rdd = rdd.map(f)\n"
   ]
  },
  {
   "cell_type": "code",
   "execution_count": null,
   "metadata": {},
   "outputs": [],
   "source": [
    "from pyspark.sql import Row\n",
    "from pyspark.sql.types import *\n",
    "people = rdd.map(lambda p: Row(p[0], p[1], p[2], p[3], p[4]))\n",
    "schemaString = \"song_id title artist_name duration danceability\"\n",
    "fields = [StructField(\"song_id\", StringType(), True), StructField(\"title\", StringType(), True), \n",
    "          StructField(\"artist_name\", StringType(), True),\n",
    "          StructField(\"duration\", FloatType(), True), StructField(\"danceability\", FloatType(), True)]\n",
    "schema = StructType(fields)\n",
    "df = spark_session.createDataFrame(people, schema)\n",
    "df.show()\n",
    "print(time.time() - t)"
   ]
  },
  {
   "cell_type": "code",
   "execution_count": 11,
   "metadata": {},
   "outputs": [],
   "source": [
    "# release the cores for another application!\n",
    "spark_context.stop()"
   ]
  },
  {
   "cell_type": "code",
   "execution_count": null,
   "metadata": {},
   "outputs": [],
   "source": []
  }
 ],
 "metadata": {
  "kernelspec": {
   "display_name": "Python 3",
   "language": "python",
   "name": "python3"
  },
  "language_info": {
   "codemirror_mode": {
    "name": "ipython",
    "version": 3
   },
   "file_extension": ".py",
   "mimetype": "text/x-python",
   "name": "python",
   "nbconvert_exporter": "python",
   "pygments_lexer": "ipython3",
   "version": "3.6.7"
  }
 },
 "nbformat": 4,
 "nbformat_minor": 2
}
