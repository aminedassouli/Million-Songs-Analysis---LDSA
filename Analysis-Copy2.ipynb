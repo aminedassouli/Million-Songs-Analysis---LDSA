{
 "cells": [
  {
   "cell_type": "code",
   "execution_count": 14,
   "metadata": {},
   "outputs": [],
   "source": [
    "from pyspark.sql import SparkSession\n",
    "\n",
    "# New API\n",
    "spark_session = SparkSession\\\n",
    "        .builder\\\n",
    "        .master(\"spark://192.168.1.153:7077\")  \\\n",
    "        .appName(\"ben_million_songs_full_nfs\")\\\n",
    "        .config(\"spark.dynamicAllocation.enabled\", True)\\\n",
    "        .config(\"spark.shuffle.service.enabled\", True)\\\n",
    "        .config(\"spark.dynamicAllocation.executorIdleTimeout\",\"30s\")\\\n",
    "        .config(\"spark.executor.cores\",4)\\\n",
    "        .getOrCreate()\n",
    "\n",
    "# Old API (RDD)\n",
    "spark_context = spark_session.sparkContext"
   ]
  },
  {
   "cell_type": "code",
   "execution_count": 15,
   "metadata": {},
   "outputs": [
    {
     "name": "stdout",
     "output_type": "stream",
     "text": [
      "['file:/mnt/ms/data/X/Y/Z/TRXYZQF128F4261795.h5', 'file:/mnt/ms/data/X/Y/Z/TRXYZSV128F4283395.h5', 'file:/mnt/ms/data/X/Y/Z/TRXYZUL128F92C61C2.h5', 'file:/mnt/ms/data/X/Y/Z/TRXYZSK12903C93F8C.h5', 'file:/mnt/ms/data/X/Y/Z/TRXYZCZ128F421B478.h5', 'file:/mnt/ms/data/X/Y/Z/TRXYZWX128F4220237.h5', 'file:/mnt/ms/data/X/Y/Z/TRXYZRU128F92E90DC.h5', 'file:/mnt/ms/data/X/Y/Z/TRXYZHF128F428B065.h5', 'file:/mnt/ms/data/X/Y/Z/TRXYZYS128F424FA4F.h5', 'file:/mnt/ms/data/X/Y/Z/TRXYZCV128F9311952.h5']\n"
     ]
    }
   ],
   "source": [
    "lines = spark_context.binaryFiles(\"/mnt/ms/data/X/Y/Z/*\")\n",
    "print(lines.map(lambda x: x[0]).take(10))"
   ]
  },
  {
   "cell_type": "code",
   "execution_count": 16,
   "metadata": {},
   "outputs": [],
   "source": [
    "import h5py\n",
    "import sys\n",
    "import io"
   ]
  },
  {
   "cell_type": "code",
   "execution_count": 18,
   "metadata": {},
   "outputs": [
    {
     "data": {
      "text/plain": [
       "[['analysis', 'metadata', 'musicbrainz']]"
      ]
     },
     "execution_count": 18,
     "metadata": {},
     "output_type": "execute_result"
    }
   ],
   "source": [
    "rdd = spark_context.binaryFiles(\"hdfs://host-192-168-1-153-ldsa:9000/millionsongs/data/A/A/A/TRAAAAW128F429D538.h5\")\n",
    "def f(x):\n",
    "    with h5py.File(io.BytesIO(x[1])) as f:\n",
    "         return list(f.keys())\n",
    "         g = f['metadata']['artist_terms']\n",
    "         return g[1]\n",
    "rdd = rdd.map(f)\n",
    "rdd.collect()"
   ]
  },
  {
   "cell_type": "code",
   "execution_count": null,
   "metadata": {},
   "outputs": [],
   "source": []
  },
  {
   "cell_type": "code",
   "execution_count": null,
   "metadata": {},
   "outputs": [],
   "source": []
  }
 ],
 "metadata": {
  "kernelspec": {
   "display_name": "Python 3",
   "language": "python",
   "name": "python3"
  },
  "language_info": {
   "codemirror_mode": {
    "name": "ipython",
    "version": 3
   },
   "file_extension": ".py",
   "mimetype": "text/x-python",
   "name": "python",
   "nbconvert_exporter": "python",
   "pygments_lexer": "ipython3",
   "version": "3.6.7"
  }
 },
 "nbformat": 4,
 "nbformat_minor": 2
}
