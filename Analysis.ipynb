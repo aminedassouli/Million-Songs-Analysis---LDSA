{
 "cells": [
  {
   "cell_type": "markdown",
   "metadata": {},
   "source": [
    "# <center> Million Songs Analysis</center>"
   ]
  },
  {
   "cell_type": "markdown",
   "metadata": {},
   "source": [
    "## Starting the Spark session"
   ]
  },
  {
   "cell_type": "code",
   "execution_count": 1,
   "metadata": {},
   "outputs": [],
   "source": [
    "from pyspark.sql import SparkSession\n",
    "\n",
    "spark_session = SparkSession\\\n",
    "        .builder\\\n",
    "        .master(\"local[1]\") \\\n",
    "        .appName(\"Project_19\")\\\n",
    "        .config(\"spark.dynamicAllocation.enabled\", True)\\\n",
    "        .config(\"spark.shuffle.service.enabled\", True)\\\n",
    "        .config(\"spark.dynamicAllocation.executorIdleTimeout\",\"30s\")\\\n",
    "        .config(\"spark.executor.cores\",4)\\\n",
    "        .getOrCreate()\n",
    "            \n",
    "spark_context = spark_session.sparkContext"
   ]
  },
  {
   "cell_type": "markdown",
   "metadata": {},
   "source": [
    "## Importations"
   ]
  },
  {
   "cell_type": "code",
   "execution_count": 2,
   "metadata": {},
   "outputs": [],
   "source": [
    "import h5py\n",
    "import io, time\n",
    "from pyspark.sql import Row\n",
    "from pyspark.sql.types import *\n",
    "from pyspark.sql.functions import monotonically_increasing_id, col, when"
   ]
  },
  {
   "cell_type": "markdown",
   "metadata": {},
   "source": [
    "## Loading the data into RDDs (Skip)"
   ]
  },
  {
   "cell_type": "code",
   "execution_count": 3,
   "metadata": {},
   "outputs": [],
   "source": [
    "\"\"\" This function turns a list of binary elements to a string with the element separated by the character ',' \"\"\"\n",
    "def list_bin_to_str(list_terms) :\n",
    "    string=\"\"\n",
    "    for term in list_terms :\n",
    "        string += term.decode()+','\n",
    "    return string[1:-1]   "
   ]
  },
  {
   "cell_type": "code",
   "execution_count": 37,
   "metadata": {
    "scrolled": true
   },
   "outputs": [],
   "source": [
    "\"\"\" We prepare first a RDD containing tuples (song_information, artist_information) \"\"\"\n",
    "#rdd = spark_context.binaryFiles(\"hdfs://host-192-168-1-153-ldsa:9000/millionsongs/data/A/B/*\")\n",
    "rdd = spark_context.binaryFiles(\"/mnt/ms/data/A/B/*\")\n",
    "\n",
    "# A function to open the h5 files one by one and take the information of interest for the song and the artist\n",
    "def f(x):\n",
    "    with h5py.File(io.BytesIO(x[1])) as f:\n",
    "        \n",
    "        f_meta = f['metadata'][\"songs\"]\n",
    "        f_analys = f['analysis'][\"songs\"]\n",
    "        f_brainz = f['musicbrainz'][\"songs\"]\n",
    "        \n",
    "        artist_terms = list_bin_to_str(f['metadata']['artist_terms'][:])\n",
    "        similar_artists = list_bin_to_str(f['metadata']['similar_artists'][:])\n",
    "        \n",
    "        return ((f_meta[0][-3].decode(), f_meta[0][-2].decode(),\n",
    "                f_meta[0][9].decode(), f_meta[0][4].decode(),\n",
    "                f_meta[0][-6].decode(),\n",
    "                float(f_analys[0][3]), float(f_meta[0][-4]),\n",
    "                float(f_analys[0][2]), float(f_analys[0][23]), \n",
    "                float(f_analys[0][-4]), int(f_brainz[0][1])), \n",
    "               \n",
    "                (f_meta[0][4].decode(), f_meta[0][9].decode(),\n",
    "                f_meta[0][6].decode(), float(f_meta[0][3]),\n",
    "                artist_terms, similar_artists))\n",
    "\n",
    "rdd = rdd.map(f)\n",
    "\n",
    "\"\"\" We create two RDDs (songs, artists) from the general one \"\"\"\n",
    "rdd_songs = rdd.map(lambda x : x[0])\n",
    "rdd_artists = rdd.map(lambda x : x[1])"
   ]
  },
  {
   "cell_type": "markdown",
   "metadata": {},
   "source": [
    "## Turning RDDs to Data frames (Skip)"
   ]
  },
  {
   "cell_type": "markdown",
   "metadata": {},
   "source": [
    "<b> *   Table Songs </b>"
   ]
  },
  {
   "cell_type": "code",
   "execution_count": 7,
   "metadata": {
    "scrolled": false
   },
   "outputs": [
    {
     "name": "stdout",
     "output_type": "stream",
     "text": [
      "+------------------+--------------------+--------------------+------------------+--------------------+---------+----------+------------+--------+-------+----+\n",
      "|           song_id|               title|         artist_name|         artist_id|       release_album| duration|   hotness|danceability|loudness|  tempo|year|\n",
      "+------------------+--------------------+--------------------+------------------+--------------------+---------+----------+------------+--------+-------+----+\n",
      "|SOPLQMB12AC4686313|Girl Of Mysteriou...|           MARC COHN|ARWRVSR1187FB575FB|    Burning The Daze| 257.5669|       0.0|         0.0| -13.107|102.073|1998|\n",
      "|SOFJWKK12AB01826CD|The Cookie Bakers...|      Laurie Berkner|ARC1CJB1187B99FCA4|           Buzz Buzz|233.45587|       0.0|         0.0| -16.263| 144.71|2001|\n",
      "|SOHNDZB12A8C13EDB8|      Shooting Stars|           Cauterize|ARF0COO1187B99B9EF|    So Far From Real|240.43057|0.71432906|         0.0|  -4.714| 97.148|2003|\n",
      "|SOAPGDK12A6D4FAF5E|        The Blessing|                 Joi|AR95QS71187FB3F49A|        Without Zero|333.24362|0.44369507|         0.0|  -4.141| 95.973|   0|\n",
      "|SOUYWLC12AB0181B41|     Sappy Love Song|         Buck-O-Nine|AR4WX0Z1187B99FBB5|Songs In The Key ...|202.55302| 0.4806106|         0.0|  -9.946|169.449|1994|\n",
      "|SOSDZFY12A8C143718|           Forgotten|    Callenish Circle|AR748W61187B9B6AB8|   Forbidden Empathy|226.11546|0.50338125|         0.0|  -7.237|184.453|1999|\n",
      "|SOHDQHR12AB018A98F|          Fast Girls|        The Kingbees|ARW9DYA1187B9994FF| The Kingbees I & II|119.66649|       NaN|         0.0|  -9.212|201.974|1980|\n",
      "|SOETQOF12A8C14494B|   Our Day Will Come|    Angelic Upstarts|ARENGZO1187FB4CEB4|Blood On The Terr...| 229.1979|       NaN|         0.0|  -9.551|147.936|1987|\n",
      "|SOCMOPC12A58A7D3C6|           The Story|   Tristan Prettyman|ARUVJDL1187B9A7DE7|t w e n t y t h r...|175.22893| 0.6641728|         0.0|  -7.713| 72.708|2005|\n",
      "|SOZJQZM12A67ADAE49|The Creatures Are...|Murder At The Reg...|AR5VH3X1187B99AE00|      filed: '93-'03|244.71465|       NaN|         0.0|  -6.589| 87.061|2003|\n",
      "|SOAYYRV12AAF3B522A|            Falstaff|  The Watts Prophets|AR68M8R1187B9A86A8|Things Gonna Get ...|  96.1824|       0.0|         0.0| -12.718|164.842|2005|\n",
      "|SOTCPOF12AB01885FE|Doctor Of Hearts ...|        THE CHIFFONS|ARNUFGE1187B9B7881|    60's Girl Groups|  166.922|       0.0|         0.0|    -7.0|120.712|   0|\n",
      "|SOSYIET12A6D4FB3CF|             Feel It|      Hassaan Mackey|ARDLOZQ11F50C4B5D3|Rawkus 50 Present...|266.00443|0.21508032|         0.0|  -5.101|120.617|   0|\n",
      "|SOLDELA12AB0180E83|(There'll Be) Pea...|       Elvis Presley|ARULZ741187B9AD2EF|Blue Christmas Wi...| 200.0975|       NaN|         0.0|  -16.34| 67.219|   0|\n",
      "|SOSEFMC12A8C136D2A|         Qui Es-tu ?|           Percubaba|ARDN99S1187B995D72|       Dream & Strup| 289.6714| 0.3589765|         0.0|  -7.868| 99.307|   0|\n",
      "|SOUKNJR12A6D4FCC29|   Torturing My Soul|           Magic Sam|AR8JNE51187FB539B6|           Magic Sam| 237.5571|0.27784988|         0.0| -13.549|  93.51|   0|\n",
      "|SOERPNN12A58A7D057|     La Vida En Rosa| S. Solis y Orquesta|ARITKAJ122BCFCA169|Instrumental Acor...|182.20363|0.19858672|         0.0| -11.415| 63.007|   0|\n",
      "|SOLBDTR12AB0182326|Paginas Muertas -...|     Olimpo Cardenas|AROJXND11F50C516B9|Olimpo Cardenas' ...| 172.7473|       NaN|         0.0| -14.417|196.784|   0|\n",
      "|SORNVIM12AB0186FFF|   Come See About Me|     Shakin' Stevens|AR5HOKG1187FB3873E|The Epic Masters ...| 351.5816|       NaN|         0.0|  -3.567|125.258|2007|\n",
      "|SOJXMRA12A58A7A875|Little Bitty Pret...|           Dee Clark|AR8WHEJ1187B98CDCA|       Greatest Hits|141.19138|       NaN|         0.0|   -9.56| 91.704|   0|\n",
      "+------------------+--------------------+--------------------+------------------+--------------------+---------+----------+------------+--------+-------+----+\n",
      "only showing top 20 rows\n",
      "\n"
     ]
    }
   ],
   "source": [
    "attributes = rdd_songs.map(lambda p: Row(p[0], p[1], p[2], p[3], p[4], p[5], p[6], p[7], p[8], p[9], p[10]))\n",
    "fields = [StructField(\"song_id\", StringType(), True), StructField(\"title\", StringType(), True), \n",
    "          StructField(\"artist_name\", StringType(), True), StructField(\"artist_id\", StringType(), True),\n",
    "          StructField(\"release_album\", StringType(), True), \n",
    "          StructField(\"duration\", FloatType(), True), StructField(\"hotness\", FloatType(), True), \n",
    "          StructField(\"danceability\", FloatType(), True), StructField(\"loudness\", FloatType(), True), \n",
    "          StructField(\"tempo\", FloatType(), True), StructField(\"year\", IntegerType())]\n",
    "songs_schema = StructType(fields)\n",
    "\n",
    "df_songs = spark_session.createDataFrame(attributes, songs_schema)\n",
    "df_songs.show()"
   ]
  },
  {
   "cell_type": "markdown",
   "metadata": {},
   "source": [
    "<b> *   Table Artists </b>"
   ]
  },
  {
   "cell_type": "code",
   "execution_count": 38,
   "metadata": {},
   "outputs": [
    {
     "name": "stdout",
     "output_type": "stream",
     "text": [
      "+------------------+--------------------+------------------+----------+--------------------+--------------------+\n",
      "|                id|                name|          location|   hotness|               terms|     similar_artists|\n",
      "+------------------+--------------------+------------------+----------+--------------------+--------------------+\n",
      "|ARPET7C1187B996C8B|          Bajja Jedd|                  |       0.0|ancehall,reggae,j...|RCQ6GG1187B9A39DB...|\n",
      "|ARTBBJ51187FB498F5|      Barrett Strong|     Westpoint, MS|0.38878328|otown,jazz funk,l...|RV03D41187FB413E8...|\n",
      "|ARH39ZK1187B9ABC22|           Girl Talk|   California - SF| 0.5783318|litch,smooth jazz...|RFL5HZ1187B9AC31B...|\n",
      "|ARYEUNC1187B9A3648|     utopia:banished|                  |0.33196872|roken beat,grunge...|R7TT521187B99DF76...|\n",
      "|AR6AYVY1187B990E7C|          Tony Rebel|                  | 0.4064398|ancehall,roots re...|RVJGJE1187FB436EB...|\n",
      "|ARX8MDO1187FB5A1B9| Metabass 'N' Breath|                  |       0.0|ip hop,breakbeat,...|RL2K9W1187FB526BA...|\n",
      "|ARQ7XJG1187B991CEC|    Charanga Forever|                  |0.27990147|alsa,charanga,los...|R2267U1187B9A4B25...|\n",
      "|ARHA3KO1187B99D51F|           Barricada|                MX| 0.4483886|ock,rock 'n roll,...|RJNXF41187FB3E0AC...|\n",
      "|ARX4VP21187FB37BF9|      The Alter Boys|                  |0.43073228|unk metal,experim...|RKV0FY1187FB407B0...|\n",
      "|ARZTIB31187B98D8B5|             F-Minus|                  |0.40954304|ardcore punk,folk...|R8JO2B1187B98EBB6...|\n",
      "|ARGMKGE1187FB44E41|Alesha Dixon / As...|Welwyn Garden City|0.49577707|ritish pop,mambo,...|RIX1PC1187FB5608F...|\n",
      "|AR748W61187B9B6AB8|    Callenish Circle|                  |0.34964815|eath metal,viking...|RE6J0C1187B9991A3...|\n",
      "|ARM6U4Q1187B99ACBB|        The Whitlams|                  |0.40243372|oft rock,parody,b...|RJ1XVJ1187B99FC47...|\n",
      "|AROAS4S1187B98E102|J. Karjalainen El...|                  |0.36012378|olk rock,pop rock...|RHAYX01187B9AA26F...|\n",
      "|AR8WGFD1187B9A258C|             Kapanga|                  |0.48186737|uartet,ska,pop ro...|RV4TAT1187FB3BDE8...|\n",
      "|AR33JQI1187B9ADC2A|           Doris Day|    Cincinnati, OH|0.44381428|ocal jazz,swing,b...|RE7OOV1187B9B8800...|\n",
      "|ARK4ZEK1187B990A4F|       George Strait|      Pearsall, TX| 0.6381207|lassic country,ho...|R0CDSK1187FB52ED6...|\n",
      "|ARV6QHT1187FB5537A|         Nana Caymmi|                  |0.34835002|razilian pop musi...|R6W2ZH1187FB55ECB...|\n",
      "|ARFZSPU1187B9B5BA9|       John Frizzell|                  |0.36690584|oundtrack,sympho ...|R1YFM81187FB3DC28...|\n",
      "|ARV62991187B99DE55|Project Jenny_ Pr...|NY - New York City|0.35014793|araoke,experiment...|RDS7G91187B992D5E...|\n",
      "+------------------+--------------------+------------------+----------+--------------------+--------------------+\n",
      "only showing top 20 rows\n",
      "\n"
     ]
    }
   ],
   "source": [
    "attributes = rdd_artists.map(lambda p: Row(p[0], p[1], p[2], p[3], p[4], p[5]))\n",
    "fields = [StructField(\"id\", StringType(), True), StructField(\"name\", StringType(), True), \n",
    "          StructField(\"location\", StringType(), True), StructField(\"hotness\", FloatType(), True),\n",
    "          StructField(\"terms\", StringType(), True), \n",
    "          StructField(\"similar_artists\", StringType(), True)]\n",
    "artists_schema = StructType(fields)\n",
    "\n",
    "df_artists = spark_session.createDataFrame(attributes, artists_schema)\\\n",
    "                          .dropDuplicates()\n",
    "df_artists.show()"
   ]
  },
  {
   "cell_type": "markdown",
   "metadata": {},
   "source": [
    "## Saving data frames in csv files (Skip)"
   ]
  },
  {
   "cell_type": "markdown",
   "metadata": {},
   "source": [
    "<b> *   Table Songs </b>"
   ]
  },
  {
   "cell_type": "code",
   "execution_count": 8,
   "metadata": {},
   "outputs": [],
   "source": [
    "df_songs.write.format('com.databricks.spark.csv')\\\n",
    "        .option(\"header\", \"true\")\\\n",
    "        .save('/home/ubuntu/MySongs.csv')\n"
   ]
  },
  {
   "cell_type": "markdown",
   "metadata": {},
   "source": [
    "<b> *   Table Artists </b>"
   ]
  },
  {
   "cell_type": "code",
   "execution_count": 40,
   "metadata": {},
   "outputs": [],
   "source": [
    "df_artists.write.format('com.databricks.spark.csv')\\\n",
    "        .option(\"header\", \"true\")\\\n",
    "        .save('/home/ubuntu/MyArtists.csv')\n"
   ]
  },
  {
   "cell_type": "markdown",
   "metadata": {},
   "source": [
    "## Loading data frames from csv files"
   ]
  },
  {
   "cell_type": "markdown",
   "metadata": {},
   "source": [
    "<b> *   Table Songs </b>"
   ]
  },
  {
   "cell_type": "code",
   "execution_count": 4,
   "metadata": {},
   "outputs": [],
   "source": [
    "fields = [StructField(\"song_id\", StringType(), True), StructField(\"title\", StringType(), True), \n",
    "          StructField(\"artist_name\", StringType(), True), StructField(\"artist_id\", StringType(), True),\n",
    "          StructField(\"release_album\", StringType(), True), \n",
    "          StructField(\"duration\", FloatType(), True), StructField(\"hotness\", FloatType(), True), \n",
    "          StructField(\"danceability\", FloatType(), True), StructField(\"loudness\", FloatType(), True), \n",
    "          StructField(\"tempo\", FloatType(), True), StructField(\"year\", IntegerType())]\n",
    "songs_schema = StructType(fields)\n",
    "\n",
    "df_songs = spark_session.read.load('file:/home/ubuntu/MySongs.csv', \n",
    "                          format='com.databricks.spark.csv', \n",
    "                          header='true', \n",
    "                          schema=songs_schema)\\\n",
    "                        .cache()\n"
   ]
  },
  {
   "cell_type": "markdown",
   "metadata": {},
   "source": [
    "<b> *   Table Artists </b>"
   ]
  },
  {
   "cell_type": "code",
   "execution_count": 5,
   "metadata": {},
   "outputs": [],
   "source": [
    "fields = [StructField(\"id\", StringType(), True), StructField(\"name\", StringType(), True), \n",
    "          StructField(\"location\", StringType(), True), StructField(\"hotness\", FloatType(), True),\n",
    "          StructField(\"terms\", StringType(), True), \n",
    "          StructField(\"similar_artists\", StringType(), True)]\n",
    "artists_schema = StructType(fields)\n",
    "\n",
    "df_artists = spark_session.read.load('file:/home/ubuntu/MyArtists.csv', \n",
    "                          format='com.databricks.spark.csv', \n",
    "                          header='true', \n",
    "                          schema=artists_schema)\\\n",
    "                          .cache()"
   ]
  },
  {
   "cell_type": "markdown",
   "metadata": {},
   "source": [
    "# Functions"
   ]
  },
  {
   "cell_type": "code",
   "execution_count": 6,
   "metadata": {},
   "outputs": [],
   "source": [
    "\"\"\" This function asks the user for the title of a song and returns its attributes in the database if it exists \"\"\"\n",
    "def ask_for_song() :\n",
    "    song_title = input(\" Title of the song : \")\n",
    "    song = df_songs.filter(df_songs[\"title\"].like(\"%\" + song_title + \"%\"))\n",
    "    while song.count() == 0 :\n",
    "        print(\" This song doesn't exist in the database\")\n",
    "        song = df_songs.filter(df_songs[\"title\"].like(\"%\" + input(\"Title of the song : \") + \"%\"))\n",
    "    print(\" The song is : \", song.first()[\"title\"])\n",
    "    return song.first()"
   ]
  },
  {
   "cell_type": "code",
   "execution_count": 7,
   "metadata": {
    "collapsed": true
   },
   "outputs": [],
   "source": [
    "\"\"\" This function returns the songs which belong to the same artist as the input song(Row) \"\"\"\n",
    "def same_artist(song) :\n",
    "    similar_songs = df_songs.filter(df_songs.artist_name == song[\"artist_name\"])\n",
    "    return similar_songs.filter(similar_songs.title != song[\"title\"])\n",
    "  "
   ]
  },
  {
   "cell_type": "code",
   "execution_count": 75,
   "metadata": {},
   "outputs": [],
   "source": [
    "\"\"\" This function returns the songs, from the dataframe, which have similar tempo as the input song\"\"\"\n",
    "def similar_tempo(song, dataframe, margin) : \n",
    "    similar_songs = dataframe.filter(dataframe.tempo.between(song[\"tempo\"] - margin, song[\"tempo\"] + margin))\\\n",
    "                             .filter(dataframe.title != song[\"title\"])\n",
    " \n",
    "    return similar_songs"
   ]
  },
  {
   "cell_type": "code",
   "execution_count": 76,
   "metadata": {},
   "outputs": [],
   "source": [
    "\"\"\" This function returns the songs, from the dataframe, which have similar loudness as the input song\"\"\"\n",
    "def similar_loudness(song, dataframe, margin) : \n",
    "    similar_songs = dataframe.filter(dataframe.loudness.between(song[\"loudness\"] - margin, song[\"loudness\"] + margin))\\\n",
    "                             .filter(dataframe.title != song[\"title\"])\n",
    "\n",
    "    return similar_songs"
   ]
  },
  {
   "cell_type": "code",
   "execution_count": 77,
   "metadata": {},
   "outputs": [],
   "source": [
    "\"\"\" This function returns the songs, from the dataframe, which have similar hotness as the input song\"\"\"\n",
    "def similar_hotness(song, dataframe, margin) : \n",
    "    similar_songs = dataframe.filter(dataframe.hotness.between(song[\"hotness\"] - margin, song[\"hotness\"] + margin))\\\n",
    "                             .filter(dataframe.title != song[\"title\"])\n",
    "\n",
    "    return similar_songs"
   ]
  },
  {
   "cell_type": "code",
   "execution_count": 78,
   "metadata": {},
   "outputs": [],
   "source": [
    "\"\"\" This function returns the songs, from the dataframe, which have similar danceability as the input song\"\"\"\n",
    "def similar_danceability(song, dataframe, margin) : \n",
    "    similar_songs = dataframe.filter(dataframe.danceability.between(song[\"danceability\"] - margin, song[\"danceability\"] + margin))\\\n",
    "                             .filter(dataframe.title != song[\"title\"])\n",
    "\n",
    "    return similar_songs"
   ]
  },
  {
   "cell_type": "code",
   "execution_count": 88,
   "metadata": {},
   "outputs": [],
   "source": [
    "\"\"\" This function returns the songs, from the dataframe, which are similar to the input song\"\"\"\n",
    "def similar_song_1(song) :\n",
    "    x = 1\n",
    "    similar_songs = spark_session.createDataFrame(spark_context.emptyRDD(), songs_schema)\n",
    "    while similar_songs.count() == 0 :\n",
    "        similar_songs_inter = similar_tempo(song, df_songs, 0.1*x)\n",
    "        similar_songs_inter = similar_loudness(song, similar_songs_inter, 0.1*x)\n",
    "        similar_songs_inter = similar_danceability(song, similar_songs_inter, 0.1*x)\n",
    "        similar_songs = similar_hotness(song, similar_songs_inter, 0.1*x)\n",
    "        x *= 2\n",
    "    return similar_songs"
   ]
  },
  {
   "cell_type": "markdown",
   "metadata": {},
   "source": [
    "## Core Analysis"
   ]
  },
  {
   "cell_type": "code",
   "execution_count": 10,
   "metadata": {
    "scrolled": true
   },
   "outputs": [
    {
     "name": "stdout",
     "output_type": "stream",
     "text": [
      " Title of the song : Rattle\n",
      " The song is :  Rattlesnake!\n"
     ]
    }
   ],
   "source": [
    "user_song = ask_for_song()"
   ]
  },
  {
   "cell_type": "code",
   "execution_count": 17,
   "metadata": {
    "scrolled": false
   },
   "outputs": [
    {
     "name": "stdout",
     "output_type": "stream",
     "text": [
      " Songs from the same artist :\tGod Bless You (Goddamn it)\n"
     ]
    }
   ],
   "source": [
    "songs_same_artist = same_artist(user_song)\n",
    "if songs_same_artist != None :\n",
    "    some_songs = songs_same_artist.take(5)\n",
    "    print(\" Songs from the same artist :\", end ='\\t')\n",
    "    for song in some_songs : \n",
    "        print(song[\"title\"], sep = \", \")\n",
    "    "
   ]
  },
  {
   "cell_type": "code",
   "execution_count": 21,
   "metadata": {
    "scrolled": true
   },
   "outputs": [
    {
     "name": "stdout",
     "output_type": "stream",
     "text": [
      " Songs with similar tempo :\tFast Girls, High Tonight, Ma Promese, Road Song, My Heart is Yours, Chlebnikov, "
     ]
    }
   ],
   "source": [
    "songs_similar_tempo = similar_tempo(user_song, df_songs, 1).collect()\n",
    "if songs_similar_tempo != None :\n",
    "    print(\" Songs with similar tempo :\", end ='\\t')\n",
    "    for song in songs_similar_tempo : \n",
    "        print(song[\"title\"], end = \", \")"
   ]
  },
  {
   "cell_type": "code",
   "execution_count": 43,
   "metadata": {
    "scrolled": true
   },
   "outputs": [
    {
     "name": "stdout",
     "output_type": "stream",
     "text": [
      " Songs with similar loudness :\tGuajira, I'll Be Autumn_ You Be Winter, Je Me Lâche, Something, Sunshine After The Rain, The Lair Of The White Worm, Heaven, Kinda New (We All Live & Die), She's Gone, Psychobilly Is All Around, The Nothing Doctrine, Medley Leïla Chico, Other Girls, Kids In America, Stanotte, Self Destruct, Ringa Ding Ding, "
     ]
    }
   ],
   "source": [
    "songs_similar_loudness = similar_loudness(user_song, df_songs, 0.1).collect()\n",
    "if songs_similar_loudness != None :\n",
    "    print(\" Songs with similar loudness :\", end ='\\t')\n",
    "    for song in songs_similar_loudness : \n",
    "        print(song[\"title\"], end = \", \")"
   ]
  },
  {
   "cell_type": "code",
   "execution_count": 66,
   "metadata": {},
   "outputs": [
    {
     "name": "stdout",
     "output_type": "stream",
     "text": [
      " Songs with similar hotness :\tForgotten, The Story, Abominations, Rigor Mortis, When You Wake For Certain, Talk About, Almost Genuine, Stuldt Håjt, Farlig (feat. Tshawe), Is That All You've Got For Me (Album Version), We're Back, Den zu´ich ihm ´rein, Welcome To Goodbye, Love Has Passed Away, The Red The White The Black The Blue, Es dificil, Eyes Of A Child (Album), The Modern Leper, Closing Scene, Over To You, Un Tipo Como Yo, Ladies in Their Sensitivities, Get It For Free, I Love The Lovers, Landing Feet First (Album Version), Into A Swan, Two Good Reasons, Baddest Of The Bad (Album), Guajira, Je Me Lâche, Compulsory Resurrection, Two Hands, Fuzzy, A Heart Without A Home, The Rainbow Connection, Guiding Light (LP Version), The Sound Of Goodbye (Above & Beyond Vocal Mix), Walk the Edge, Come Home, Sooner Or Later, Lake Of Dreams, Kater Street Rag, Avalanche, Heiliges Herz (Thomas Rainer - Remix), Show Me What You Got, Chapter, The Melting Moon (Edit), Chapter III: La Terra Santa, Crash-Pad Driver, Everyone's in Everyone, Talking Bush, Gaia, Kansas, It's Love That Really Counts, Kesey Seed, Daydreaming [Jakwob Remix], Deep Night/Softly As In A Morning Sunrise (Medley), Taylor Made, Future Tense, Rave Dave, Rapture Or Pain, The Lair Of The White Worm, What's Going On, Let Me Show You [I Just Want To Make You Smile], Ease, Now You Know, Clover, By The Way, Straw Men (Electronic), Fantastic, Hero, You're My Baby, Elusive Butterfly, Auld Lang Syne (Live) (2002 Digital Remaster), Seven Seas, El Universal, Electric Guitar (Headstock), I Am Eve, Breaking The Broken, Goodbye Green Day, Turning Away, I Feel Love - R.A.F. Zone Mix, At The Border_ Guy, Seraphs And Silence, Superman, I Know She Will, Snowgirl, Frozen Roads, The Impossible Dream, High Tension Wire, Deliver Me, Garden of Earthly Delights, Exclusively, Am I Going Insane (Radio), Trying To Hold On To My Woman, Ali Day, Unicorn Vs. Gravity, Leaving Your Death in a Flowerbed, There Are Already Roses, Sometimes They Stay_ Sometimes They Go, Warmest Rising Sun (LP Version), Jazz is the move, Editions Of You, Escape Hatch, I Like The Girls, I Don't Wanna Let You Go, K, Into My Life, Ojos Gitanos, Sweet Inspiration, Drunken Giraffe, Too Much Freedom, New Moon Over Swift Water, Long Time Gone, Total All Out Water, You're My World, Cool Smoke, A Thousand Memories, Sahti Waari, Fifa, Over The Mountains, Show Me, Forever Again, A New Hope, Intro, Forever Gone, Temporary Solution to A Permanent Problem, Kill The Messenger, When They Are Gone (for Tim), Let's Spend The Night Together, The Nothing Doctrine, Angels In The Snow, The Bright Young Man, Undecided, Aüita, Intro, A Whiter Shade Of Pale (Live @ Fillmore West), Eso Duele, Wolfgang's 5th Symphony (Original Mix), Will You Tell Me Then, The Ballad Of Sleeping Beauty, Harajuku Girls, Prognosis, Harana, Cocina Salvaje, Race Of Hate, C'Est Une Bossa Nova, Welcome To My Monasteryo, Wach auf, Steamroller Blues, I Don't Have To Live This Way, Pockets, Gas Station, bring me flowers, Every Night (I Pray), Introduction, The Other Side, Salvation, The Hustle, Summer Day, Cut Through the Night, Death_ I Hear You Walking, Warrior's Quest, Other Girls, Quero Esquecer Você, Si La Vie M'A Mis Là, No Words No More, Pero Me Acuerdo De Tí, Vivre, God Bless You (Goddamn it), Take Comfort, Affe Loco, So Unhappy, O Pato, Indian Carnival, Stomp It Off, Horizon, Perverse Party, Deadly Fertility, Ammonite, My Heart is Yours, The Only Way Is Up, Go64, Summerhouse (LP Version), Follow The Lady, Lonely, Baltimore, Mighty Mighty Fine, Ketty, Our Darkest Days, Masonic, Open Your Eyes, In My Dreams  (LP Version), Say Yes, Somewhere Before, I Can't Tell You Why, Imagination, Sunset, Chronology (LP Version), Bloody Pig Pile (Live), All The Earth Will Sing Your Praises, Light Skips Cross Heart, Psychedelic Sally, Tir aux pigeons, Reader, Kids In America, Sleestak, That's How Rhythm Was Born, Timeless Traces (Album Version), Skins_ Punx and Drunx, Flashflood, Sew My Name, Something About You, Atomik Destruktor, This Is NOT a Crass Song, Something For The Pain, T.H.E.Y., Play Your Game, The Best Summer Ever, Soulful Garage, Forget The Weight Of The World, Beg Your Pardon, Cold Sweat, Drinkin' Problem (Album Version), Crass Commercialism, You Took The Words Right Out Of My Mouth, Walls And Cannonballs (Album), Joyful Sound, "
     ]
    }
   ],
   "source": [
    "songs_similar_hotness = similar_hotness(user_song, df_songs, 0.1).collect()\n",
    "if songs_similar_hotness != None :\n",
    "    print(\" Songs with similar hotness :\", end ='\\t')\n",
    "    for song in songs_similar_hotness : \n",
    "        print(song[\"title\"], end = \", \")"
   ]
  },
  {
   "cell_type": "code",
   "execution_count": 68,
   "metadata": {},
   "outputs": [
    {
     "name": "stdout",
     "output_type": "stream",
     "text": [
      " Songs with similar danceability :\tGirl Of Mysterious Sorrow (LP Version), The Cookie Bakers of the Night, Shooting Stars, The Blessing, Sappy Love Song, Forgotten, Fast Girls, Our Day Will Come, The Story, The Creatures Are Having Fun ..., Falstaff, Doctor Of Hearts (Album Version), Feel It, (There'll Be) Peace On The Valley (For Me), Qui Es-tu ?, Torturing My Soul, La Vida En Rosa, Paginas Muertas - Original, Come See About Me, Little Bitty Pretty One, My Romance, Una Foto En Blanco Y Negro, Digging For Gold, Concluding Speech, Born In The Famine feat. Sizzla & Jesse Jendah, The Fisherman, Whip It, Tir Na Nog, Touching Ground (Prognosis), ILL 04, Crying Time, Checkin' It Out, Viagem, Por um dia e nada mais, Rehtorin luiseva Salli, Abominations, Bit By Bit (Baxter Baxter Remix), Is It In? (Remix), Love Me Now (Rockwilder Remix) (Feat. Wyclef And Redman), Cincinnati Blues, Rigor Mortis, Stark Honesty, Boogie, Girls From The North Country, Citizen Of The Planet, Jenny Had A Birthday, Glad All Over, Famme fesse e cuntente, When You Wake For Certain, Powdered Wig, You Can Always Come Home, Toy Boat, The Sweep, Talk About, Almost Genuine, Can't Shake That Girl, Stuldt Håjt, Spirit, Enamorado de Ti, Farlig (feat. Tshawe), Mehr als dies, (she's A) Skinhead Girl Warrior (Single Version), Volcán, The Suits Vs The Tilted Chairs, It's Gonna Be Alright, Sisterhood of Convoluted Thinkers (Piano 2 Remix), El cuarto de Tula, I'll Never Dream, Yoko Mono, The Sweetest Curse, Untitled, Arruncha, Boyz Is Crazy, Give it up feat. Timberlee, (I Heard That) Lonesome Whistle, Fear the Cocos, Is That All You've Got For Me (Album Version), Manyeo, Ich war noch nie in Griechenland, Après L'Amour Comme C'Est Triste, We're Back, Here Comes The Hotstepper, Otra Virgen, Lesson Learned, Very Well, L'enfer est intime, Why Should I, Den zu´ich ihm ´rein, Line of Fire, Alkohol, All Or Nuthin' (Explicit), High Tonight, French Connection, God Drinks At The Sando, Felt, Welcome To Goodbye, This Christmas (LP Version), Heart it Races (Frank Tetaz Remix), Love Has Passed Away, Intro To Freaknic, Village Attack/ The Arrest, Teus caprichos, Cheek To Cheek, Cristiana, Honeyspider II, Trouble, What You Deserve (Album Version), Somebody Knows How You Feel (VRS Mix), Talk Like POP, The Red The White The Black The Blue, Es dificil, Neptune_ the mystic, Curvy Cola Bottle Body, Sinfonia de cuna, Wake Me Up When September Ends (Live at Foxboro_ MA 9/3/05), Pitié Pour Lui, I Love You, Nuestra Tierra, Indiana (Back Home Again In), Ordinary Men, The Royal Way, Eyes Of A Child (Album), Sleight Of Hand, So Much To Say - Intro (LP Version), Shakin' Eyes, Tell Me Mama, You're My Girl, Fuego Caliente, Democracy, Cat And Mouse, The Fall, Have You Seen Her, The Modern Leper, Son Of A Gun (Radio Edit), Hit The Lights, While There's Still Time, (Untitled), Curler, What Child Is This (LP Version), Spinning, Batuka, The Thrill Is Gone, World Of Freedom, Old Tree, A Change Is Gonna Come, Cancion Para Mi Muerte, Don't Tell Your Monkey Man, Say That You Will, Time, Rio Bravo, Karuna, Closing Scene, Little Game, Leave Me To Cry, At the Hop, Save Your Sorrows (LP Version), Stained Android, Slave To The Wage, I Got Rhythm, Over To You, Cecil Drives a Combine Harvester, Words Of My Heart, Love Is Strange, Breath #2, All My Love (Ask Nothing), Don't Tell Me, Karikatur (Remastered), Mon légionaire, Be A Man, Un Tipo Como Yo, True Love Ways, Lil Mama Getdown, Ladies in Their Sensitivities, Aqua Beat, Exit (Richard Skinner - 29/5/81), Snakes in a Hole, Get It For Free, Sheer Heart Attack, I Love The Lovers, This Can't Be Love, Landing Feet First (Album Version), In The Army (Bonus Track), Saints and Soldiers, One Night Is All I Need (LP Version), Lie Down And Be Counted (2007 Digital Remaster), Don't Cry_ Joe, Loving Just For Fun, Seek, Amabhongo, Germ Free Adolescents, The tears I cried, All Wey A Gwane, River, There'll Never Be Another You (2002 Digital Remaster), Quanno Nascette Ninno, Into A Swan, Rock 'N' Roll Freak, Big Balls And Cow Town, Astroid Lovers (Brain Surf 2), Sand, Party Til The Cows Come Home, Green Onions, Prince Of Peace, State Fair, Two Good Reasons, Baddest Of The Bad (Album), Key to babylon, Supernatural, I Ain't Fallin, Lobotomy, La Excursion, Freestyle, Back Doors Crying, On The Face, Guajira, I'll Be Autumn_ You Be Winter, Je Me Lâche, White Lines (Long Version), Compulsory Resurrection, You've Got To Stand For Something, Your Amazing Grace (feat. Raul Midón), Grozdyo lyo_ edin na mama, Miles Away, Two Eyes, Two Hands, Violence In Our Minds (Orignial Cassette Single Version), Part IV, Something's Gotta Give, Here's Looking At You Kid, To The Stars, Suite No.10 in D minor (1996 Digital Remaster): IV.  Gigue (Presto), Rose Of The Mountain, This Time I'll Be Sweeter, Didn't We Almost Have It All, Priceless Treasure (On The Road To Beautiful Album Version), Ihr für uns und wir für Euch, Groove Me, Donizetti: Roberto Devereux: L'ore trascorrono..., Puppet On A String, A Somber Wind from a Distant Shore (Album), Tamerlano : Act 1 \"Dal crudel che m'ha tradita\" [Irene], Fuzzy, A House in the Fog, Red Sails, The Twillight Story, You Sang To Me, Gasikara, Blowing The Blues, Twilight Zone, Pienso En Ti, A Heart Without A Home, Gladiola, I Can't Tame Wild Women, Young Killaz On Da Rise, Airbag (Live In Berlin), Only Do for Love, Winter Mountain, Damisela Encantadora, Snoopy, Satellites, Calm Before The Storm, The Parson, Boney Boney, To Agalma, No Mercy, Two Rights, In The Name of the Father, Megatrend, Yogoreta Te No Tenshi ???????, Si tu le veux, The Rainbow Connection, Las Murallas De Jericó, Guiding Light (LP Version), This Time I Know It's For Real, The Sound Of Goodbye (Above & Beyond Vocal Mix), Erica, Marcando El Ritmo Al Caminar, Ev'ry Time We Say Goodbye, Little Timmy, Atrevido, Lyrica, The Song Belongs To Everyone, You Are My Memoir, L-O-V-E, Walk the Edge, He Made a Woman Out of Me, Takin' Over, Swing For The Crime (Live), In A Big Country, When The Morning Comes, Worthless (Album Version), Bite Our Style [Interlude] (LP Version), Mention A Mansion, Dance Vd, Come Home, Anytime Is The Right Time, Arrival, Handsome Rewards, Pop-Corn, Mr. & Mrs. Pain, Sooner Or Later, Fluorescent Heart Attack, Rainy Day (Original Composition Inspired by Beyonce), You are Good, Complicated, Lake Of Dreams, That's Me Without You - Original, Small World, Rumenka Takes a Drive, Will I Find Someone, Snow in Central Park, Swallow The Knife (Live) (Segue), Memories Of You, Blues Når Du Var 15, Truck Driving Man/Down In The Caribbean, Suburban Train, Das Spiel ist aus, Piano Concerto No.4 in G major Op.58 : II Andante con moto, Kater Street Rag, More Than Enough, Aimons nous vivant, Reverse Talkshow, Joy Spring, Under Quarantine, Over Now, Just Abuse Me, Anta Bemalik, Carte Blanche, Something, Running From Serpents, Merci (avec Accrophone), Set Apart This Dream, Love All Of, Games, Gato, Old Friends, I Got The Love, Illiterate Interlude, Because Of You, The Queen (Acapella), Avalanche, Lock Groove (In), Heiliges Herz (Thomas Rainer - Remix), Pablo, Show Me What You Got, 100_000 thoughts, Mayday, Chapter, G.T.A. Call, Mainoon Heerre Aakhe, Ain't That Right, The Melting Moon (Edit), Summer Follows Spring, I know, Vertical Drive, Why don't you eat where you slept last night ?, Todo Vale Hoy, Jeepah, Wildes Leben, I\u0019m Moving On, Head Of Ringo (Album), The Song Is You, One More For Love, Belle-ile-en-mer, Chapter III: La Terra Santa, Crash-Pad Driver, Pimpin' Interlude (Amended Album Version), Everyone's in Everyone, Suffocating Under Words Of Sorrow (What Can I Do), Unidentified Flying Objectivity, Vero Non Vero, Talking Bush, The Blue Cafe, Through the Snake's Eyes, Kisses And Tears (with Frank Sinatra), Homeland, When A Man's In Love He Feels No Cold, What I'm Trying To Say, Gaia, Kansas, Tumba Tumba, Caravan, For Belgian Friends (Live 13.8.1981), La dame aux Camel lights (Live), Love The Way You Do So, The Manageress, Vegetale, L'accordéoniste, Hex Breaker, Hawaiian Chimes, The Best Way To Die, Send In The Clowns, See Saw, Nutta's Chance, Train Track, Ex Cathedra, My Generation, Evil Does (What Evil Knows), Turn Around, Rien Ne Va Plus, It's Love That Really Counts, You Know What You Do, Forbidden Fruit, Too much informa, Sunshine After The Rain, All I Need, P.B.E. (Powerful_ Beautiful_ Excellent), 669-The Number of the Feast, Kesey Seed, F.Chopin:Prelude_ Op.28. ?13 (C sharp major), Lonesome Boatman, It\u0019s Alright_ Babe, Lucy (2010 Digital Remaster), Daydreaming [Jakwob Remix], Deep Night/Softly As In A Morning Sunrise (Medley), Lost In the Soul Shower, Touch Me (I Want Your Body) ?09, Trace Decay, Termino Mi Amor (Glenn Underground CVO Mix), L'insidieuse (Live), Taylor Made, Albino, Crazy Moon, Youlan_ Lonely Orchid (solo guqin), Watch The World Burn (Album Version), Possession, River Man, Future Tense, Everchanging, Complain, Shoes On The Road, Dansende Foran Speilet, Rave Dave, Tu Enamorado, Rapture Or Pain, Monster For Music, Jack Cannon, Cool Kind Woman Blues, Got To Stop, Thug 'N' Me, The Lair Of The White Worm, Lazy River, Coqueta, Find Me, So Hot, Yo soy quien tu necesitas esta noche (Version 2008), What's Going On, Let Me Show You [I Just Want To Make You Smile], Ease, Detras De Tus Ojos, Now You Know, Do You Really Want To Hurt Me (Live), Divinorum, A La Memoria Del Muerto, Future Beat, Madness (Joni's Theme), Clover, Say You're Mine Again, Yr Mangled Heart, Sweedeedee, The Fire Within My Cold Heart, By The Way, Sex Objekt, Everything to Me, Straw Men (Electronic), 13 & Growing, Bon anniversaire (live au palais des congrès), As Diehard As They Come (Album Version), My Bonnie Lies Over the Ocean, Lonesome Town, Fantastic, I'm Sitting Here Waiting, Kara Lee (Tucson Reprise), Festival Of Music, It's You Jesus  (Great Lengths Album Version), Waiting For Me, When The World Is Running Down_ You Make The Best Of What's Still Around, Hero, He Thinks He'll Keep Her, Én Gondolok Rád (From Sarah With Love), Mother, Babylon, California Paradise, Comfort Zone, Rain / Ekoln, Chains, Stealing From The Queen, You're My Baby, Elusive Butterfly, Reason With The Beast, The Fallen's Arrival (Album Version), Sayin' Dope, We're Out Of Gas, No Wasted Moments, Frozen Faces, Auld Lang Syne (Live) (2002 Digital Remaster), Seven Seas, Korrupted - Remix, Vagrant, Children Of The Night, Go Choppin', The Market Place, Anyone Can Dig A Hole But It Takes A Real Man To Call It Home, Coeur d'acier, Dubzilian, El Universal, The Ritual Of Mahaparinirvana, Jewel, The Ballad of Johnny Burma, Glamour, Kinetic, Sin Ti No Hay Nada (Remix Regional Mexicano), Electric Guitar (Headstock), Sad City, Dr. Bootygrabber, I Am Eve, You Never Kissed Her, Branko vs Mate, Breaking The Broken, Goodbye Green Day, Nookie, Mystifies Me, I've Got You Babe, Heaven, Rollercoaster Ride, Pale Empress, Peace Be Still (Low Key-Premiere Performance Plus w/o Background Vocals), Seasons, That's My Baby, Brand New Tennessee Waltz, Who Shot King Tubby - Original, Metal from Hell...22nd Century, Tik Tok (Come On), Stories from the Neighbourhood, Stop the World (Remix), Pretty Polly, Nachtgespenst, I'm Gonna Testify, Dabai Dabai, Neptune's Staircase (Burial), A Thousand Deaths (instrumental) (Live), Shipwrecked Frontier Pioneer, Step On You, Turning Away, I'll Remember April, Never Look Away, Sick At Heart, La font i l'excursionista, I Feel Love - R.A.F. Zone Mix, Everyday, Men In Helicopters, The Girl I Find (LP Version), Flores Negras, Cumbia del Saxofón, Salsamba, Foggy Mountain Breakdown, Marijuana, The Womb (Album Version), Muertos y furiosos, Julie H, At The Border_ Guy, Hundredweight, Seraphs And Silence, Tell The King, Fancy Footwork, Superman, 100 Yard Dash (Featuring Xtaci) (Explicit Album Version), 1983 (Demo), Ma Promese, Bad Day, Volver (LP Version), Panda Bear, Ton Avion, I'm Not Going, More Than Just A Friday, The Game, Money (That's What I Want), When A Man Loves A Woman, Clementina Santafè, Now's The Time, Safari, Harolds Anthem, I Know She Will, Get Your Head Stuck On Your Neck, Kutt Free (DJ Volume Remix), Circles, The Arrival Of Satan'S Empire, La Musique L'Amour, Sonnerie lalaleulé hi houuu, The Time Falling Bodies Take To Light, Twelve, A Higher Place (Album Version), We Don't Need Another Hero (Thunderdome), He Looks Interesting - And By Interesting I Mean Weird, Kleine Mädchen Müssen Früher Schlafen Gehen, He's Got The Whole World In His Hands, Snowgirl, Trusty Chords, The Champ, Yesterday Is Here, Les singes, Ten Tonne, Jenny Take a Ride, Got My Mojo Workin, Superhuman, Rumba De Barcelona, Alcohol Sex (feat. Mellow Man Ace), Europe Is Different, I Get Off, No Excuses, Wild Rose (Back 2 Basics Mix), Knie Nieder (Clubmix), Thanks for Coming, They See My Daddy In Me, Tatuuj Mnie, Frozen Roads, Theory As To What Is Beautiful, Sono andati? Fingevo di dormire, No One Else, The Impossible Dream, Trippin With Clyde, High Tension Wire, U.K. Subs, Concierto para bandoneon: Allegro marcato, Deliver Me, Garden of Earthly Delights, We've Got Tonight, Dies Irae, Gi' Afto Hirokrotiste Tin (Bisogna Saper Perdere), Der Nasenmann, James Dean's Jacket, Tik Tok (Parody), Clean up the ghetto, Bonus: La Mauvaise Vision, I'm Talkin' Bout Jesus, 2nd Floor Window, Loaded Like A Gun, K#k* On The Mic (feat. Paul Shapiro), Let's Fall To Pieces Together, Chased You Home, I Hate You, Up Up & Away, Eckenliegerblues, Exclusively, Bonus Track, Just A Little Lovin' (Will Go A Long Way), I Wouldn't Have it Any Other Way, Uno Mas, Woke Up This Morning, Siren's Call, Cryin' Time, Little Sister, L' Envers Du Décor, If You Could See Her - Sound-a-like Cover, Full-Choke Wigmaker's Vice, Am I Going Insane (Radio), Almost_ Always Maybe, Make Believe (Remastered Album Version), She Likes To Boogie Real Low, Montluçon, Kinda New (We All Live & Die), She's Always A Woman, Chapter 12 Twelve Inch Mix, No Es Mi Primera Vez (Directo), Gueixa, Reco, From The Blind (LP Version), And I Love You So, Song For Mom (LP Version), Trying To Hold On To My Woman, All Over Me, City of Jerusalem, Tears, Sticky, Ya Nada Volvera A Ser Como Antes, Shameless, One Sunny Day, Talking Machine (New Recording), Ox, Bad Sign, Ali Day, Secure, American Music, Cathleen, Star Chasers, 'Round Midnight, In The Night (Entering The Danger Zone), Quiet Time, Unicorn Vs. Gravity, Leaving Your Death in a Flowerbed, Nowhere Again (Album Version), Can't Get Enough Of Your Love Babe, Besame Mucho, There Are Already Roses, It Wont Be Christmas, Hundulu, Whatever Happened To Lovers, Sometimes They Stay_ Sometimes They Go, Ain't No Stoppin', Donerhamer, Hollowed-Out, Say What You Want, Algiers, Warmest Rising Sun (LP Version), Goosey Gander, Bad Omen (24-Bit Digitally Remastered 04) (), Medley : Check The Flow / Respire, Jazz is the move, Film Maker, Volver A Los, Erica (2005 Digital Remaster), Editions Of You, Escape Hatch, Whatever Happened To The Times?, Prod, Unashamed, Baby Come To Me, Akhirnya Aku Sendiri Jua, Yo No Sé Que Pasó, Camptown Races, Den Pai Alo, I Like The Girls, Introduction (LIve-LP Version), Ton Actualité, Knocked Out Of The Park, Woodchopper's Ball, Tu Revolución, No Ordinary Love, Wessex Loses a Bride, I Made A Mistake - Original, Lovie Dovie, OAKtown, La Palma De Coco, I Don't Wanna Let You Go, Rev. Jack & His Roamin' Cadillac Church, All By Myself, I Hold Your Hand In Mine [Live At Royal Albert Hall], Tu Amor (Hecho En Madrid), Miseria_ Muerte Y Sangre, Blessed Assurance, Spending Some Change Featuring Cutty, Salt In NYC, The Car Ride (Goin' To A Party), Siw Malmqvist-medley, Larger Than Life, K, Into My Life, Ojos Gitanos, Nic nezostane stale, Se Formo El Bochinche, Mira Nina, Self Control, Sweet Inspiration, Hermanos de sangre (Rulot 05), She's Gone, Forget That Girl [Rehearsal], Del Bosque De Tu Alegria, Sincerity (Part 1 & 2), Drunken Giraffe, Chill me, Too Much Freedom, 10 G's, Echoes of the Big Bang (138 BPM Remix), Solamente Una Vez, Polly Vaughan, New Moon Over Swift Water, Festival Acadien Waltz, Power Play (Live In '84), Drifting From Town To Town, Long Time Gone, Guustjes Rock, Seb-1.08, Tag - Voice Over: April In Paris, In The Still Of The Night, Weekend (feat. April & G. Smith) (explicit album version), The Job's A Game, Total All Out Water, Stompa, I Ain't Mad At Cha, Blake's Worried Blues, Fat Girls, Zaardub, Schizophrenic Dub, Work Of Art [Da Vinci] [PJ Harmony Summer Nice Version], You're My World, Come On Honey, Fortunate Son (Live), Darkness, Losing My Religion, Psychobilly Is All Around, Cool Smoke, A Thousand Memories, Solta, Sahti Waari, Fifa, Lonesome Highway, The Titanic, The Lords Prayer, Negativ Song, Zolte Slonie, Hit And Run Holiday (Album Version), Nina Nina, The Great Gibber Plain, Nubia (LP Version), Blue Toast (Torpedo Vocal Radio Mix), Over The Mountains, Save Our Souls, Bus Station Blues (Live), Superlove, Gaël et Selena, Poverty For All, Meatballs, I Love You And You Love Me, Song in Your Mind, Janine 3, Mr. Prime Minister, No Good Time (Live At The Zodiac), Blues In The Night, Witch In The Old Man, Borrowed Heaven (album version), Evil Inside Me, Great Is Thy Faithfulness, Lagoa, Wing (Inst.), Ponto, Show Me, Trust Me I'm A Doctor, Cathode, Prophet, Turn The Screw, Dialog mit dem Tölpel (One Foot In Da Rave - Remix), Full Brazilian, Forever Again, Disco Rayao, Hasta Cuando, Kansas City, Give Up The Ghost [Album Version], Jeep's Blues, Liputtomat Laivat, Parallel Universe, Abide By The Golden Rule (Unreleased), Hey Ya!, Blues Town, A Man I'll Never Be, Como La Flor (2005 Re-mastering) (Live), Somos Más - Qué Difícil, A New Hope, Invitation, Adagio Di Molto (Violin Concerto In D Minor Op 47_, Tanz_ Mephisto!, Party In The Burbs, Allein, Still There For Me, Fast Trip, Living Will, I Got You, Intro, Forever Gone, Temporary Solution to A Permanent Problem, Love Comes, She Is Michelle, Borscht Riders In The Sky, If I Hurt You, Andalucian Blues, Crazy, Quién Las Quiele, Kill The Messenger, The Snake With The Eyes Of Garnet, Din Dag, Sacred Garden, Back To My Roots, Mi Si Ba To, When They Are Gone (for Tim), Trick Me (Mac & Toolz Extended Remix) (Explicit), Let's Spend The Night Together, Feelings, C'était quand ?, The Grind, The Nothing Doctrine, Angels In The Snow, The Bright Young Man, Undecided, Back Tah Galaxiez, I'm A Steady Rollin\u0019 Man Feat. Otis Rush, Planxt-chen, Now This How We Do It, Future Juju Soundsystem, If You Love Me, Open Secret (Paris), Day And Night, Iguana, Inner Sense, Take me home and make me like it, Finale (LP Version), Yeah, A Thousand Tears, She Might (Radio Edit), Shutter Island Kap. 16, Aüita, National Emblem (March), Urban Guerilla, Lost In Trance, Intro, Den sista natten, El Apreton, Un hombre sentimental, Time, Wisdom Lives On, A Whiter Shade Of Pale (Live @ Fillmore West), Midnight Star, Tarzan, I Remember Nights Wide Open, Intro, Der Kleine Dompfaff, Eso Duele, Manaco, I Need A Mother, Wolfgang's 5th Symphony (Original Mix), You And The Night And The Music, Will You Tell Me Then, I Could Have Danced All Night, Woman Pleaser, The Christmas Song, SSRI, Streets On Fire (Explicit Album Version), Killa Soundboy, Trembling Frost Spires, The Ballad Of Sleeping Beauty, All Day & All Of The Night, The Letter Be...., Native Soul, Sweet Lorraine, Wintercold, Demon Child, Harajuku Girls, XXX, One More Chance, Giant Steps (Alternate Version_ Take 5_ Alternate), NEVER, Astral eyes, He Loves You, Prognosis, Harana, City Slickers, Cocina Salvaje, No Future, Race Of Hate, Living Hell, Almost Like Being In Love, Music is what we love, C'Est Une Bossa Nova, Serenesse (2005 Digital Remaster), Ich Will Was Neues, Walking By The River, You Are The One, Clatterbeat 113, Welcome To My Monasteryo, Battleships Rework - Atephoald vs Rich Willison's Remote Orchestra, Variants On A Theme Of John Lewis: Variant 3, Step By Step (LP Version), Moth's Wings, Old Times Sake, Hold On, Drop Dat Pussy Down Low (DJ Gusto Remix), Wasted Love, Willow, Ass Attack (Four Tet Remix), Let Me Sip My Drink (featuring Fast Eddie), Winter Windows, Jung, Two Lovers, You Make Me Spew, Occur 5, Kitsune, I Wish Someone Would Dance With Me, Breakfast at Benirras, Some Place To Go, Zum Adel Verpflichtet, Canta Brasil, Let's Make A Mystery, Sometimes, Can Anyone Ask For More?, Conquest from \"Captain from Castile, Tripping Up the Stairs_ The Gravel Walks, Nos Veremos Otra Vez, Don't Wait On The Stairs, Division (÷), Embraceable You, Scene Report, Eleanor Put Your Boots On, Wach auf, Steamroller Blues, The Light, Heute, Sous la Tour Eiffel, Orange Co., What The World Needs Now, A Day In The Life (Album Version), En route pour Kansas City, Dem No Have No Gal, Count On Me, I Don't Have To Live This Way, Ring the Bell, Pockets, Alabaster Jar, Gas Station, bring me flowers, El Hijo De Su.., My Love My Life My Flame*, Golden Slippers, Don't Look Any Further  - 13 Studio Extended Version, Não Vou Me Adaptar (Participação Especial: Nando Reis) (Participação Especial: Nando Reis), Vengo De Ultima, Reten, Stop, Loving You, Every Night (I Pray), Medley - Memory Lain_ Hugh / Headloss, Road Song, Snowboy, Sally In the Garden, Diminished Responsability, Lady Of Your Calibre, Chorinho Pra Ele (Live), Bass Overload, 70 VIR, Dusty Horizon, A Breathtaking Guy, Humble & Cool, (Uh Oh) My Bad, So Jah Seh, Anti Geroi, Introduction, I'll Sleep When I'm Dead [Alternate Version], Dublites, Rain On Me, The Other Side, Brave New Warriors, Salvation, Ti Nemas Pojma, Ya A'Asaal, Medley Leïla Chico, Subliminal, The Hustle, Penny Pennsylvania, Bodyclocks, Summer Day, One Hundred Times, Overdose (Killa Vocal Mix), Lokaðu augunum (Dyad 1909 version), My Escape, (You Caught Me) Smilin', Troppa Vita Mi Dai, Tearing on the Soul, Florian, Fish, Cuban Cigar, Silent Night, Cut Through the Night, Death_ I Hear You Walking, Serene, Italian For Goodbye (skit), Warrior's Quest, T'as 16 ans demain, Drive Away, Dollar Van Skit, Moonlight Sax Medley, Only For The Young, Maronna Nera, Joy In The Journey (The Final Word Album Version), Build Yuor Own..., Money, Stronger Than Me, O Barquinho/ Voce, Thy Will Be Done (Album Version), Born To Lose, Let Things Slide, Recorda-Me, Sky Is Over (Album Version), R.W., Carol, On Every Train (Grain Will Bear Grain) (Live), Can't Stop featuring Angela Johnson, Voices (in The Night) (Album Version), Isle Of Innisfree (Film 'Quiet Man') (1992 Digital Remaster), Deathstrike Command, Back Again, Sinkemlow (LP Version), Other Girls, Manic, Four Or Five Times (Medley) (1999 Digital Remaster), Quero Esquecer Você, I Can't Get You Off Of My Mind, Man With no Country, Rakkauden satu - Histoire d'un Amour -, Divisive, Let It All Out, J'Ai Deux Amours, Mississippi Mutants, Message Of Love, The Greatest of These (A Little Love), Be Together, Si La Vie M'A Mis Là, Urgence, Bombing:Sierra, Dreams Come to Life, Toscho's Boogie, Hill Where The Lord Hides, Kick The Nation 2007, Waiting for the Sun, The Illusionist, No Words No More, Pero Me Acuerdo De Tí, Finger Fuck, sometimes y, This My Platoon, Vivre, You Haven't Done Nothin', La Route Est Belle, Why Hurt Flesh, God Bless You (Goddamn it), Break of Dawn, Trapped In Reality, Sunshine Of Your Love, Estrela Da Paz, Melissa, Falling Anthem (Harry Choo Choo Romero's Bambossa Remix), I hate cds, Southern girl, Asi Me Voy, Rosy Shy (LP Version), I'm Walking The Dog, Devil In Me, Go the Distance, Non sono io, Overlord, Breakaway, Feels Like I'm Home Again, Kaspa, Xi Huan Xi Huan Zui Xi Huan Ni, Luv u Baby, I Can't Bring The Time Back, Idon Tul, Gidelam, Ali Gator's Good Eats, Take Comfort, Lo Tomas o Lo Dejas, You Got Me Goin', Affe Loco, Shine, Kashmiri Love Song, Mennyt, Build Him Up, Les symptomes du fléau /The Symptoms Of The Plague, Hello Boys (Album Version), Respected (Live), What Does it Mean?, Interiors, Break Me, San Cristobal, So Unhappy, O Pato, baby blessed baby blue, sog, Calypso, Throw It Up_ Throw It Up, Indian Carnival, Stomp It Off, Horizon, Only One Forever (Album Version), Cali Players, Perverse Party, TJ Cases Main Instrumental, Above The Clouds, Gitanos De La Cava (Buleria), Deadly Fertility, Vertigo(Live), Teaser (LP Version), Det Snurrar I Min Skalle, I'm the Girl (LP Version), Mato por Tu Amor, Keep It To Yourself, Heart Of Fire, Discipline, Matroyshka, Ammonite, If I Ruled The World, Jack on Fire, Livin Doll - Eric finds Tina, Marca de Amor Não Sai, The Joes Mobilize, I Got To Quit My Baby, Formieren der Doppelkolonne, Something Was Missing (Oliver Warbucks), Das Gespräch am Puls der Zeit (Teil 2), Alsh, Se Tamba... Se Tambalea, My Heart is Yours, Dancehall Medley, Canzone Del Sole D'Inverno, Chlebnikov, The Only Way Is Up, Go64, Endlos, Postcards from Tijuana, Stormy, Same Old Story, Summerhouse (LP Version), Mutant, Undertow, September Song, Happy Thoughts, Ragga Airlines, Cry Baby, Vital Vessals Vindicate, Courtyard, Shiny & New, Suburbia, Afro-Jazziac, East Of Calcutta, 12 Seasons of Love, Interlude, I Want To Know What Love Is, Private Conversations, The Machine, Room Without A View, You And Me, Pushing Through, The Sick Half of a Church, A Worm's Life, Look Around, Feel Good Friday, There'll Be Some Changes Made, Talking To The Postman Before Leaving, Filles_ Flics_ Descentes, Follow The Lady, Hear Me Lord (2001 Digital Remaster), Dumb Woman Blues, Bleak Prospects, California Dreamin' (LP Version), When You Believe, Lonely, The Ladies, Have You Ever Seen The Rain, Danger, Baltimore, Today I'm In Love, Talking Sailor Blues, Devil Me In, Terra, Mambo No 8_ Que rico Mambo_ Mambo Universitario, Since I've Been Loving You, Letting You Back In, Mighty Mighty Fine, Funktion, Ketty, A Supposed Tour, Rescate Freeformed Giggles, Our Darkest Days, Don't Let Go, Party All The Time, Frustrate, Holding On To A Life, Lonely Street, Constantly, Blessed, Get it Right, Unbelievable, Raquel, Computer Screen, Change, Downtown Poker Club, U Don't Hear Me Tho' (Street Mix), Shopping (Almighty Mix), Sidewalks_ Fences & Walls, Love So Right, I'll Be Seeing You, Pfrancing (No Blues), Send in the Boys, Paint And Glass, If You Want Me, Disappeared, Tomorrow Gone, It's Only Make Believe, Masonic, Après Le Show, Urban Touareg, Stupid (Explicit), Open Your Eyes, I don't Want to Be Alone Tonight, Quartet No. 15 in E-Flat Minor_ Op. 144: IV. Nocturne (Adagio), Morning Glory, In My Dreams  (LP Version), Say Yes, 04 Daydream, The Saddest Song, Somewhere Before, Mary Poppins y el deshollinador, Doppelgänger [Qliphothic Phantasmagoria], I Can't Tell You Why, New Orleans, I'm OK_ You're OK, Imagination, Two Servants - Anna's Demands, Walk Like An Egyptian, Easy Living, Hafencafé, Tango, Katare! Namida!, Ribosomal (The Remixes), Ghost Town Rituals (Album Version), Für Sekunden, Sport Extrem, Cheeky Flamenco, Rudolph The Red-Nosed Reindeer, Angyal, The More I See, Ei kiinnosta, Blessing From God, Capital G, Sunset, One Beat (Just Won't Do), Do You Want to Come to My Party?, Mystic Eyes, Chronology (LP Version), Conned Again, Halv, You're my desire, Un Peu D'Amour Et D'Amitié, Ain't No Love Ain't No Use (Love To Infinity Full Funk Mix), Round Round Round (The Gentleman's Fear), Sólo Tengo un Amor, Death Is Only a Dream, Bloody Pig Pile (Live), It's All Good, Waltz No.12 in F minor Op.70 No.2, Teenage Dad On His Estate, Uplakanooka, As My Fire Flies, Chains Chains (Live In Hammersmith), What Can I Do?, All The Earth Will Sing Your Praises, A Mi No Me Importa, Sweet Dreams (LP Version), Collection Of Blood, Fight Fe Treasure, Hey Hey Guy, Light Skips Cross Heart, Brighton by the Sea, Dime porqué, Operation Ground And Pound (Album Version), Mumtaz (DJ Drez Jahta Mix), Psychedelic Sally, Mein Herz erkennt dich immer, Turn On_ Tune In_ Drown Out, BYOB (Explicit Album Version), Tir aux pigeons, Smile (Radio Edit), Whitley Flats, Breezy, The Date (Remix By Ana Rago), Waken Up, Fight For Your Right, Doctor Killdare, Heaven Knows (I`ve Changed), Toivon että huomaat, Reader, Bonhomie, ... And Then Comes Lividity (Album Version), Kids In America, Hardcore, Saturday Night Is The Loneliest Night In The Week, Sleestak, Le Presbytère n'a rien perdu de son Charme, Ai, Smoke, Strange, Ven Morena, Police Patrol, A Heart Needs A Home, That's How Rhythm Was Born, Freakin Flowz, We Never Sleep, Keeping On, ¿Para Qué?, Böse, Dilemmas (LP Version), Carmencita, CHAOS INTRO, Mirándonos, The Rules, We Wish You A Merry Christmas, Timeless Traces (Album Version), Square 4, Roussel : Symphony No.2 in B flat major Op.23 : II Modéré, Plus Je Fais Ci_ Plus Je Fais Ca, Race You, Misanthrope, Hitchin' A Ride, Freak On A Mission, Skins_ Punx and Drunx, Forever, Carnaval, Since My Baby Been Good, Soul Searcher, Paycheck Boogie, Bouquet, When Forever's Over, Ma-Ha-Lani-Papa-Doo, Busy Doing Nothing, She Works In A Store, Stay Funny, Keep The Customer Satisfied, Everyone_ Everywhere_ Everytime, The Jellyfish, Armentieres, Flashflood, Your Best Friend, Sew My Name, El Guardavía de la Vía, Loving You, Imagination, What To Do Crying Waiting Hoping Learning The Game, Skinny Punk, Knock Down, Black Messiah, Be It Me_ or Be It None, A little walk to nowhere, El niño de la calle, Lord_ Make Me an Instrument of Your Wrath, Something About You, Atomik Destruktor, Presiento, What I Heard, Skeletons (Live Acoustic Version), Mindig valamit keresünk..., Wine Drinker, This Is NOT a Crass Song, Something For The Pain, T.H.E.Y., Rock-A-Billy Rage, Osotope, Anouman, Trouble In The City, Wipeout, Prvni vesela, Solar, Dois, 3 Cowboy Songs: No. 2. The Colorado Trail, Se Te Ne Vai, Please Don't Judas Me, Librado Maldonado, Mismatches & Memories, Play Your Game, Taste Of Dis (Explicit Version), Gimme Ho (Rmx), Disciples of Discipline (Electro Version) (Bonustrack), The First Noel, The Best Summer Ever, I Won't Mind, Boy Mozart, Willow Tree, Boomerang, Soulful Garage, Forget The Weight Of The World, I Love You_ Alice B. Toklas (Remastered Version), Epilogue, Rainy Night Saloon, Who Is The Man, Beg Your Pardon, Stanotte, 5 Minutes Alone (LP Version), The Hardest Thing, Let Love Come Between Us, Fire In The Mountain, Rescue Me (Explicit), Step Into The Breeze (part 1), Deflector, Cold Sweat, Self Destruct, Dark Angel, Drinkin' Problem (Album Version), A Beautiful Life (Album Version), Ven Conmigo/Perdoname (Live), If You'd Only Talk To Me (Bonus Track), Ringa Ding Ding, Knocked Up, Crass Commercialism, The Last Rebel (LP Version), The Lottery, Whose Shoulder Are You Looking Over Anyway? (LP Version), You Took The Words Right Out Of My Mouth, Dankeschön Ernst Mosch, I'm a Jai Alai Knid of Guy, Save The Memories, Overskies Telegram (Including the March of Death), No Unexpected Guests, What's A Matter Baby, Blue Jeans, Walls And Cannonballs (Album), Extraordinary renditions, Hung Up, Good Gawd (feat. Hassaan Mackey), Joyful Sound, Shadow Waltz, "
     ]
    }
   ],
   "source": [
    "songs_similar_danceability = similar_danceability(user_song, df_songs, 0.1).collect()\n",
    "if songs_similar_danceability != None :\n",
    "    print(\" Songs with similar danceability :\", end ='\\t')\n",
    "    for song in songs_similar_danceability : \n",
    "        print(song[\"title\"], end = \", \")"
   ]
  },
  {
   "cell_type": "code",
   "execution_count": 64,
   "metadata": {},
   "outputs": [
    {
     "name": "stdout",
     "output_type": "stream",
     "text": [
      " Songs with similar loudness, tempo & hotness :\tGuajira, "
     ]
    }
   ],
   "source": [
    "songs_similar = similar_hotness(user_song, similar_tempo(user_song, similar_loudness(user_song, df_songs, 0.2), 6), 0.5).collect()\n",
    "if songs_similar != None :\n",
    "    print(\" Songs with similar loudness, tempo & hotness :\", end ='\\t')\n",
    "    for song in songs_similar : \n",
    "        print(song[\"title\"], end = \", \")"
   ]
  },
  {
   "cell_type": "code",
   "execution_count": 89,
   "metadata": {},
   "outputs": [
    {
     "data": {
      "text/plain": [
       "[Row(song_id='SOLKEAF12AB0186985', title='Yoko Mono', artist_name='Rui Reininho', artist_id='AR595Y91187B9A4EF0', release_album='Companhia Das Indias', duration=192.62649536132812, hotness=0.0, danceability=0.0, loudness=-7.446000099182129, tempo=200.07400512695312, year=2008),\n",
       " Row(song_id='SORSTBQ12A8C144986', title='Tumba Tumba', artist_name='Charanga Forever', artist_id='ARQ7XJG1187B991CEC', release_album='La Charanga Soy Yo', duration=367.4378967285156, hotness=0.0, danceability=0.0, loudness=-6.622000217437744, tempo=203.96400451660156, year=2000),\n",
       " Row(song_id='SOTIFMI12AB0186852', title='K#k* On The Mic (feat. Paul Shapiro)', artist_name='Hip Hop Hoodios', artist_id='ARJ6QUG1187B98BE13', release_album=\"Agua Pa' La Gente\", duration=233.92608642578125, hotness=0.2836011052131653, danceability=0.0, loudness=-4.146999835968018, tempo=200.22000122070312, year=2005),\n",
       " Row(song_id='SODPLYE12AB01898FB', title='A New Hope', artist_name='Blink-182', artist_id='ARA3I0J1187FB57869', release_album='Dude Ranch', duration=225.122802734375, hotness=0.6741647720336914, danceability=0.0, loudness=-7.315000057220459, tempo=200.71600341796875, year=1997),\n",
       " Row(song_id='SOICENL12A58A7C1CA', title='(Uh Oh) My Bad', artist_name='Kathleen Chaplin', artist_id='ARZWZUS1241B9CAAFF', release_album='(Uh Oh) My Bad', duration=189.02159118652344, hotness=0.23477782309055328, danceability=0.0, loudness=-5.14300012588501, tempo=200.44200134277344, year=0),\n",
       " Row(song_id='SOOJDQB12AB018DC5C', title='My Heart is Yours', artist_name='Didrik Solli-Tangen', artist_id='ARJTEHO1269FCD6016', release_album='My Heart is Yours', duration=184.9464874267578, hotness=0.6439691185951233, danceability=0.0, loudness=-7.869999885559082, tempo=202.49600219726562, year=0)]"
      ]
     },
     "execution_count": 89,
     "metadata": {},
     "output_type": "execute_result"
    }
   ],
   "source": [
    "similar_song_1(user_song).collect()"
   ]
  },
  {
   "cell_type": "code",
   "execution_count": 87,
   "metadata": {},
   "outputs": [
    {
     "data": {
      "text/plain": [
       "Row(song_id='SOLUIMX12AB0189599', title='Rattlesnake!', artist_name='A Static Lullaby', artist_id='ARQ05GM1187B990512', release_album='Rattlesnake!', duration=213.49832153320312, hotness=0.590252697467804, danceability=0.0, loudness=-5.5370001792907715, tempo=202.23300170898438, year=2008)"
      ]
     },
     "execution_count": 87,
     "metadata": {},
     "output_type": "execute_result"
    }
   ],
   "source": [
    "user_song"
   ]
  },
  {
   "cell_type": "markdown",
   "metadata": {},
   "source": [
    "## Tests (To delete) "
   ]
  },
  {
   "cell_type": "code",
   "execution_count": 4,
   "metadata": {
    "scrolled": false
   },
   "outputs": [
    {
     "name": "stdout",
     "output_type": "stream",
     "text": [
      "keys are [<HDF5 group \"/analysis\" (16 members)>, <HDF5 group \"/metadata\" (5 members)>, <HDF5 group \"/musicbrainz\" (3 members)>]\n",
      "\n",
      "<KeysViewHDF5 ['artist_terms', 'artist_terms_freq', 'artist_terms_weight', 'similar_artists', 'songs']>\n",
      "\n",
      "('analyzer_version', 'artist_7digitalid', 'artist_familiarity', 'artist_hotttnesss', 'artist_id', 'artist_latitude', 'artist_location', 'artist_longitude', 'artist_mbid', 'artist_name', 'artist_playmeid', 'genre', 'idx_artist_terms', 'idx_similar_artists', 'release', 'release_7digitalid', 'song_hotttnesss', 'song_id', 'title', 'track_7digitalid')\n",
      "[(b'', 165270, 0.58179377, 0.40199754, b'ARD7TVE1187B99BFB1', nan, b'California - LA', nan, b'e77e51a5-4761-45b3-9847-2051f811e366', b'Casual', 4479, b'', 0, 0, b'Fear Itself', 300848, 0.60211999, b'SOMZWCG12A8C13C480', b\"I Didn't Mean To\", 3401791)]\n",
      "artist_hotttnesss\n",
      "0.4019975433642836\n"
     ]
    },
    {
     "name": "stderr",
     "output_type": "stream",
     "text": [
      "/home/ubuntu/.local/lib/python3.6/site-packages/h5py/_hl/dataset.py:313: H5pyDeprecationWarning: dataset.value has been deprecated. Use dataset[()] instead.\n",
      "  \"Use dataset[()] instead.\", H5pyDeprecationWarning)\n"
     ]
    }
   ],
   "source": [
    "songs = h5py.File('b.h5') # type = HDF5 file.\n",
    "\n",
    "print(f'keys are {list(songs.values())}'\n",
    "group_analysis = songs['metadata'] # type: HDF5 group.\n",
    "print()\n",
    "print(group_analysis.keys()) # AttributeManager -- these are like a small metadata dictionary attached anywhere in the tree.\n",
    "\n",
    "#bars_start = songs['analysis']['bars_start'] # Dataset.\n",
    "\n",
    "# Lets look at a more complex table elsewhere in the tree...\n",
    "\n",
    "songs = songs['metadata']['songs'] # Dataset.\n",
    "\n",
    "# This dataset has rows and columns. Lets get the first row...\n",
    "song_row = songs.value\n",
    "print()\n",
    "# print the column names\n",
    "print(song_row.dtype.names)\n",
    "print(song_row)\n",
    "print(song_row.dtype.names[3])\n",
    "print(song_row[0][3])\n",
    "#print([song.decode(\"ASCII\") for song in song_row])\n"
   ]
  },
  {
   "cell_type": "markdown",
   "metadata": {},
   "source": [
    "## Releasing the resources"
   ]
  },
  {
   "cell_type": "code",
   "execution_count": 106,
   "metadata": {},
   "outputs": [],
   "source": [
    "spark_context.stop()"
   ]
  },
  {
   "cell_type": "code",
   "execution_count": null,
   "metadata": {},
   "outputs": [],
   "source": []
  }
 ],
 "metadata": {
  "kernelspec": {
   "display_name": "Python 3",
   "language": "python",
   "name": "python3"
  },
  "language_info": {
   "codemirror_mode": {
    "name": "ipython",
    "version": 3
   },
   "file_extension": ".py",
   "mimetype": "text/x-python",
   "name": "python",
   "nbconvert_exporter": "python",
   "pygments_lexer": "ipython3",
   "version": "3.6.7"
  }
 },
 "nbformat": 4,
 "nbformat_minor": 2
}
