{
 "cells": [
  {
   "cell_type": "markdown",
   "metadata": {},
   "source": [
    "# <center> Million Songs Analysis</center>"
   ]
  },
  {
   "cell_type": "markdown",
   "metadata": {},
   "source": [
    "## Starting the Spark session"
   ]
  },
  {
   "cell_type": "code",
   "execution_count": 1,
   "metadata": {},
   "outputs": [],
   "source": [
    "from pyspark.sql import SparkSession\n",
    "\n",
    "spark_session = SparkSession\\\n",
    "        .builder\\\n",
    "        .master(\"local[1]\") \\\n",
    "        .appName(\"Project_19\")\\\n",
    "        .config(\"spark.dynamicAllocation.enabled\", True)\\\n",
    "        .config(\"spark.shuffle.service.enabled\", True)\\\n",
    "        .config(\"spark.dynamicAllocation.executorIdleTimeout\",\"30s\")\\\n",
    "        .config(\"spark.executor.cores\",4)\\\n",
    "        .getOrCreate()\n",
    "            \n",
    "spark_context = spark_session.sparkContext"
   ]
  },
  {
   "cell_type": "markdown",
   "metadata": {},
   "source": [
    "## Importations"
   ]
  },
  {
   "cell_type": "code",
   "execution_count": 2,
   "metadata": {},
   "outputs": [],
   "source": [
    "import h5py\n",
    "import io, time\n",
    "from pyspark.sql import Row\n",
    "from pyspark.sql.types import *\n",
    "from pyspark.sql.functions import monotonically_increasing_id, col, when"
   ]
  },
  {
   "cell_type": "markdown",
   "metadata": {},
   "source": [
    "## Loading the data into RDDs (Skip)"
   ]
  },
  {
   "cell_type": "code",
   "execution_count": 3,
   "metadata": {},
   "outputs": [],
   "source": [
    "\"\"\" This function turns a list of binary elements to a string with the element separated by the character ',' \"\"\"\n",
    "def list_bin_to_str(list_terms) :\n",
    "    string=\"\"\n",
    "    for term in list_terms :\n",
    "        string += term.decode()+','\n",
    "    return string[1:-1]   "
   ]
  },
  {
   "cell_type": "code",
   "execution_count": 37,
   "metadata": {
    "scrolled": true
   },
   "outputs": [],
   "source": [
    "\"\"\" We prepare first a RDD containing tuples (song_information, artist_information) \"\"\"\n",
    "#rdd = spark_context.binaryFiles(\"hdfs://host-192-168-1-153-ldsa:9000/millionsongs/data/A/B/*\")\n",
    "rdd = spark_context.binaryFiles(\"/mnt/ms/data/A/B/*\")\n",
    "\n",
    "# A function to open the h5 files one by one and take the information of interest for the song and the artist\n",
    "def f(x):\n",
    "    with h5py.File(io.BytesIO(x[1])) as f:\n",
    "        \n",
    "        f_meta = f['metadata'][\"songs\"]\n",
    "        f_analys = f['analysis'][\"songs\"]\n",
    "        f_brainz = f['musicbrainz'][\"songs\"]\n",
    "        \n",
    "        artist_terms = list_bin_to_str(f['metadata']['artist_terms'][:])\n",
    "        similar_artists = list_bin_to_str(f['metadata']['similar_artists'][:])\n",
    "        \n",
    "        return ((f_meta[0][-3].decode(), f_meta[0][-2].decode(),\n",
    "                f_meta[0][9].decode(), f_meta[0][4].decode(),\n",
    "                f_meta[0][-6].decode(),\n",
    "                float(f_analys[0][3]), float(f_meta[0][-4]),\n",
    "                float(f_analys[0][2]), float(f_analys[0][23]), \n",
    "                float(f_analys[0][-4]), int(f_brainz[0][1])), \n",
    "               \n",
    "                (f_meta[0][4].decode(), f_meta[0][9].decode(),\n",
    "                f_meta[0][6].decode(), float(f_meta[0][3]),\n",
    "                artist_terms, similar_artists))\n",
    "\n",
    "rdd = rdd.map(f)\n",
    "\n",
    "\"\"\" We create two RDDs (songs, artists) from the general one \"\"\"\n",
    "rdd_songs = rdd.map(lambda x : x[0])\n",
    "rdd_artists = rdd.map(lambda x : x[1])"
   ]
  },
  {
   "cell_type": "markdown",
   "metadata": {},
   "source": [
    "## Turning RDDs to Data frames (Skip)"
   ]
  },
  {
   "cell_type": "markdown",
   "metadata": {},
   "source": [
    "<b> *   Table Songs </b>"
   ]
  },
  {
   "cell_type": "code",
   "execution_count": 7,
   "metadata": {
    "scrolled": false
   },
   "outputs": [
    {
     "name": "stdout",
     "output_type": "stream",
     "text": [
      "+------------------+--------------------+--------------------+------------------+--------------------+---------+----------+------------+--------+-------+----+\n",
      "|           song_id|               title|         artist_name|         artist_id|       release_album| duration|   hotness|danceability|loudness|  tempo|year|\n",
      "+------------------+--------------------+--------------------+------------------+--------------------+---------+----------+------------+--------+-------+----+\n",
      "|SOPLQMB12AC4686313|Girl Of Mysteriou...|           MARC COHN|ARWRVSR1187FB575FB|    Burning The Daze| 257.5669|       0.0|         0.0| -13.107|102.073|1998|\n",
      "|SOFJWKK12AB01826CD|The Cookie Bakers...|      Laurie Berkner|ARC1CJB1187B99FCA4|           Buzz Buzz|233.45587|       0.0|         0.0| -16.263| 144.71|2001|\n",
      "|SOHNDZB12A8C13EDB8|      Shooting Stars|           Cauterize|ARF0COO1187B99B9EF|    So Far From Real|240.43057|0.71432906|         0.0|  -4.714| 97.148|2003|\n",
      "|SOAPGDK12A6D4FAF5E|        The Blessing|                 Joi|AR95QS71187FB3F49A|        Without Zero|333.24362|0.44369507|         0.0|  -4.141| 95.973|   0|\n",
      "|SOUYWLC12AB0181B41|     Sappy Love Song|         Buck-O-Nine|AR4WX0Z1187B99FBB5|Songs In The Key ...|202.55302| 0.4806106|         0.0|  -9.946|169.449|1994|\n",
      "|SOSDZFY12A8C143718|           Forgotten|    Callenish Circle|AR748W61187B9B6AB8|   Forbidden Empathy|226.11546|0.50338125|         0.0|  -7.237|184.453|1999|\n",
      "|SOHDQHR12AB018A98F|          Fast Girls|        The Kingbees|ARW9DYA1187B9994FF| The Kingbees I & II|119.66649|       NaN|         0.0|  -9.212|201.974|1980|\n",
      "|SOETQOF12A8C14494B|   Our Day Will Come|    Angelic Upstarts|ARENGZO1187FB4CEB4|Blood On The Terr...| 229.1979|       NaN|         0.0|  -9.551|147.936|1987|\n",
      "|SOCMOPC12A58A7D3C6|           The Story|   Tristan Prettyman|ARUVJDL1187B9A7DE7|t w e n t y t h r...|175.22893| 0.6641728|         0.0|  -7.713| 72.708|2005|\n",
      "|SOZJQZM12A67ADAE49|The Creatures Are...|Murder At The Reg...|AR5VH3X1187B99AE00|      filed: '93-'03|244.71465|       NaN|         0.0|  -6.589| 87.061|2003|\n",
      "|SOAYYRV12AAF3B522A|            Falstaff|  The Watts Prophets|AR68M8R1187B9A86A8|Things Gonna Get ...|  96.1824|       0.0|         0.0| -12.718|164.842|2005|\n",
      "|SOTCPOF12AB01885FE|Doctor Of Hearts ...|        THE CHIFFONS|ARNUFGE1187B9B7881|    60's Girl Groups|  166.922|       0.0|         0.0|    -7.0|120.712|   0|\n",
      "|SOSYIET12A6D4FB3CF|             Feel It|      Hassaan Mackey|ARDLOZQ11F50C4B5D3|Rawkus 50 Present...|266.00443|0.21508032|         0.0|  -5.101|120.617|   0|\n",
      "|SOLDELA12AB0180E83|(There'll Be) Pea...|       Elvis Presley|ARULZ741187B9AD2EF|Blue Christmas Wi...| 200.0975|       NaN|         0.0|  -16.34| 67.219|   0|\n",
      "|SOSEFMC12A8C136D2A|         Qui Es-tu ?|           Percubaba|ARDN99S1187B995D72|       Dream & Strup| 289.6714| 0.3589765|         0.0|  -7.868| 99.307|   0|\n",
      "|SOUKNJR12A6D4FCC29|   Torturing My Soul|           Magic Sam|AR8JNE51187FB539B6|           Magic Sam| 237.5571|0.27784988|         0.0| -13.549|  93.51|   0|\n",
      "|SOERPNN12A58A7D057|     La Vida En Rosa| S. Solis y Orquesta|ARITKAJ122BCFCA169|Instrumental Acor...|182.20363|0.19858672|         0.0| -11.415| 63.007|   0|\n",
      "|SOLBDTR12AB0182326|Paginas Muertas -...|     Olimpo Cardenas|AROJXND11F50C516B9|Olimpo Cardenas' ...| 172.7473|       NaN|         0.0| -14.417|196.784|   0|\n",
      "|SORNVIM12AB0186FFF|   Come See About Me|     Shakin' Stevens|AR5HOKG1187FB3873E|The Epic Masters ...| 351.5816|       NaN|         0.0|  -3.567|125.258|2007|\n",
      "|SOJXMRA12A58A7A875|Little Bitty Pret...|           Dee Clark|AR8WHEJ1187B98CDCA|       Greatest Hits|141.19138|       NaN|         0.0|   -9.56| 91.704|   0|\n",
      "+------------------+--------------------+--------------------+------------------+--------------------+---------+----------+------------+--------+-------+----+\n",
      "only showing top 20 rows\n",
      "\n"
     ]
    }
   ],
   "source": [
    "attributes = rdd_songs.map(lambda p: Row(p[0], p[1], p[2], p[3], p[4], p[5], p[6], p[7], p[8], p[9], p[10]))\n",
    "fields = [StructField(\"song_id\", StringType(), True), StructField(\"title\", StringType(), True), \n",
    "          StructField(\"artist_name\", StringType(), True), StructField(\"artist_id\", StringType(), True),\n",
    "          StructField(\"release_album\", StringType(), True), \n",
    "          StructField(\"duration\", FloatType(), True), StructField(\"hotness\", FloatType(), True), \n",
    "          StructField(\"danceability\", FloatType(), True), StructField(\"loudness\", FloatType(), True), \n",
    "          StructField(\"tempo\", FloatType(), True), StructField(\"year\", IntegerType())]\n",
    "songs_schema = StructType(fields)\n",
    "\n",
    "df_songs = spark_session.createDataFrame(attributes, songs_schema)\n",
    "df_songs.show()"
   ]
  },
  {
   "cell_type": "markdown",
   "metadata": {},
   "source": [
    "<b> *   Table Artists </b>"
   ]
  },
  {
   "cell_type": "code",
   "execution_count": 38,
   "metadata": {},
   "outputs": [
    {
     "name": "stdout",
     "output_type": "stream",
     "text": [
      "+------------------+--------------------+------------------+----------+--------------------+--------------------+\n",
      "|                id|                name|          location|   hotness|               terms|     similar_artists|\n",
      "+------------------+--------------------+------------------+----------+--------------------+--------------------+\n",
      "|ARPET7C1187B996C8B|          Bajja Jedd|                  |       0.0|ancehall,reggae,j...|RCQ6GG1187B9A39DB...|\n",
      "|ARTBBJ51187FB498F5|      Barrett Strong|     Westpoint, MS|0.38878328|otown,jazz funk,l...|RV03D41187FB413E8...|\n",
      "|ARH39ZK1187B9ABC22|           Girl Talk|   California - SF| 0.5783318|litch,smooth jazz...|RFL5HZ1187B9AC31B...|\n",
      "|ARYEUNC1187B9A3648|     utopia:banished|                  |0.33196872|roken beat,grunge...|R7TT521187B99DF76...|\n",
      "|AR6AYVY1187B990E7C|          Tony Rebel|                  | 0.4064398|ancehall,roots re...|RVJGJE1187FB436EB...|\n",
      "|ARX8MDO1187FB5A1B9| Metabass 'N' Breath|                  |       0.0|ip hop,breakbeat,...|RL2K9W1187FB526BA...|\n",
      "|ARQ7XJG1187B991CEC|    Charanga Forever|                  |0.27990147|alsa,charanga,los...|R2267U1187B9A4B25...|\n",
      "|ARHA3KO1187B99D51F|           Barricada|                MX| 0.4483886|ock,rock 'n roll,...|RJNXF41187FB3E0AC...|\n",
      "|ARX4VP21187FB37BF9|      The Alter Boys|                  |0.43073228|unk metal,experim...|RKV0FY1187FB407B0...|\n",
      "|ARZTIB31187B98D8B5|             F-Minus|                  |0.40954304|ardcore punk,folk...|R8JO2B1187B98EBB6...|\n",
      "|ARGMKGE1187FB44E41|Alesha Dixon / As...|Welwyn Garden City|0.49577707|ritish pop,mambo,...|RIX1PC1187FB5608F...|\n",
      "|AR748W61187B9B6AB8|    Callenish Circle|                  |0.34964815|eath metal,viking...|RE6J0C1187B9991A3...|\n",
      "|ARM6U4Q1187B99ACBB|        The Whitlams|                  |0.40243372|oft rock,parody,b...|RJ1XVJ1187B99FC47...|\n",
      "|AROAS4S1187B98E102|J. Karjalainen El...|                  |0.36012378|olk rock,pop rock...|RHAYX01187B9AA26F...|\n",
      "|AR8WGFD1187B9A258C|             Kapanga|                  |0.48186737|uartet,ska,pop ro...|RV4TAT1187FB3BDE8...|\n",
      "|AR33JQI1187B9ADC2A|           Doris Day|    Cincinnati, OH|0.44381428|ocal jazz,swing,b...|RE7OOV1187B9B8800...|\n",
      "|ARK4ZEK1187B990A4F|       George Strait|      Pearsall, TX| 0.6381207|lassic country,ho...|R0CDSK1187FB52ED6...|\n",
      "|ARV6QHT1187FB5537A|         Nana Caymmi|                  |0.34835002|razilian pop musi...|R6W2ZH1187FB55ECB...|\n",
      "|ARFZSPU1187B9B5BA9|       John Frizzell|                  |0.36690584|oundtrack,sympho ...|R1YFM81187FB3DC28...|\n",
      "|ARV62991187B99DE55|Project Jenny_ Pr...|NY - New York City|0.35014793|araoke,experiment...|RDS7G91187B992D5E...|\n",
      "+------------------+--------------------+------------------+----------+--------------------+--------------------+\n",
      "only showing top 20 rows\n",
      "\n"
     ]
    }
   ],
   "source": [
    "attributes = rdd_artists.map(lambda p: Row(p[0], p[1], p[2], p[3], p[4], p[5]))\n",
    "fields = [StructField(\"id\", StringType(), True), StructField(\"name\", StringType(), True), \n",
    "          StructField(\"location\", StringType(), True), StructField(\"hotness\", FloatType(), True),\n",
    "          StructField(\"terms\", StringType(), True), \n",
    "          StructField(\"similar_artists\", StringType(), True)]\n",
    "artists_schema = StructType(fields)\n",
    "\n",
    "df_artists = spark_session.createDataFrame(attributes, artists_schema)\\\n",
    "                          .dropDuplicates()\n",
    "df_artists.show()"
   ]
  },
  {
   "cell_type": "markdown",
   "metadata": {},
   "source": [
    "## Saving data frames in csv files (Skip)"
   ]
  },
  {
   "cell_type": "markdown",
   "metadata": {},
   "source": [
    "<b> *   Table Songs </b>"
   ]
  },
  {
   "cell_type": "code",
   "execution_count": 8,
   "metadata": {},
   "outputs": [],
   "source": [
    "df_songs.write.format('com.databricks.spark.csv')\\\n",
    "        .option(\"header\", \"true\")\\\n",
    "        .save('/home/ubuntu/MySongs.csv')\n"
   ]
  },
  {
   "cell_type": "markdown",
   "metadata": {},
   "source": [
    "<b> *   Table Artists </b>"
   ]
  },
  {
   "cell_type": "code",
   "execution_count": 40,
   "metadata": {},
   "outputs": [],
   "source": [
    "df_artists.write.format('com.databricks.spark.csv')\\\n",
    "        .option(\"header\", \"true\")\\\n",
    "        .save('/home/ubuntu/MyArtists.csv')\n"
   ]
  },
  {
   "cell_type": "markdown",
   "metadata": {},
   "source": [
    "## Loading data frames from csv files"
   ]
  },
  {
   "cell_type": "markdown",
   "metadata": {},
   "source": [
    "<b> *   Table Songs </b>"
   ]
  },
  {
   "cell_type": "code",
   "execution_count": 4,
   "metadata": {},
   "outputs": [],
   "source": [
    "fields = [StructField(\"song_id\", StringType(), True), StructField(\"title\", StringType(), True), \n",
    "          StructField(\"artist_name\", StringType(), True), StructField(\"artist_id\", StringType(), True),\n",
    "          StructField(\"release_album\", StringType(), True), \n",
    "          StructField(\"duration\", FloatType(), True), StructField(\"hotness\", FloatType(), True), \n",
    "          StructField(\"danceability\", FloatType(), True), StructField(\"loudness\", FloatType(), True), \n",
    "          StructField(\"tempo\", FloatType(), True), StructField(\"year\", IntegerType())]\n",
    "songs_schema = StructType(fields)\n",
    "\n",
    "df_songs = spark_session.read.load('file:/home/ubuntu/MySongs.csv', \n",
    "                          format='com.databricks.spark.csv', \n",
    "                          header='true', \n",
    "                          schema=songs_schema)\\\n",
    "                        .cache()\n"
   ]
  },
  {
   "cell_type": "markdown",
   "metadata": {},
   "source": [
    "<b> *   Table Artists </b>"
   ]
  },
  {
   "cell_type": "code",
   "execution_count": 5,
   "metadata": {},
   "outputs": [],
   "source": [
    "fields = [StructField(\"id\", StringType(), True), StructField(\"name\", StringType(), True), \n",
    "          StructField(\"location\", StringType(), True), StructField(\"hotness\", FloatType(), True),\n",
    "          StructField(\"terms\", StringType(), True), \n",
    "          StructField(\"similar_artists\", StringType(), True)]\n",
    "artists_schema = StructType(fields)\n",
    "\n",
    "df_artists = spark_session.read.load('file:/home/ubuntu/MyArtists.csv', \n",
    "                          format='com.databricks.spark.csv', \n",
    "                          header='true', \n",
    "                          schema=artists_schema)\\\n",
    "                          .cache()"
   ]
  },
  {
   "cell_type": "markdown",
   "metadata": {},
   "source": [
    "# Functions"
   ]
  },
  {
   "cell_type": "code",
   "execution_count": 6,
   "metadata": {},
   "outputs": [],
   "source": [
    "\"\"\" This function asks the user for the title of a song and returns its attributes in the database if it exists \"\"\"\n",
    "def ask_for_song() :\n",
    "    song_title = input(\" Title of the song : \")\n",
    "    song = df_songs.filter(df_songs[\"title\"].like(\"%\" + song_title + \"%\"))\n",
    "    while song.count() == 0 :\n",
    "        print(\" This song doesn't exist in the database\")\n",
    "        song = df_songs.filter(df_songs[\"title\"].like(\"%\" + input(\"Title of the song : \") + \"%\"))\n",
    "    print(\" The song is : \", song.first()[\"title\"])\n",
    "    return song.first()"
   ]
  },
  {
   "cell_type": "code",
   "execution_count": 7,
   "metadata": {
    "collapsed": true
   },
   "outputs": [],
   "source": [
    "\"\"\" This function returns the songs which belong to the same artist as the input song(Row) \"\"\"\n",
    "def same_artist(song) :\n",
    "    similar_songs = df_songs.filter(df_songs.artist_name == song[\"artist_name\"])\n",
    "    if similar_songs.count() > 1 : \n",
    "        return similar_songs.filter(similar_songs.title != song[\"title\"])\n",
    "    else :\n",
    "        return None"
   ]
  },
  {
   "cell_type": "code",
   "execution_count": 20,
   "metadata": {},
   "outputs": [],
   "source": [
    "\"\"\" This function returns the songs, from the dataframe, which have similar tempo as the input song\"\"\"\n",
    "def similar_tempo(song, dataframe, margin) : \n",
    "    similar_songs = dataframe.filter(dataframe.tempo.between(song[\"tempo\"] - margin, song[\"tempo\"] + margin))\\\n",
    "                      .filter(dataframe.title != song[\"title\"])\n",
    "    if similar_songs.count() == 0 :\n",
    "        similar_songs = None\n",
    "    return similar_songs"
   ]
  },
  {
   "cell_type": "code",
   "execution_count": 19,
   "metadata": {},
   "outputs": [],
   "source": [
    "\"\"\" This function returns the songs, from the dataframe, which have similar loudness as the input song\"\"\"\n",
    "def similar_loudness(song, dataframe, margin) : \n",
    "    similar_songs = dataframe.filter(dataframe.loudness.between(song[\"loudness\"] - margin, song[\"loudness\"] + margin))\\\n",
    "                      .filter(dataframe.title != song[\"title\"])\n",
    "    if similar_songs.count() == 0 :\n",
    "        similar_songs = None\n",
    "    return similar_songs"
   ]
  },
  {
   "cell_type": "code",
   "execution_count": 60,
   "metadata": {},
   "outputs": [],
   "source": [
    "\"\"\" This function returns the songs, from the dataframe, which have similar hotness as the input song\"\"\"\n",
    "def similar_hotness(song, dataframe, margin) : \n",
    "    similar_songs = dataframe.filter(dataframe.hotness.between(song[\"hotness\"] - margin, song[\"hotness\"] + margin))\\\n",
    "                      .filter(dataframe.title != song[\"title\"])\n",
    "    if similar_songs.count() == 0 :\n",
    "        similar_songs = None\n",
    "    return similar_songs"
   ]
  },
  {
   "cell_type": "markdown",
   "metadata": {},
   "source": [
    "## Core Analysis"
   ]
  },
  {
   "cell_type": "code",
   "execution_count": 10,
   "metadata": {
    "scrolled": true
   },
   "outputs": [
    {
     "name": "stdout",
     "output_type": "stream",
     "text": [
      " Title of the song : Rattle\n",
      " The song is :  Rattlesnake!\n"
     ]
    }
   ],
   "source": [
    "user_song = ask_for_song()"
   ]
  },
  {
   "cell_type": "code",
   "execution_count": 17,
   "metadata": {
    "scrolled": false
   },
   "outputs": [
    {
     "name": "stdout",
     "output_type": "stream",
     "text": [
      " Songs from the same artist :\tGod Bless You (Goddamn it)\n"
     ]
    }
   ],
   "source": [
    "songs_same_artist = same_artist(user_song)\n",
    "if songs_same_artist != None :\n",
    "    some_songs = songs_same_artist.take(5)\n",
    "    print(\" Songs from the same artist :\", end ='\\t')\n",
    "    for song in some_songs : \n",
    "        print(song[\"title\"], sep = \", \")\n",
    "    "
   ]
  },
  {
   "cell_type": "code",
   "execution_count": 21,
   "metadata": {
    "scrolled": true
   },
   "outputs": [
    {
     "name": "stdout",
     "output_type": "stream",
     "text": [
      " Songs with similar tempo :\tFast Girls, High Tonight, Ma Promese, Road Song, My Heart is Yours, Chlebnikov, "
     ]
    }
   ],
   "source": [
    "songs_similar_tempo = similar_tempo(user_song, df_songs, 1).collect()\n",
    "if songs_similar_tempo != None :\n",
    "    print(\" Songs with similar tempo :\", end ='\\t')\n",
    "    for song in songs_similar_tempo : \n",
    "        print(song[\"title\"], end = \", \")"
   ]
  },
  {
   "cell_type": "code",
   "execution_count": 43,
   "metadata": {
    "scrolled": true
   },
   "outputs": [
    {
     "name": "stdout",
     "output_type": "stream",
     "text": [
      " Songs with similar loudness :\tGuajira, I'll Be Autumn_ You Be Winter, Je Me Lâche, Something, Sunshine After The Rain, The Lair Of The White Worm, Heaven, Kinda New (We All Live & Die), She's Gone, Psychobilly Is All Around, The Nothing Doctrine, Medley Leïla Chico, Other Girls, Kids In America, Stanotte, Self Destruct, Ringa Ding Ding, "
     ]
    }
   ],
   "source": [
    "songs_similar_loudness = similar_loudness(user_song, df_songs, 0.1).collect()\n",
    "if songs_similar_loudness != None :\n",
    "    print(\" Songs with similar loudness :\", end ='\\t')\n",
    "    for song in songs_similar_loudness : \n",
    "        print(song[\"title\"], end = \", \")"
   ]
  },
  {
   "cell_type": "code",
   "execution_count": 61,
   "metadata": {},
   "outputs": [
    {
     "name": "stdout",
     "output_type": "stream",
     "text": [
      " Songs with similar hotness :\tGirl Of Mysterious Sorrow (LP Version), The Cookie Bakers of the Night, Shooting Stars, The Blessing, Sappy Love Song, Forgotten, The Story, Falstaff, Doctor Of Hearts (Album Version), Feel It, Qui Es-tu ?, Torturing My Soul, La Vida En Rosa, Digging For Gold, Concluding Speech, The Fisherman, Whip It, Tir Na Nog, Viagem, Por um dia e nada mais, Rehtorin luiseva Salli, Abominations, Rigor Mortis, Stark Honesty, Citizen Of The Planet, Jenny Had A Birthday, Glad All Over, When You Wake For Certain, Powdered Wig, You Can Always Come Home, The Sweep, Talk About, Almost Genuine, Stuldt Håjt, Enamorado de Ti, Farlig (feat. Tshawe), Mehr als dies, (she's A) Skinhead Girl Warrior (Single Version), Volcán, The Suits Vs The Tilted Chairs, Sisterhood of Convoluted Thinkers (Piano 2 Remix), I'll Never Dream, Yoko Mono, The Sweetest Curse, Untitled, Arruncha, Give it up feat. Timberlee, (I Heard That) Lonesome Whistle, Fear the Cocos, Is That All You've Got For Me (Album Version), Manyeo, We're Back, Otra Virgen, Lesson Learned, Den zu´ich ihm ´rein, God Drinks At The Sando, Felt, Welcome To Goodbye, This Christmas (LP Version), Heart it Races (Frank Tetaz Remix), Love Has Passed Away, Village Attack/ The Arrest, Teus caprichos, Honeyspider II, Trouble, What You Deserve (Album Version), Talk Like POP, The Red The White The Black The Blue, Es dificil, Wake Me Up When September Ends (Live at Foxboro_ MA 9/3/05), Pitié Pour Lui, Nuestra Tierra, The Royal Way, Eyes Of A Child (Album), Sleight Of Hand, So Much To Say - Intro (LP Version), Cat And Mouse, Have You Seen Her, The Modern Leper, Son Of A Gun (Radio Edit), Hit The Lights, While There's Still Time, What Child Is This (LP Version), Spinning, Old Tree, A Change Is Gonna Come, Don't Tell Your Monkey Man, Time, Karuna, Closing Scene, Save Your Sorrows (LP Version), Slave To The Wage, Over To You, Cecil Drives a Combine Harvester, Breath #2, All My Love (Ask Nothing), Be A Man, Un Tipo Como Yo, Ladies in Their Sensitivities, Aqua Beat, Get It For Free, I Love The Lovers, Landing Feet First (Album Version), Saints and Soldiers, Don't Cry_ Joe, River, Into A Swan, Big Balls And Cow Town, Party Til The Cows Come Home, Green Onions, Two Good Reasons, Baddest Of The Bad (Album), Freestyle, Back Doors Crying, On The Face, Guajira, I'll Be Autumn_ You Be Winter, Je Me Lâche, White Lines (Long Version), Compulsory Resurrection, Miles Away, Two Hands, Here's Looking At You Kid, To The Stars, Suite No.10 in D minor (1996 Digital Remaster): IV.  Gigue (Presto), This Time I'll Be Sweeter, Ihr für uns und wir für Euch, Groove Me, Puppet On A String, Fuzzy, A House in the Fog, Red Sails, The Twillight Story, Blowing The Blues, Twilight Zone, Pienso En Ti, A Heart Without A Home, Gladiola, I Can't Tame Wild Women, Winter Mountain, Damisela Encantadora, Snoopy, Satellites, The Parson, No Mercy, Two Rights, Yogoreta Te No Tenshi ???????, The Rainbow Connection, Las Murallas De Jericó, Guiding Light (LP Version), The Sound Of Goodbye (Above & Beyond Vocal Mix), Atrevido, Lyrica, The Song Belongs To Everyone, You Are My Memoir, Walk the Edge, He Made a Woman Out of Me, Takin' Over, When The Morning Comes, Bite Our Style [Interlude] (LP Version), Dance Vd, Come Home, Anytime Is The Right Time, Handsome Rewards, Pop-Corn, Sooner Or Later, You are Good, Complicated, Lake Of Dreams, Rumenka Takes a Drive, Will I Find Someone, Snow in Central Park, Swallow The Knife (Live) (Segue), Kater Street Rag, More Than Enough, Under Quarantine, Over Now, Just Abuse Me, Anta Bemalik, Merci (avec Accrophone), Set Apart This Dream, Love All Of, Games, Gato, Old Friends, Illiterate Interlude, Avalanche, Heiliges Herz (Thomas Rainer - Remix), Pablo, Show Me What You Got, Mayday, Chapter, Ain't That Right, The Melting Moon (Edit), Summer Follows Spring, Vertical Drive, Todo Vale Hoy, Wildes Leben, Head Of Ringo (Album), One More For Love, Belle-ile-en-mer, Chapter III: La Terra Santa, Crash-Pad Driver, Everyone's in Everyone, Unidentified Flying Objectivity, Talking Bush, The Blue Cafe, Through the Snake's Eyes, Kisses And Tears (with Frank Sinatra), Homeland, When A Man's In Love He Feels No Cold, What I'm Trying To Say, Gaia, Kansas, Tumba Tumba, For Belgian Friends (Live 13.8.1981), La dame aux Camel lights (Live), Love The Way You Do So, Vegetale, Hex Breaker, Hawaiian Chimes, Send In The Clowns, See Saw, Nutta's Chance, Train Track, Ex Cathedra, My Generation, Evil Does (What Evil Knows), Turn Around, Rien Ne Va Plus, It's Love That Really Counts, Forbidden Fruit, All I Need, P.B.E. (Powerful_ Beautiful_ Excellent), Kesey Seed, Lonesome Boatman, Daydreaming [Jakwob Remix], Deep Night/Softly As In A Morning Sunrise (Medley), Lost In the Soul Shower, Trace Decay, Termino Mi Amor (Glenn Underground CVO Mix), L'insidieuse (Live), Taylor Made, Albino, Crazy Moon, Youlan_ Lonely Orchid (solo guqin), Watch The World Burn (Album Version), Possession, River Man, Future Tense, Complain, Shoes On The Road, Rave Dave, Rapture Or Pain, Jack Cannon, Cool Kind Woman Blues, Got To Stop, Thug 'N' Me, The Lair Of The White Worm, Coqueta, Find Me, So Hot, Yo soy quien tu necesitas esta noche (Version 2008), What's Going On, Let Me Show You [I Just Want To Make You Smile], Ease, Now You Know, Divinorum, A La Memoria Del Muerto, Clover, Say You're Mine Again, Yr Mangled Heart, Sweedeedee, The Fire Within My Cold Heart, By The Way, Straw Men (Electronic), As Diehard As They Come (Album Version), My Bonnie Lies Over the Ocean, Lonesome Town, Fantastic, Festival Of Music, Hero, Mother, Babylon, Comfort Zone, Stealing From The Queen, You're My Baby, Elusive Butterfly, Reason With The Beast, The Fallen's Arrival (Album Version), Sayin' Dope, Auld Lang Syne (Live) (2002 Digital Remaster), Seven Seas, Korrupted - Remix, Vagrant, Anyone Can Dig A Hole But It Takes A Real Man To Call It Home, Coeur d'acier, Dubzilian, El Universal, The Ritual Of Mahaparinirvana, The Ballad of Johnny Burma, Electric Guitar (Headstock), Dr. Bootygrabber, I Am Eve, Branko vs Mate, Breaking The Broken, Goodbye Green Day, Nookie, Mystifies Me, Heaven, Pale Empress, Peace Be Still (Low Key-Premiere Performance Plus w/o Background Vocals), Seasons, Who Shot King Tubby - Original, Metal from Hell...22nd Century, Tik Tok (Come On), Stories from the Neighbourhood, Shipwrecked Frontier Pioneer, Turning Away, I'll Remember April, Never Look Away, La font i l'excursionista, I Feel Love - R.A.F. Zone Mix, Men In Helicopters, The Girl I Find (LP Version), Flores Negras, Cumbia del Saxofón, Marijuana, The Womb (Album Version), Muertos y furiosos, Julie H, At The Border_ Guy, Hundredweight, Seraphs And Silence, Superman, Ma Promese, Bad Day, Volver (LP Version), I'm Not Going, More Than Just A Friday, Now's The Time, Safari, I Know She Will, Kutt Free (DJ Volume Remix), The Arrival Of Satan'S Empire, The Time Falling Bodies Take To Light, Twelve, We Don't Need Another Hero (Thunderdome), He's Got The Whole World In His Hands, Snowgirl, Trusty Chords, The Champ, Ten Tonne, Jenny Take a Ride, Rumba De Barcelona, Europe Is Different, Knie Nieder (Clubmix), Tatuuj Mnie, Frozen Roads, No One Else, The Impossible Dream, High Tension Wire, Deliver Me, Garden of Earthly Delights, James Dean's Jacket, Tik Tok (Parody), K#k* On The Mic (feat. Paul Shapiro), I Hate You, Up Up & Away, Eckenliegerblues, Exclusively, I Wouldn't Have it Any Other Way, Uno Mas, Woke Up This Morning, Siren's Call, Cryin' Time, Little Sister, L' Envers Du Décor, Full-Choke Wigmaker's Vice, Am I Going Insane (Radio), Make Believe (Remastered Album Version), Montluçon, Kinda New (We All Live & Die), Chapter 12 Twelve Inch Mix, Gueixa, Trying To Hold On To My Woman, City of Jerusalem, Tears, Ya Nada Volvera A Ser Como Antes, Shameless, Ox, Bad Sign, Ali Day, Cathleen, Unicorn Vs. Gravity, Leaving Your Death in a Flowerbed, Nowhere Again (Album Version), There Are Already Roses, It Wont Be Christmas, Hundulu, Sometimes They Stay_ Sometimes They Go, Ain't No Stoppin', Algiers, Warmest Rising Sun (LP Version), Bad Omen (24-Bit Digitally Remastered 04) (), Jazz is the move, Film Maker, Volver A Los, Erica (2005 Digital Remaster), Editions Of You, Escape Hatch, Whatever Happened To The Times?, Akhirnya Aku Sendiri Jua, Yo No Sé Que Pasó, I Like The Girls, Introduction (LIve-LP Version), Ton Actualité, Woodchopper's Ball, Tu Revolución, OAKtown, La Palma De Coco, I Don't Wanna Let You Go, Rev. Jack & His Roamin' Cadillac Church, All By Myself, I Hold Your Hand In Mine [Live At Royal Albert Hall], Miseria_ Muerte Y Sangre, Blessed Assurance, Spending Some Change Featuring Cutty, K, Into My Life, Ojos Gitanos, Sweet Inspiration, She's Gone, Del Bosque De Tu Alegria, Sincerity (Part 1 & 2), Drunken Giraffe, Chill me, Too Much Freedom, Solamente Una Vez, Polly Vaughan, New Moon Over Swift Water, Festival Acadien Waltz, Power Play (Live In '84), Drifting From Town To Town, Long Time Gone, Seb-1.08, Tag - Voice Over: April In Paris, The Job's A Game, Total All Out Water, I Ain't Mad At Cha, Fat Girls, Schizophrenic Dub, Work Of Art [Da Vinci] [PJ Harmony Summer Nice Version], You're My World, Fortunate Son (Live), Psychobilly Is All Around, Cool Smoke, A Thousand Memories, Solta, Sahti Waari, Fifa, Lonesome Highway, The Titanic, Negativ Song, Hit And Run Holiday (Album Version), Nina Nina, The Great Gibber Plain, Nubia (LP Version), Over The Mountains, Save Our Souls, Bus Station Blues (Live), Poverty For All, Janine 3, Mr. Prime Minister, No Good Time (Live At The Zodiac), Witch In The Old Man, Wing (Inst.), Show Me, Prophet, Dialog mit dem Tölpel (One Foot In Da Rave - Remix), Full Brazilian, Forever Again, Disco Rayao, Liputtomat Laivat, Parallel Universe, Como La Flor (2005 Re-mastering) (Live), Somos Más - Qué Difícil, A New Hope, Invitation, Tanz_ Mephisto!, Allein, Fast Trip, Living Will, Intro, Forever Gone, Temporary Solution to A Permanent Problem, Andalucian Blues, Crazy, Kill The Messenger, Sacred Garden, Back To My Roots, When They Are Gone (for Tim), Let's Spend The Night Together, C'était quand ?, The Nothing Doctrine, Angels In The Snow, The Bright Young Man, Undecided, Back Tah Galaxiez, I'm A Steady Rollin\u0019 Man Feat. Otis Rush, Planxt-chen, Open Secret (Paris), Iguana, Take me home and make me like it, Finale (LP Version), Yeah, Aüita, Urban Guerilla, Lost In Trance, Intro, El Apreton, Time, A Whiter Shade Of Pale (Live @ Fillmore West), Tarzan, Intro, Eso Duele, Manaco, I Need A Mother, Wolfgang's 5th Symphony (Original Mix), You And The Night And The Music, Will You Tell Me Then, The Christmas Song, Streets On Fire (Explicit Album Version), Killa Soundboy, The Ballad Of Sleeping Beauty, All Day & All Of The Night, Native Soul, Wintercold, Demon Child, Harajuku Girls, XXX, Giant Steps (Alternate Version_ Take 5_ Alternate), Astral eyes, Prognosis, Harana, Cocina Salvaje, Race Of Hate, Living Hell, C'Est Une Bossa Nova, Walking By The River, Welcome To My Monasteryo, Battleships Rework - Atephoald vs Rich Willison's Remote Orchestra, Step By Step (LP Version), Old Times Sake, Hold On, Drop Dat Pussy Down Low (DJ Gusto Remix), Wasted Love, Willow, Ass Attack (Four Tet Remix), Winter Windows, Two Lovers, You Make Me Spew, Occur 5, Kitsune, I Wish Someone Would Dance With Me, Breakfast at Benirras, Let's Make A Mystery, Sometimes, Tripping Up the Stairs_ The Gravel Walks, Don't Wait On The Stairs, Division (÷), Scene Report, Wach auf, Steamroller Blues, Heute, Sous la Tour Eiffel, What The World Needs Now, A Day In The Life (Album Version), Count On Me, I Don't Have To Live This Way, Ring the Bell, Pockets, Gas Station, bring me flowers, My Love My Life My Flame*, Don't Look Any Further  - 13 Studio Extended Version, Vengo De Ultima, Stop, Loving You, Every Night (I Pray), Road Song, Sally In the Garden, Diminished Responsability, Bass Overload, Humble & Cool, (Uh Oh) My Bad, So Jah Seh, Anti Geroi, Introduction, I'll Sleep When I'm Dead [Alternate Version], The Other Side, Brave New Warriors, Salvation, Ti Nemas Pojma, Medley Leïla Chico, The Hustle, Summer Day, One Hundred Times, Overdose (Killa Vocal Mix), Lokaðu augunum (Dyad 1909 version), My Escape, (You Caught Me) Smilin', Florian, Fish, Cuban Cigar, Silent Night, Cut Through the Night, Death_ I Hear You Walking, Serene, Warrior's Quest, Dollar Van Skit, Moonlight Sax Medley, Money, O Barquinho/ Voce, Born To Lose, Carol, Voices (in The Night) (Album Version), Sinkemlow (LP Version), Other Girls, Manic, Quero Esquecer Você, Man With no Country, Rakkauden satu - Histoire d'un Amour -, J'Ai Deux Amours, Mississippi Mutants, Si La Vie M'A Mis Là, Urgence, Bombing:Sierra, Waiting for the Sun, The Illusionist, No Words No More, Pero Me Acuerdo De Tí, sometimes y, Vivre, God Bless You (Goddamn it), Trapped In Reality, Sunshine Of Your Love, Estrela Da Paz, I hate cds, Asi Me Voy, Rosy Shy (LP Version), Devil In Me, Go the Distance, Overlord, Kaspa, Luv u Baby, I Can't Bring The Time Back, Idon Tul, Gidelam, Ali Gator's Good Eats, Take Comfort, Affe Loco, Hello Boys (Album Version), Respected (Live), What Does it Mean?, Interiors, San Cristobal, So Unhappy, O Pato, sog, Throw It Up_ Throw It Up, Indian Carnival, Stomp It Off, Horizon, Only One Forever (Album Version), Cali Players, Perverse Party, TJ Cases Main Instrumental, Gitanos De La Cava (Buleria), Deadly Fertility, Vertigo(Live), Teaser (LP Version), Det Snurrar I Min Skalle, Mato por Tu Amor, Keep It To Yourself, Heart Of Fire, Matroyshka, Ammonite, The Joes Mobilize, Das Gespräch am Puls der Zeit (Teil 2), My Heart is Yours, Dancehall Medley, The Only Way Is Up, Go64, Same Old Story, Summerhouse (LP Version), Undertow, Happy Thoughts, Ragga Airlines, Vital Vessals Vindicate, Shiny & New, East Of Calcutta, Private Conversations, Room Without A View, You And Me, Pushing Through, A Worm's Life, Feel Good Friday, Filles_ Flics_ Descentes, Follow The Lady, Bleak Prospects, California Dreamin' (LP Version), When You Believe, Lonely, Have You Ever Seen The Rain, Baltimore, Terra, Mighty Mighty Fine, Funktion, Ketty, A Supposed Tour, Rescate Freeformed Giggles, Our Darkest Days, Don't Let Go, Party All The Time, Holding On To A Life, Lonely Street, Blessed, Unbelievable, Raquel, Change, U Don't Hear Me Tho' (Street Mix), Paint And Glass, If You Want Me, Disappeared, Masonic, Après Le Show, Open Your Eyes, I don't Want to Be Alone Tonight, In My Dreams  (LP Version), Say Yes, 04 Daydream, Somewhere Before, I Can't Tell You Why, New Orleans, I'm OK_ You're OK, Imagination, Hafencafé, Tango, Katare! Namida!, Ghost Town Rituals (Album Version), Sport Extrem, Cheeky Flamenco, Rudolph The Red-Nosed Reindeer, Angyal, Ei kiinnosta, Blessing From God, Sunset, One Beat (Just Won't Do), Mystic Eyes, Chronology (LP Version), Halv, Round Round Round (The Gentleman's Fear), Death Is Only a Dream, Bloody Pig Pile (Live), It's All Good, Waltz No.12 in F minor Op.70 No.2, Uplakanooka, What Can I Do?, All The Earth Will Sing Your Praises, Light Skips Cross Heart, Dime porqué, Operation Ground And Pound (Album Version), Mumtaz (DJ Drez Jahta Mix), Psychedelic Sally, Mein Herz erkennt dich immer, BYOB (Explicit Album Version), Tir aux pigeons, Whitley Flats, Breezy, Waken Up, Fight For Your Right, Heaven Knows (I`ve Changed), Toivon että huomaat, Reader, Bonhomie, Kids In America, Sleestak, Smoke, Strange, Police Patrol, That's How Rhythm Was Born, We Never Sleep, ¿Para Qué?, CHAOS INTRO, Mirándonos, The Rules, Timeless Traces (Album Version), Plus Je Fais Ci_ Plus Je Fais Ca, Misanthrope, Freak On A Mission, Skins_ Punx and Drunx, Soul Searcher, Paycheck Boogie, Bouquet, Busy Doing Nothing, She Works In A Store, Everyone_ Everywhere_ Everytime, Armentieres, Flashflood, Sew My Name, El Guardavía de la Vía, Loving You, Imagination, What To Do Crying Waiting Hoping Learning The Game, Skinny Punk, Be It Me_ or Be It None, A little walk to nowhere, Lord_ Make Me an Instrument of Your Wrath, Something About You, Atomik Destruktor, Skeletons (Live Acoustic Version), This Is NOT a Crass Song, Something For The Pain, T.H.E.Y., Rock-A-Billy Rage, Prvni vesela, Solar, Dois, Mismatches & Memories, Play Your Game, Taste Of Dis (Explicit Version), Disciples of Discipline (Electro Version) (Bonustrack), The First Noel, The Best Summer Ever, I Won't Mind, Willow Tree, Soulful Garage, Forget The Weight Of The World, I Love You_ Alice B. Toklas (Remastered Version), Rainy Night Saloon, Beg Your Pardon, 5 Minutes Alone (LP Version), Fire In The Mountain, Cold Sweat, Self Destruct, Dark Angel, Drinkin' Problem (Album Version), Ven Conmigo/Perdoname (Live), Crass Commercialism, The Lottery, Whose Shoulder Are You Looking Over Anyway? (LP Version), You Took The Words Right Out Of My Mouth, Save The Memories, Overskies Telegram (Including the March of Death), Blue Jeans, Walls And Cannonballs (Album), Joyful Sound, "
     ]
    }
   ],
   "source": [
    "songs_similar_hotness = similar_hotness(user_song, df_songs, 1).collect()\n",
    "if songs_similar_hotness != None :\n",
    "    print(\" Songs with similar hotness :\", end ='\\t')\n",
    "    for song in songs_similar_hotness : \n",
    "        print(song[\"title\"], end = \", \")"
   ]
  },
  {
   "cell_type": "code",
   "execution_count": 64,
   "metadata": {},
   "outputs": [
    {
     "name": "stdout",
     "output_type": "stream",
     "text": [
      " Songs with similar loudness, tempo & hotness :\tGuajira, "
     ]
    }
   ],
   "source": [
    "songs_similar = similar_hotness(user_song, similar_tempo(user_song, similar_loudness(user_song, df_songs, 0.2), 6), 0.5).collect()\n",
    "if songs_similar != None :\n",
    "    print(\" Songs with similar loudness, tempo & hotness :\", end ='\\t')\n",
    "    for song in songs_similar : \n",
    "        print(song[\"title\"], end = \", \")"
   ]
  },
  {
   "cell_type": "markdown",
   "metadata": {},
   "source": [
    "## Tests (To delete) "
   ]
  },
  {
   "cell_type": "code",
   "execution_count": 4,
   "metadata": {
    "scrolled": false
   },
   "outputs": [
    {
     "name": "stdout",
     "output_type": "stream",
     "text": [
      "keys are [<HDF5 group \"/analysis\" (16 members)>, <HDF5 group \"/metadata\" (5 members)>, <HDF5 group \"/musicbrainz\" (3 members)>]\n",
      "\n",
      "<KeysViewHDF5 ['artist_terms', 'artist_terms_freq', 'artist_terms_weight', 'similar_artists', 'songs']>\n",
      "\n",
      "('analyzer_version', 'artist_7digitalid', 'artist_familiarity', 'artist_hotttnesss', 'artist_id', 'artist_latitude', 'artist_location', 'artist_longitude', 'artist_mbid', 'artist_name', 'artist_playmeid', 'genre', 'idx_artist_terms', 'idx_similar_artists', 'release', 'release_7digitalid', 'song_hotttnesss', 'song_id', 'title', 'track_7digitalid')\n",
      "[(b'', 165270, 0.58179377, 0.40199754, b'ARD7TVE1187B99BFB1', nan, b'California - LA', nan, b'e77e51a5-4761-45b3-9847-2051f811e366', b'Casual', 4479, b'', 0, 0, b'Fear Itself', 300848, 0.60211999, b'SOMZWCG12A8C13C480', b\"I Didn't Mean To\", 3401791)]\n",
      "artist_hotttnesss\n",
      "0.4019975433642836\n"
     ]
    },
    {
     "name": "stderr",
     "output_type": "stream",
     "text": [
      "/home/ubuntu/.local/lib/python3.6/site-packages/h5py/_hl/dataset.py:313: H5pyDeprecationWarning: dataset.value has been deprecated. Use dataset[()] instead.\n",
      "  \"Use dataset[()] instead.\", H5pyDeprecationWarning)\n"
     ]
    }
   ],
   "source": [
    "songs = h5py.File('b.h5') # type = HDF5 file.\n",
    "\n",
    "print(f'keys are {list(songs.values())}'\n",
    "group_analysis = songs['metadata'] # type: HDF5 group.\n",
    "print()\n",
    "print(group_analysis.keys()) # AttributeManager -- these are like a small metadata dictionary attached anywhere in the tree.\n",
    "\n",
    "#bars_start = songs['analysis']['bars_start'] # Dataset.\n",
    "\n",
    "# Lets look at a more complex table elsewhere in the tree...\n",
    "\n",
    "songs = songs['metadata']['songs'] # Dataset.\n",
    "\n",
    "# This dataset has rows and columns. Lets get the first row...\n",
    "song_row = songs.value\n",
    "print()\n",
    "# print the column names\n",
    "print(song_row.dtype.names)\n",
    "print(song_row)\n",
    "print(song_row.dtype.names[3])\n",
    "print(song_row[0][3])\n",
    "#print([song.decode(\"ASCII\") for song in song_row])\n"
   ]
  },
  {
   "cell_type": "markdown",
   "metadata": {},
   "source": [
    "## Releasing the resources"
   ]
  },
  {
   "cell_type": "code",
   "execution_count": 106,
   "metadata": {},
   "outputs": [],
   "source": [
    "spark_context.stop()"
   ]
  },
  {
   "cell_type": "code",
   "execution_count": null,
   "metadata": {},
   "outputs": [],
   "source": []
  }
 ],
 "metadata": {
  "kernelspec": {
   "display_name": "Python 3",
   "language": "python",
   "name": "python3"
  },
  "language_info": {
   "codemirror_mode": {
    "name": "ipython",
    "version": 3
   },
   "file_extension": ".py",
   "mimetype": "text/x-python",
   "name": "python",
   "nbconvert_exporter": "python",
   "pygments_lexer": "ipython3",
   "version": "3.6.7"
  }
 },
 "nbformat": 4,
 "nbformat_minor": 2
}
