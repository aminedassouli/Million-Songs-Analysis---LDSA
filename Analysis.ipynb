{
 "cells": [
  {
   "cell_type": "markdown",
   "metadata": {},
   "source": [
    "# <center> Million Songs Analysis</center>"
   ]
  },
  {
   "cell_type": "markdown",
   "metadata": {},
   "source": [
    "## Starting the Spark session"
   ]
  },
  {
   "cell_type": "code",
   "execution_count": 1,
   "metadata": {},
   "outputs": [],
   "source": [
    "from pyspark.sql import SparkSession\n",
    "\n",
    "spark_session = SparkSession\\\n",
    "        .builder\\\n",
    "        .master(\"spark://host-192-168-1-153-ldsa:7077\")\\\n",
    "        .appName(\"Project_19\")\\\n",
    "        .config(\"spark.dynamicAllocation.enabled\", True)\\\n",
    "        .config(\"spark.shuffle.service.enabled\", True)\\\n",
    "        .config(\"spark.dynamicAllocation.executorIdleTimeout\",\"60m\")\\\n",
    "        .config(\"spark.dynamicAllocation.minExecutors\", 1)\\\n",
    "        .config(\"spark.dynamicAllocation.maxExecutors\", 4)\\\n",
    "        .config(\"spark.executor.cores\",8)\\\n",
    "        .getOrCreate()\n",
    "\n",
    "spark_context = spark_session.sparkContext"
   ]
  },
  {
   "cell_type": "markdown",
   "metadata": {},
   "source": [
    "## Importations"
   ]
  },
  {
   "cell_type": "code",
   "execution_count": 2,
   "metadata": {},
   "outputs": [],
   "source": [
    "import h5py\n",
    "import io, time\n",
    "import matplotlib.pyplot as plt\n",
    "from pyspark.sql import Row\n",
    "from pyspark.sql.types import *\n"
   ]
  },
  {
   "cell_type": "markdown",
   "metadata": {},
   "source": [
    "## Functions"
   ]
  },
  {
   "cell_type": "code",
   "execution_count": 3,
   "metadata": {},
   "outputs": [],
   "source": [
    "\"\"\" This function returns the song information in a visible way (as a string) \"\"\"\n",
    "def song_str(song) :\n",
    "    if song[\"year\"] != 0 :\n",
    "        return \"{} - {} ({})\".format(song[\"title\"], song[\"artist_name\"], song[\"year\"])\n",
    "    else :\n",
    "        return \"{} - {}\".format(song[\"title\"], song[\"artist_name\"])"
   ]
  },
  {
   "cell_type": "code",
   "execution_count": 4,
   "metadata": {},
   "outputs": [],
   "source": [
    "\"\"\" This function asks the user for the title of a song and returns it from the database \"\"\"\n",
    "def ask_for_song() :\n",
    "    right = False # Boolean to verify that the user's song is the one found in the database   \n",
    "    while not right : \n",
    "        song_title = input(\" Title of the song : \")\n",
    "        # We look at the song in the database even if the user enters an incomplete name\n",
    "        song = df_songs.filter(df_songs[\"title\"].like(\"%\" + song_title + \"%\")).first()\n",
    "        while song == None :\n",
    "            print(\" This song doesn't exist in the database\")\n",
    "            song = df_songs.filter(df_songs[\"title\"].like(\"%\" + input(\"Title of the song : \") + \"%\")).first()\n",
    "        right = (input(\" Is your song {} (y/n) ? \".format(song_str(song))) == 'y')\n",
    "    \n",
    "    print(\" The chosen song is : {} \".format(song_str(song)))\n",
    "    return song"
   ]
  },
  {
   "cell_type": "code",
   "execution_count": 5,
   "metadata": {},
   "outputs": [],
   "source": [
    "\"\"\" This function asks the user for the values of the attributes (tempo, loudness, hotness, danceability) \"\"\"\n",
    "def ask_for_margins() :\n",
    "    margins = {}\n",
    "    print(\"\\nEnter the values of the margins you want to consider for the song attributes (tempo, loudness,\\\n",
    "    hotness, danceability). \\n\\nYou can enter '*' to skip the attribute and not take it into consideration.\\n \")\n",
    "    \n",
    "    list_names = [\"tempo\", \"loudness\", \"hotness\", \"danceability\"]\n",
    "    for att in list_names :\n",
    "        print(\"{} : \".format(att))\n",
    "        att_margin = input(\"\\t - margin (Enter * to skip): \")\n",
    "        if att_margin == \"*\" :\n",
    "            margins[att] = (100, 0)\n",
    "        else :\n",
    "            att_margin_increase = input(\"\\t - the margin's increase each step : \")\n",
    "            margins[att] = (float(att_margin), float(att_margin_increase))\n",
    "            \n",
    "    return margins"
   ]
  },
  {
   "cell_type": "code",
   "execution_count": 6,
   "metadata": {},
   "outputs": [],
   "source": [
    "\"\"\" This function returns the songs which belong to the same artist as the input song(Row) \"\"\"\n",
    "def same_artist(song) :\n",
    "    similar_songs = df_songs.filter(df_songs.artist_name == song[\"artist_name\"])\n",
    "    return similar_songs.filter(similar_songs.title != song[\"title\"])\n",
    "  "
   ]
  },
  {
   "cell_type": "code",
   "execution_count": 7,
   "metadata": {},
   "outputs": [],
   "source": [
    "\"\"\" This function returns the songs, from the dataframe, which have similar tempo as the input song\"\"\"\n",
    "def similar_tempo(song, dataframe, margin) : \n",
    "    similar_songs = dataframe.filter(dataframe.tempo.between(song[\"tempo\"] - margin, song[\"tempo\"] + margin))\\\n",
    "                             .filter(dataframe.title != song[\"title\"])\n",
    " \n",
    "    return similar_songs"
   ]
  },
  {
   "cell_type": "code",
   "execution_count": 8,
   "metadata": {},
   "outputs": [],
   "source": [
    "\"\"\" This function returns the songs, from the dataframe, which have similar loudness as the input song \"\"\"\n",
    "def similar_loudness(song, dataframe, margin) : \n",
    "    similar_songs = dataframe.filter(dataframe.loudness.between(song[\"loudness\"] - margin, song[\"loudness\"] + margin))\\\n",
    "                             .filter(dataframe.title != song[\"title\"])\n",
    "\n",
    "    return similar_songs"
   ]
  },
  {
   "cell_type": "code",
   "execution_count": 9,
   "metadata": {},
   "outputs": [],
   "source": [
    "\"\"\" This function returns the songs, from the dataframe, which have similar hotness as the input song \"\"\"\n",
    "def similar_hotness(song, dataframe, margin) : \n",
    "    similar_songs = dataframe.filter(dataframe.hotness.between(song[\"hotness\"] - margin, song[\"hotness\"] + margin))\\\n",
    "                             .filter(dataframe.title != song[\"title\"])\n",
    "\n",
    "    return similar_songs"
   ]
  },
  {
   "cell_type": "code",
   "execution_count": 10,
   "metadata": {},
   "outputs": [],
   "source": [
    "\"\"\" This function returns the songs, from the dataframe, which have similar danceability as the input song \"\"\"\n",
    "def similar_danceability(song, dataframe, margin) : \n",
    "    similar_songs = dataframe.filter(dataframe.danceability.between(song[\"danceability\"] - margin, song[\"danceability\"] + margin))\\\n",
    "                             .filter(dataframe.title != song[\"title\"])\n",
    "\n",
    "    return similar_songs"
   ]
  },
  {
   "cell_type": "code",
   "execution_count": 11,
   "metadata": {},
   "outputs": [],
   "source": [
    "\"\"\" This function returns the songs, from the dataframe, which are similar to the input song based on tempo, loudness,\n",
    "hotness and danceability \"\"\"\n",
    "# number is the number of generated suggestions\n",
    "# margins is a dictionary with the 4 attributes above as keys and their corresponding values are a tuple of\n",
    "# (initial margin, margin_increase)\n",
    "def similar_model1(song, number, margins) :\n",
    "    similar_songs = spark_session.createDataFrame(spark_context.emptyRDD(), songs_schema).cache()\n",
    "    x, num_iter = 0, 0\n",
    "    max_iterations = 200\n",
    "    while similar_songs.count() < number and num_iter < max_iterations :\n",
    "        similar_songs_inter = similar_tempo(song, df_songs, margins[\"tempo\"][1] * x + margins[\"tempo\"][0])\n",
    "        similar_songs_inter = similar_loudness(song, similar_songs_inter, margins[\"loudness\"][1] * x + margins[\"loudness\"][0])\n",
    "        similar_songs_inter = similar_danceability(song, similar_songs_inter, margins[\"hotness\"][1] * x + margins[\"hotness\"][0])\n",
    "        similar_songs = similar_hotness(song, similar_songs_inter, margins[\"danceability\"][1] * x + margins[\"danceability\"][0])\n",
    "        x += 1\n",
    "        num_iter +=1\n",
    "    return similar_songs.limit(number)"
   ]
  },
  {
   "cell_type": "markdown",
   "metadata": {},
   "source": [
    "## Loading the data into RDDs  (Skip and go directly to loading data frames from CSV files)"
   ]
  },
  {
   "cell_type": "code",
   "execution_count": null,
   "metadata": {},
   "outputs": [],
   "source": [
    "\"\"\" This function turns a list of binary elements to a string with the element separated by the character ',' \"\"\"\n",
    "def list_bin_to_str(list_terms) :\n",
    "    string=\"\"\n",
    "    for term in list_terms :\n",
    "        string += term.decode()+','\n",
    "    return string[1:-1]   "
   ]
  },
  {
   "cell_type": "code",
   "execution_count": null,
   "metadata": {
    "scrolled": true
   },
   "outputs": [],
   "source": [
    "\"\"\" We prepare first a RDD containing tuples (song_information, artist_information) \"\"\"\n",
    "#rdd = spark_context.binaryFiles(\"hdfs://host-192-168-1-153-ldsa:9000/millionsongs/data/A/B/*\")\n",
    "rdd = spark_context.binaryFiles(\"/mnt/ms/data/*/*/*\")\n",
    "\n",
    "# A function to open the h5 files one by one and take the information of interest for the song and the artist\n",
    "def f(x):\n",
    "    with h5py.File(io.BytesIO(x[1])) as f:\n",
    "        \n",
    "        f_meta = f['metadata'][\"songs\"]\n",
    "        f_analys = f['analysis'][\"songs\"]\n",
    "        f_brainz = f['musicbrainz'][\"songs\"]\n",
    "        \n",
    "        artist_terms = list_bin_to_str(f['metadata']['artist_terms'][:10])\n",
    "        similar_artists = list_bin_to_str(f['metadata']['similar_artists'][:10])\n",
    "        \n",
    "        return ((f_meta[0][-3].decode(), f_meta[0][-2].decode(),\n",
    "                f_meta[0][9].decode(), f_meta[0][4].decode(),\n",
    "                f_meta[0][-6].decode(),\n",
    "                float(f_analys[0][3]), float(f_meta[0][-4]),\n",
    "                float(f_analys[0][2]), float(f_analys[0][23]), \n",
    "                float(f_analys[0][-4]), int(f_brainz[0][1])), \n",
    "               \n",
    "                (f_meta[0][4].decode(), f_meta[0][9].decode(),\n",
    "                f_meta[0][6].decode(), float(f_meta[0][3]),\n",
    "                artist_terms, similar_artists))\n",
    "\n",
    "rdd = rdd.map(f)\n",
    "\n",
    "\"\"\" We create two RDDs (songs, artists) from the general one \"\"\"\n",
    "rdd_songs = rdd.map(lambda x : x[0])\n",
    "rdd_artists = rdd.map(lambda x : x[1])"
   ]
  },
  {
   "cell_type": "markdown",
   "metadata": {},
   "source": [
    "## Turning RDDs to Data frames (Skip and go directly to load data frames from CSV files)"
   ]
  },
  {
   "cell_type": "markdown",
   "metadata": {},
   "source": [
    "<b> *   Table Songs </b>"
   ]
  },
  {
   "cell_type": "code",
   "execution_count": null,
   "metadata": {
    "scrolled": false
   },
   "outputs": [],
   "source": [
    "attributes = rdd_songs.map(lambda p: Row(p[0], p[1], p[2], p[3], p[4], p[5], p[6], p[7], p[8], p[9], p[10]))\n",
    "fields = [StructField(\"song_id\", StringType(), True), StructField(\"title\", StringType(), True), \n",
    "          StructField(\"artist_name\", StringType(), True), StructField(\"artist_id\", StringType(), True),\n",
    "          StructField(\"release_album\", StringType(), True), \n",
    "          StructField(\"duration\", FloatType(), True), StructField(\"hotness\", FloatType(), True), \n",
    "          StructField(\"danceability\", FloatType(), True), StructField(\"loudness\", FloatType(), True), \n",
    "          StructField(\"tempo\", FloatType(), True), StructField(\"year\", IntegerType())]\n",
    "songs_schema = StructType(fields)\n",
    "\n",
    "df_songs = spark_session.createDataFrame(attributes, songs_schema)\n",
    "df_songs.show()"
   ]
  },
  {
   "cell_type": "markdown",
   "metadata": {},
   "source": [
    "<b> *   Table Artists </b>"
   ]
  },
  {
   "cell_type": "code",
   "execution_count": null,
   "metadata": {},
   "outputs": [],
   "source": [
    "attributes = rdd_artists.map(lambda p: Row(p[0], p[1], p[2], p[3], p[4], p[5]))\n",
    "fields = [StructField(\"id\", StringType(), True), StructField(\"name\", StringType(), True), \n",
    "          StructField(\"location\", StringType(), True), StructField(\"hotness\", FloatType(), True),\n",
    "          StructField(\"terms\", StringType(), True), \n",
    "          StructField(\"similar_artists\", StringType(), True)]\n",
    "artists_schema = StructType(fields)\n",
    "\n",
    "df_artists = spark_session.createDataFrame(attributes, artists_schema)\n",
    "df_artists.show()"
   ]
  },
  {
   "cell_type": "markdown",
   "metadata": {},
   "source": [
    "## Saving data frames in csv files (Skip and go directly to load data frames from CSV files)"
   ]
  },
  {
   "cell_type": "markdown",
   "metadata": {},
   "source": [
    "<b> *   Table Songs </b>"
   ]
  },
  {
   "cell_type": "code",
   "execution_count": null,
   "metadata": {},
   "outputs": [],
   "source": [
    "df_songs.write.format('com.databricks.spark.csv')\\\n",
    "        .option(\"header\", \"true\")\\\n",
    "        .save('/home/ubuntu/AllsongsB.csv')\n"
   ]
  },
  {
   "cell_type": "markdown",
   "metadata": {},
   "source": [
    "<b> *   Table Artists </b>"
   ]
  },
  {
   "cell_type": "code",
   "execution_count": null,
   "metadata": {},
   "outputs": [],
   "source": [
    "df_artists.write.format('com.databricks.spark.csv')\\\n",
    "        .option(\"header\", \"true\")\\\n",
    "        .save('/home/ubuntu/MyArtists_all.csv')"
   ]
  },
  {
   "cell_type": "markdown",
   "metadata": {},
   "source": [
    "## Loading data frames from csv files"
   ]
  },
  {
   "cell_type": "markdown",
   "metadata": {},
   "source": [
    "<b> *   Table Songs </b>"
   ]
  },
  {
   "cell_type": "markdown",
   "metadata": {},
   "source": [
    " <font size=\"3\"> Lets take a look at the table : </font> "
   ]
  },
  {
   "cell_type": "code",
   "execution_count": 16,
   "metadata": {},
   "outputs": [
    {
     "name": "stdout",
     "output_type": "stream",
     "text": [
      "+------------------+--------------------+---------------+------------------+--------------------+---------+----------+------------+--------+-------+----+\n",
      "|           song_id|               title|    artist_name|         artist_id|       release_album| duration|   hotness|danceability|loudness|  tempo|year|\n",
      "+------------------+--------------------+---------------+------------------+--------------------+---------+----------+------------+--------+-------+----+\n",
      "|SOJDNCH12A8C14022C|       Suburban Life| Static Thought|ARHUXXU1187FB3EA9E|The Motive For Mo...|164.28363|       0.0|         0.0|  -4.305| 196.43|   0|\n",
      "|SOFMTVM12A8C131323|God Rest Ye Merry...|     Perry Como|ARX5KSY1187FB3CBDC| The Christmas Album|176.90077|       NaN|         0.0| -17.531| 64.438|   0|\n",
      "|SOWAWNL12A67AE2071|  Can´t Be Satisfied|Abi Wallenstein|ARL82QM1187FB4C21A|  Good Morning Blues|354.19382|       0.0|         0.0| -13.942|111.967|   0|\n",
      "|SOANTBR12AB0188517|             Duermen|      Tote King|AR7QU981187FB557A2|          Duermen...|253.41342|       NaN|         0.0|  -6.214| 91.295|   0|\n",
      "|SOTGKDD12AC9072C18|         House Music|        Save As|ARY6TWP1187FB58A0D|Chill House Plane...|337.81506|       0.0|         0.0|  -6.466|125.032|   0|\n",
      "|SOMZFYV12A6D4F9A3E|        La Carretera|     La Guardia|ARMIEMV1187FB5966F|            Ahora!!!|201.84772|       NaN|         0.0|   -6.69|119.076|   0|\n",
      "|SOTJYCO12AB0181F72|    Creole Love Call| Roger Kellaway|AR37KM11187B98E8B4|The Music Of Duke...|470.09915|       NaN|         0.0| -17.382| 91.029|1991|\n",
      "|SOWNKOB12A6310E331|     Deus Ex Machina|  William Orbit|ARZS5VW1187FB567E8|   Strange Cargo III|339.80035|0.45076224|         0.0| -35.277|152.084|1993|\n",
      "|SOIAOUK12A8C1421F5|   Ti-Am Dat Un Inel|       Holograf|ARJH39Z1187B99B178|Best Of \u0013 Diminea...|299.07547| 0.3798179|         0.0|  -8.973|109.199|   0|\n",
      "|SOPQPJQ12A8C1322DE|              Hug Me|    Forty Winks|ARN78K01187B99DEAE|To The Lonely Hearts|165.14568|0.23136164|         0.0|  -5.081|205.942|2002|\n",
      "+------------------+--------------------+---------------+------------------+--------------------+---------+----------+------------+--------+-------+----+\n",
      "\n"
     ]
    }
   ],
   "source": [
    "fields = [StructField(\"song_id\", StringType(), True), StructField(\"title\", StringType(), True), \n",
    "          StructField(\"artist_name\", StringType(), True), StructField(\"artist_id\", StringType(), True),\n",
    "          StructField(\"release_album\", StringType(), True), \n",
    "          StructField(\"duration\", FloatType(), True), StructField(\"hotness\", FloatType(), True), \n",
    "          StructField(\"danceability\", FloatType(), True), StructField(\"loudness\", FloatType(), True), \n",
    "          StructField(\"tempo\", FloatType(), True), StructField(\"year\", IntegerType())]\n",
    "songs_schema = StructType(fields)\n",
    "\n",
    "df_songs = spark_session.read.csv(\"hdfs://192.168.1.153:9000/team19/AllsongsB.csv\",\n",
    "                                  header = True,\n",
    "                                  schema= songs_schema)\\\n",
    "                        .union(spark_session.read.csv(\"hdfs://192.168.1.153:9000/team19/MySongs_all.csv\",\n",
    "                                  header = True,\n",
    "                                  schema= songs_schema))\\\n",
    "                        .cache()\n",
    "    \n",
    "\n",
    "df_songs.limit(10).show()"
   ]
  },
  {
   "cell_type": "markdown",
   "metadata": {},
   "source": [
    "<b> *   Table Artists </b>"
   ]
  },
  {
   "cell_type": "markdown",
   "metadata": {},
   "source": [
    "<font size=\"3\"> Lets take a look at this table as well : </font>   "
   ]
  },
  {
   "cell_type": "code",
   "execution_count": 19,
   "metadata": {},
   "outputs": [
    {
     "name": "stdout",
     "output_type": "stream",
     "text": [
      "+------------------+--------------------+--------------------+----------+--------------------+--------------------+\n",
      "|                id|                name|            location|   hotness|               terms|     similar_artists|\n",
      "+------------------+--------------------+--------------------+----------+--------------------+--------------------+\n",
      "|AR9MRSJ1187B99B99F|La Charanga Rubal...|                null|0.21697496|haranga,los angel...|RZ7OD71187B9940A7...|\n",
      "|ARHE2C01187B99A27E|              Dakota|     California - LA|0.40711004|rogressive house,...|R0ZJD61187FB49CE5...|\n",
      "|ARG4PVO1187B98BFDF|          Adam Brand|      Hervey Bay QLD| 0.4024891|ountry rock,pop r...|RNAMBH1187B98F6A4...|\n",
      "|ARIAJDN1187FB4D070|         Pat Martino|    Philadelphia, PA|0.37786224|oul jazz,hard bop...|RFACVS1187B98C226...|\n",
      "|ARYLG3I119B8668696|Rockin' Dopsie_ J...|                null|       0.0|ydeco,funk,beat,b...|RKJHKX1187FB5AEE5...|\n",
      "|ARL8EFT1187FB3647C|    Jon Oliva's Pain|                null|0.44557843|ymphonic rock,roc...|R3JI881187FB4BB08...|\n",
      "|AROBTWJ11F4C84886E|       Luis Y Julian|                null|0.36775103|anchera,outlaw co...|RBFEZY122988ED81E...|\n",
      "|ARZ4G1D1187FB4643B|        Mala and Rem|UK - England - Ea...|0.43100986|ubstep,grime,hip ...|REFFEC1187B98E12F...|\n",
      "|ARB2XMJ1187FB384B9|          Jag Panzer|                null|0.43518186|eavy metal,power ...|R06USW1187FB4EACA...|\n",
      "|ART35FG119B86688D4|        Greg Cerrone|                null|0.33542526|rogressive house,...|RY2NRR1187FB4B129...|\n",
      "+------------------+--------------------+--------------------+----------+--------------------+--------------------+\n",
      "\n"
     ]
    }
   ],
   "source": [
    "fields = [StructField(\"id\", StringType(), True), StructField(\"name\", StringType(), True), \n",
    "          StructField(\"location\", StringType(), True), StructField(\"hotness\", FloatType(), True),\n",
    "          StructField(\"terms\", StringType(), True), \n",
    "          StructField(\"similar_artists\", StringType(), True)]\n",
    "artists_schema = StructType(fields)\n",
    "\n",
    "df_artists = spark_session.read.csv(\"hdfs://192.168.1.153:9000/team19/MyArtists_all.csv\",\n",
    "                                  header = True,\n",
    "                                  schema= artists_schema)\\\n",
    "                          .cache()\n",
    "\n",
    "df_artists.limit(10).show()"
   ]
  },
  {
   "cell_type": "markdown",
   "metadata": {},
   "source": [
    "## Core Analysis"
   ]
  },
  {
   "cell_type": "markdown",
   "metadata": {},
   "source": [
    "### Asking the user for a song "
   ]
  },
  {
   "cell_type": "code",
   "execution_count": 20,
   "metadata": {
    "scrolled": false
   },
   "outputs": [
    {
     "name": "stdout",
     "output_type": "stream",
     "text": [
      " Title of the song : Rattle\n",
      " Is your song Rattlesnake - Rodolphe Burger (2008) (y/n) ? n\n",
      " Title of the song : snake\n",
      " Is your song Rattlesnake - Rodolphe Burger (2008) (y/n) ? y\n",
      " The chosen song is : Rattlesnake - Rodolphe Burger (2008) \n"
     ]
    }
   ],
   "source": [
    "user_song = ask_for_song()"
   ]
  },
  {
   "cell_type": "markdown",
   "metadata": {},
   "source": [
    "### Songs from the same artist"
   ]
  },
  {
   "cell_type": "code",
   "execution_count": 21,
   "metadata": {
    "scrolled": true
   },
   "outputs": [
    {
     "name": "stdout",
     "output_type": "stream",
     "text": [
      " Songs from the same artist :\n",
      " *  Sing\n",
      " *  Elle Est Pas Belle Ma Chérie ?\n"
     ]
    }
   ],
   "source": [
    "songs_same_artist = same_artist(user_song)\n",
    "if songs_same_artist.count() != 0 :\n",
    "    some_songs = songs_same_artist.take(10)\n",
    "    print(\" Songs from the same artist :\")\n",
    "    for song in some_songs : \n",
    "        print(\" * \", song[\"title\"])\n",
    "else :\n",
    "    print(\" This artist doesn't have any other songs.\")\n",
    "    "
   ]
  },
  {
   "cell_type": "markdown",
   "metadata": {},
   "source": [
    "### Songs with similar tempo"
   ]
  },
  {
   "cell_type": "code",
   "execution_count": 23,
   "metadata": {
    "scrolled": true
   },
   "outputs": [
    {
     "name": "stdout",
     "output_type": "stream",
     "text": [
      "Songs with similar tempo (with a margin of 1) :\n",
      " * Ein Skinhead ohne Stiefel - Loikaemie (1996)\n",
      " * Motgångar - Allan Edwall\n",
      " * Heart Trouble - Martina McBride (1993)\n",
      " * Goin' Home For Christmas - Alabama Red\n",
      " * United Races (Album Version) - Cause For Alarm\n",
      " * Living The Dream - Umlaut\n",
      " * Line Finish (Tunnel Vision Album Version) - Tunnel Rats (2001)\n",
      " * Livin' Lovin' Wreck - Shakin' Stevens (1983)\n",
      " * Green fields of football - Darko Rundek\n",
      " * Loco Enamorado - Los Palominos (1998)\n"
     ]
    }
   ],
   "source": [
    "margin = 1\n",
    "songs_similar_tempo = similar_tempo(user_song, df_songs, margin).limit(10).collect()\n",
    "if songs_similar_tempo != None :\n",
    "    print(\"Songs with similar tempo (with a margin of {}) :\".format(margin))\n",
    "    for song in songs_similar_tempo : \n",
    "        print(\" * \", end=\"\")\n",
    "        print(song_str(song))"
   ]
  },
  {
   "cell_type": "markdown",
   "metadata": {},
   "source": [
    "### Songs with similar loudness"
   ]
  },
  {
   "cell_type": "code",
   "execution_count": 24,
   "metadata": {},
   "outputs": [
    {
     "name": "stdout",
     "output_type": "stream",
     "text": [
      "Songs with similar loudness (with a margin of 0.1) :\n",
      " * Sephardic Secrets - Men's Recovery Project (2000)\n",
      " * I Am An Exercise - Pele (1998)\n",
      " * Kay - MARTIRES DEL COMPAS (2004)\n",
      " * Flight of the Elephant - Workhorse (2007)\n",
      " * Liebe vergeht - Mantus\n",
      " * Drugs Are For Kids - Doug Stanhope (2002)\n",
      " * China - Tori Amos (1992)\n",
      " * Limbo Rock - Holly Dolly\n",
      " * Telephone Numbers - Corrupted Ideals\n",
      " * Only Just Begun - John Holt\n"
     ]
    }
   ],
   "source": [
    "margin = 0.1\n",
    "songs_similar_loudness = similar_loudness(user_song, df_songs, margin).limit(10).collect()\n",
    "if songs_similar_loudness != None :\n",
    "    print(\"Songs with similar loudness (with a margin of {}) :\".format(margin))\n",
    "    for song in songs_similar_loudness : \n",
    "        print(\" * \", end=\"\")\n",
    "        print(song_str(song))"
   ]
  },
  {
   "cell_type": "markdown",
   "metadata": {},
   "source": [
    "### Songs with similar hotness"
   ]
  },
  {
   "cell_type": "code",
   "execution_count": 25,
   "metadata": {},
   "outputs": [
    {
     "name": "stdout",
     "output_type": "stream",
     "text": [
      "Songs with similar hotness (with a margin of 0.1) :\n",
      " * Hug Me - Forty Winks (2002)\n",
      " * Lusco - Berrogüetto\n",
      " * War Over Water - Samuel Flynn Scott (2006)\n",
      " * The Chase - Jennings\n",
      " * Tus Desprecios - Elsa Garcia\n",
      " * Don't Wanna Talk About Love - Danielle Brisebois\n",
      " * Look What You've Done (Tree63 Album Version) - Tree63 (2001)\n",
      " * Stoned love - Ojm (2006)\n",
      " * Do My Baby Ever Think Of Me - Fred McDowell\n",
      " * Cinderellas Palace - Obscenity Trial (2008)\n"
     ]
    }
   ],
   "source": [
    "margin = 0.1\n",
    "songs_similar_hotness = similar_hotness(user_song, df_songs, margin).limit(10).collect()\n",
    "if songs_similar_hotness != None :\n",
    "    print(\"Songs with similar hotness (with a margin of {}) :\".format(margin))\n",
    "    for song in songs_similar_hotness : \n",
    "        print(\" * \", end=\"\")\n",
    "        print(song_str(song))"
   ]
  },
  {
   "cell_type": "markdown",
   "metadata": {},
   "source": [
    "### Songs with similar danceability"
   ]
  },
  {
   "cell_type": "code",
   "execution_count": 26,
   "metadata": {
    "scrolled": false
   },
   "outputs": [
    {
     "name": "stdout",
     "output_type": "stream",
     "text": [
      "Songs with similar danceability (with a margin of 0.1) :\n",
      " * Suburban Life - Static Thought\n",
      " * God Rest Ye Merry_ Gentlemen - Perry Como\n",
      " * Can´t Be Satisfied - Abi Wallenstein\n",
      " * Duermen - Tote King\n",
      " * House Music - Save As\n",
      " * La Carretera - La Guardia\n",
      " * Creole Love Call - Roger Kellaway (1991)\n",
      " * Deus Ex Machina - William Orbit (1993)\n",
      " * Ti-Am Dat Un Inel - Holograf\n",
      " * Hug Me - Forty Winks (2002)\n"
     ]
    }
   ],
   "source": [
    "margin = 0.1\n",
    "songs_similar_danceability = similar_danceability(user_song, df_songs, margin).limit(10).collect()\n",
    "if songs_similar_danceability != None :\n",
    "    print(\"Songs with similar danceability (with a margin of {}) :\".format(margin))\n",
    "    for song in songs_similar_danceability : \n",
    "        print(\" * \", end=\"\")\n",
    "        print(song_str(song))"
   ]
  },
  {
   "cell_type": "markdown",
   "metadata": {},
   "source": [
    "### Songs with similar tempo, loudness, hotness and danceability"
   ]
  },
  {
   "cell_type": "code",
   "execution_count": 27,
   "metadata": {},
   "outputs": [],
   "source": [
    "margins = {\"tempo\" : (1, 0.1), \"loudness\" : (2, 0.4), \"hotness\" : (29.5, 0), \"danceability\" : (0.01, 0.00)}"
   ]
  },
  {
   "cell_type": "markdown",
   "metadata": {},
   "source": [
    "<font size=\"3\"> To make things clearer, lets plot first the margins,  which are going to be passed as an argument to the function below, as a function of the number of iterations : </font>"
   ]
  },
  {
   "cell_type": "code",
   "execution_count": 29,
   "metadata": {},
   "outputs": [
    {
     "data": {
      "image/png": "[encoded data removed]",
      "text/plain": [
       "<Figure size 720x576 with 1 Axes>"
      ]
     },
     "metadata": {},
     "output_type": "display_data"
    }
   ],
   "source": [
    "X_iterations = range(20)\n",
    "Y_margins = [[], [], [], []]\n",
    "\n",
    "list_margins = [(1,0.1), (2,0.4), (29.5,0), (0.01,0)]\n",
    "for i in range(20) :\n",
    "    for j in range(4) :\n",
    "        Y_margins[j].append(list_margins[j][0] + i * list_margins[j][1])\n",
    "        \n",
    "labels = [\"tempo\", \"loudness\", \"hotness\", \"danceability\"]\n",
    "plt.figure(figsize=(10,8))\n",
    "for i in range(4) :\n",
    "    plt.plot(X_iterations, Y_margins[i], label = labels[i])\n",
    "plt.ylim(-1,30)\n",
    "plt.title(\"Margins' variation function of the number of iterations\", {\"fontsize\" : 14})   \n",
    "plt.legend()\n",
    "plt.show()"
   ]
  },
  {
   "cell_type": "markdown",
   "metadata": {},
   "source": [
    " <b> <font size=\"3\">Remarks : </font></b>  \n",
    "<font size=\"3\"> \n",
    "- The margins are always getting larger <br>\n",
    "- The user can ignore an attribute by giving it a large margin (See ’hotness’ in the figure above) <br>\n",
    "\n",
    "- The user can be strict about the margin of an attribute by choosing a\n",
    "small value for the corresponding margin increase (See ’danceability’ in\n",
    "the figure above)\n",
    "</font>"
   ]
  },
  {
   "cell_type": "markdown",
   "metadata": {},
   "source": [
    "<font size=\"3\"> Lets take a look now at the result of the previous model </font>"
   ]
  },
  {
   "cell_type": "code",
   "execution_count": 30,
   "metadata": {
    "scrolled": true
   },
   "outputs": [
    {
     "name": "stdout",
     "output_type": "stream",
     "text": [
      "Similar songs following the model 1:\n",
      " * Livin' Lovin' Wreck - Shakin' Stevens (1983)\n",
      " * Never Been Better - Wax\n",
      " * Tyme-N My Life - Richie Rich\n",
      " * Ostinada - Tommy Bolin\n",
      " * La Cana - Adalberto Santiago (1977)\n",
      " * Happy One Step - Savoy-Doucet Cajun Band\n",
      " * La Unica - Maelo Ruiz\n",
      " * Fake Love (Instrumental) - Statik Selektah\n",
      " * All Because Of You - Conya Doss\n",
      " * Urgence - Sonia Dersion (2004)\n"
     ]
    }
   ],
   "source": [
    "songs_similar_model1 = similar_model1(user_song, 10, margins)\n",
    "print(\"Similar songs following the model 1:\")\n",
    "for song in songs_similar_model1.collect() : \n",
    "    print(\" * \", end=\"\")\n",
    "    print(song_str(song))"
   ]
  },
  {
   "cell_type": "markdown",
   "metadata": {},
   "source": [
    "### Main program"
   ]
  },
  {
   "cell_type": "code",
   "execution_count": 32,
   "metadata": {
    "scrolled": false
   },
   "outputs": [
    {
     "name": "stdout",
     "output_type": "stream",
     "text": [
      " Title of the song : Rattle\n",
      " Is your song Rattlesnake - Rodolphe Burger (2008) (y/n) ? y\n",
      " The chosen song is : Rattlesnake - Rodolphe Burger (2008) \n",
      "\n",
      "Enter the values of the margins you want to consider for the song attributes (tempo, loudness,    hotness, danceability). \n",
      "\n",
      "You can enter '*' to skip the attribute and not take it into consideration.\n",
      " \n",
      "tempo : \n",
      "\t - margin (Enter * to skip): 1\n",
      "\t - the margin's increase each step : 0.2\n",
      "loudness : \n",
      "\t - margin (Enter * to skip): 0\n",
      "\t - the margin's increase each step : 0.15\n",
      "hotness : \n",
      "\t - margin (Enter * to skip): *\n",
      "danceability : \n",
      "\t - margin (Enter * to skip): 0.2\n",
      "\t - the margin's increase each step : 0.1\n",
      " The number of songs you want to generate : 10\n",
      "\n",
      "Similar songs following the model 1 :\n",
      " * Don't Kill Your Feelings - The Headhunters (1977)\n",
      " * Harvest Time - Tea Leaf Green (2009)\n",
      " * People Say - Chris Duarte Group (1997)\n",
      " * All I Got (Album Version) - Amel Larrieux (2004)\n",
      " * Uma Casa À Beira Mar - Ena Pá 2000\n",
      " * Voyer - Boot Party\n",
      " * Neva Antiquated (Dark Jedi Remix) - Jedi Mind Tricks (1996)\n",
      " * I Set Myself Free - Constance Demby (1989)\n",
      " * Streets Of LX - Corvos (2007)\n",
      " * Blessing or Curse? - Howards Alias (2005)\n",
      "\n",
      "Songs from the same artist :\n",
      " *  Sing\n",
      " *  Elle Est Pas Belle Ma Chérie ?\n"
     ]
    }
   ],
   "source": [
    "user_song = ask_for_song()\n",
    "margins = ask_for_margins()\n",
    "#margins ={\"tempo\" : (0, 0.02), \"loudness\" : (0, 0.02), \"hotness\" : (0, 0.02), \"danceability\" : (0, 0.02)}\n",
    "number = input(\" The number of songs you want to generate : \")\n",
    "\n",
    "# Generation following the model 1\n",
    "songs_similar_model1 = similar_model1(user_song, int(number), margins)\n",
    "print(\"\\nSimilar songs following the model 1 :\")\n",
    "for song in songs_similar_model1.collect() : \n",
    "    print(\" * \", end=\"\")\n",
    "    print(song_str(song))\n",
    "\n",
    "# Other songs from the same artist : \n",
    "songs_same_artist = same_artist(user_song)\n",
    "if songs_same_artist.count() != 0 :\n",
    "    some_songs = songs_same_artist.take(10)\n",
    "    print(\"\\nSongs from the same artist :\")\n",
    "    for song in some_songs : \n",
    "        print(\" * \", song[\"title\"])\n",
    "else :\n",
    "    print(\" \\nThis artist doesn't have any other songs.\")"
   ]
  },
  {
   "cell_type": "markdown",
   "metadata": {},
   "source": [
    "## Releasing the resources"
   ]
  },
  {
   "cell_type": "code",
   "execution_count": 36,
   "metadata": {
    "scrolled": true
   },
   "outputs": [],
   "source": [
    "spark_context.stop()"
   ]
  },
  {
   "cell_type": "markdown",
   "metadata": {},
   "source": [
    "## Scalability test"
   ]
  },
  {
   "cell_type": "markdown",
   "metadata": {},
   "source": [
    "<font size=\"3\"> In order to evaluate the scalability of our application we tried to run it using different number of cores. <br><br> Here are the results that we got : </font>"
   ]
  },
  {
   "cell_type": "code",
   "execution_count": 37,
   "metadata": {
    "scrolled": false
   },
   "outputs": [
    {
     "data": {
      "image/png": "[encoded data removed]",
      "text/plain": [
       "<Figure size 720x576 with 1 Axes>"
      ]
     },
     "metadata": {},
     "output_type": "display_data"
    }
   ],
   "source": [
    "values_2 = [22.67, 17.35 , 15.2 , 14.16, 12.87, 12.67, 12.20, 12.59, 11.94] \n",
    "values_1 = [27.58, 17.68, 15.46, 13.83, 13.12, 12.8]\n",
    "cores = [2, 4, 8, 16, 24, 32, 40, 48, 56]\n",
    "plt.figure(figsize=(10,8))\n",
    "plt.plot(cores, values_2, 'r+', label = \"77365 songs\")\n",
    "plt.plot(cores[:6], values_1, 'b+', label = \"38265 songs\")\n",
    "plt.ylim(0,30)\n",
    "plt.xlabel(\"Cores\")\n",
    "plt.ylabel(\"Execution time\")\n",
    "plt.legend()\n",
    "plt.title(\" Scalability test\", {\"fontsize\":16})\n",
    "plt.show()"
   ]
  }
 ],
 "metadata": {
  "kernelspec": {
   "display_name": "Python 3",
   "language": "python",
   "name": "python3"
  },
  "language_info": {
   "codemirror_mode": {
    "name": "ipython",
    "version": 3
   },
   "file_extension": ".py",
   "mimetype": "text/x-python",
   "name": "python",
   "nbconvert_exporter": "python",
   "pygments_lexer": "ipython3",
   "version": "3.6.7"
  }
 },
 "nbformat": 4,
 "nbformat_minor": 2
}
