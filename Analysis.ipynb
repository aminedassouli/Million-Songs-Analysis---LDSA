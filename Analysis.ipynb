{
 "cells": [
  {
   "cell_type": "markdown",
   "metadata": {},
   "source": [
    "# <center> Million Songs Analysis</center>"
   ]
  },
  {
   "cell_type": "markdown",
   "metadata": {},
   "source": [
    "## Starting the Spark session"
   ]
  },
  {
   "cell_type": "code",
   "execution_count": 84,
   "metadata": {},
   "outputs": [],
   "source": [
    "from pyspark.sql import SparkSession\n",
    "\n",
    "spark_session = SparkSession\\\n",
    "        .builder\\\n",
    "        .master(\"spark://host-192-168-1-153-ldsa:7077\")\\\n",
    "        .appName(\"Project_19\")\\\n",
    "        .config(\"spark.dynamicAllocation.enabled\", True)\\\n",
    "        .config(\"spark.shuffle.service.enabled\", True)\\\n",
    "        .config(\"spark.dynamicAllocation.executorIdleTimeout\",\"60m\")\\\n",
    "        .config(\"spark.dynamicAllocation.minExecutors\", 3)\\\n",
    "        .config(\"spark.dynamicAllocation.maxExecutors\", 3)\\\n",
    "        .config(\"spark.executor.cores\",8)\\\n",
    "        .getOrCreate()\n",
    "\n",
    "spark_context = spark_session.sparkContext"
   ]
  },
  {
   "cell_type": "code",
   "execution_count": 2,
   "metadata": {},
   "outputs": [],
   "source": [
    "from pyspark.sql import SparkSession\n",
    "\n",
    "spark_session = SparkSession\\\n",
    "        .builder\\\n",
    "        .master(\"local[8]\")\\\n",
    "        .appName(\"Project_19\")\\\n",
    "        .config(\"spark.dynamicAllocation.enabled\", True)\\\n",
    "        .config(\"spark.shuffle.service.enabled\", True)\\\n",
    "        .config(\"spark.dynamicAllocation.executorIdleTimeout\",\"60m\")\\\n",
    "        .config(\"spark.dynamicAllocation.minExecutors\", 1)\\\n",
    "        .config(\"spark.dynamicAllocation.maxExecutors\", 4)\\\n",
    "        .config(\"spark.executor.cores\",8)\\\n",
    "        .getOrCreate()\n",
    "\n",
    "spark_context = spark_session.sparkContext"
   ]
  },
  {
   "cell_type": "markdown",
   "metadata": {},
   "source": [
    "## Importations"
   ]
  },
  {
   "cell_type": "code",
   "execution_count": 90,
   "metadata": {},
   "outputs": [],
   "source": [
    "import h5py\n",
    "import io, time\n",
    "import matplotlib.pyplot as plt\n",
    "from pyspark.sql import Row\n",
    "from pyspark.sql.types import *\n"
   ]
  },
  {
   "cell_type": "markdown",
   "metadata": {},
   "source": [
    "## Loading the data into RDDs (Skip)"
   ]
  },
  {
   "cell_type": "code",
   "execution_count": 40,
   "metadata": {},
   "outputs": [],
   "source": [
    "\"\"\" This function turns a list of binary elements to a string with the element separated by the character ',' \"\"\"\n",
    "def list_bin_to_str(list_terms) :\n",
    "    string=\"\"\n",
    "    for term in list_terms :\n",
    "        string += term.decode()+','\n",
    "    return string[1:-1]   "
   ]
  },
  {
   "cell_type": "code",
   "execution_count": 6,
   "metadata": {},
   "outputs": [],
   "source": [
    "\"\"\" We prepare first a RDD containing tuples (song_information, artist_information) \"\"\"\n",
    "#rdd = spark_context.binaryFiles(\"hdfs://host-192-168-1-153-ldsa:9000/millionsongs/data/A/B/*\")\n",
    "rdd_songs = spark_context.binaryFiles(\"/mnt/ms/data/B/*/*\")\n",
    "\n",
    "# A function to open the h5 files one by one and take the information of interest for the song and the artist\n",
    "def f(x):\n",
    "    with h5py.File(io.BytesIO(x[1])) as f:\n",
    "        \n",
    "        f_meta = f['metadata'][\"songs\"]\n",
    "        f_analys = f['analysis'][\"songs\"]\n",
    "        f_brainz = f['musicbrainz'][\"songs\"]\n",
    "        \n",
    "        return (f_meta[0][-3].decode(), f_meta[0][-2].decode(),\n",
    "                f_meta[0][9].decode(), f_meta[0][4].decode(),\n",
    "                f_meta[0][-6].decode(),\n",
    "                float(f_analys[0][3]), float(f_meta[0][-4]),\n",
    "                float(f_analys[0][2]), float(f_analys[0][23]), \n",
    "                float(f_analys[0][-4]), int(f_brainz[0][1]))\n",
    "               \n",
    "\n",
    "rdd_songs = rdd_songs.map(f)\n"
   ]
  },
  {
   "cell_type": "code",
   "execution_count": null,
   "metadata": {
    "scrolled": true
   },
   "outputs": [],
   "source": [
    "\"\"\" We prepare first a RDD containing tuples (song_information, artist_information) \"\"\"\n",
    "#rdd = spark_context.binaryFiles(\"hdfs://host-192-168-1-153-ldsa:9000/millionsongs/data/A/B/*\")\n",
    "rdd = spark_context.binaryFiles(\"/mnt/ms/data/*/*/*\")\n",
    "\n",
    "# A function to open the h5 files one by one and take the information of interest for the song and the artist\n",
    "def f(x):\n",
    "    with h5py.File(io.BytesIO(x[1])) as f:\n",
    "        \n",
    "        f_meta = f['metadata'][\"songs\"]\n",
    "        f_analys = f['analysis'][\"songs\"]\n",
    "        f_brainz = f['musicbrainz'][\"songs\"]\n",
    "        \n",
    "        artist_terms = list_bin_to_str(f['metadata']['artist_terms'][:10])\n",
    "        similar_artists = list_bin_to_str(f['metadata']['similar_artists'][:10])\n",
    "        \n",
    "        return ((f_meta[0][-3].decode(), f_meta[0][-2].decode(),\n",
    "                f_meta[0][9].decode(), f_meta[0][4].decode(),\n",
    "                f_meta[0][-6].decode(),\n",
    "                float(f_analys[0][3]), float(f_meta[0][-4]),\n",
    "                float(f_analys[0][2]), float(f_analys[0][23]), \n",
    "                float(f_analys[0][-4]), int(f_brainz[0][1])), \n",
    "               \n",
    "                (f_meta[0][4].decode(), f_meta[0][9].decode(),\n",
    "                f_meta[0][6].decode(), float(f_meta[0][3]),\n",
    "                artist_terms, similar_artists))\n",
    "\n",
    "rdd = rdd.map(f)\n",
    "\n",
    "\"\"\" We create two RDDs (songs, artists) from the general one \"\"\"\n",
    "rdd_songs = rdd.map(lambda x : x[0])\n",
    "rdd_artists = rdd.map(lambda x : x[1])"
   ]
  },
  {
   "cell_type": "markdown",
   "metadata": {},
   "source": [
    "## Turning RDDs to Data frames (Skip)"
   ]
  },
  {
   "cell_type": "markdown",
   "metadata": {},
   "source": [
    "<b> *   Table Songs </b>"
   ]
  },
  {
   "cell_type": "code",
   "execution_count": 7,
   "metadata": {
    "scrolled": false
   },
   "outputs": [
    {
     "name": "stdout",
     "output_type": "stream",
     "text": [
      "+------------------+--------------------+--------------------+------------------+--------------------+---------+----------+------------+--------+-------+----+\n",
      "|           song_id|               title|         artist_name|         artist_id|       release_album| duration|   hotness|danceability|loudness|  tempo|year|\n",
      "+------------------+--------------------+--------------------+------------------+--------------------+---------+----------+------------+--------+-------+----+\n",
      "|SOINRAB12AB017CC63|          Down Below|               Dekad|AROTUZR122BCFCAA68|  Confidential Tears|269.58322|0.18820003|         0.0|   -6.91|132.977|2008|\n",
      "|SONZISZ12AB01798DA|           Hot Night|     Jessica Folcker|AROSDFR12496DAB706|           Hot Night|205.42648|       NaN|         0.0|  -5.026|155.979|   0|\n",
      "|SOUVIUP12A6D4F7682|Holy Diver (Album...|                 Dio|AR65HBF1187FB581D2|Songs You Know - ...|354.35056| 0.8354666|         0.0| -11.257|184.678|   0|\n",
      "|SOFMFBC12AB0180E22|         Ms. Jackson|             OutKast|AR3MSAN1187B98F06B|         Live Lounge|292.64935|       NaN|         0.0|  -10.49| 95.117|2000|\n",
      "|SOZCYJP12AB0189684|Caprice viennois ...|Joshua Bell / Pau...|ARSTIOO1187FB39B89|The Best Of Joshu...|275.93097|       NaN|         0.0| -23.283| 79.145|   0|\n",
      "|SOJJGCD12AB018305A|Hungarian Dances_...|Berlin Symphony O...|AR5EH4F1187B98FC65|Brahms: The Symph...| 98.29832|       0.0|         0.0| -19.494|125.006|   0|\n",
      "|SOJBBNO12AB018F282|        Chinese Lady|           David Tao|ARJA5XT1187B9B89AA|        Zero To Hero|274.31137|       NaN|         0.0|  -6.468| 94.024|2009|\n",
      "|SOJWJPI12A8C136CD6|  Sins Of The Father|      The Groundhogs|ARM9RSU1187FB51E4B|               Solid|331.07547|0.34092274|         0.0| -10.192| 83.073|1973|\n",
      "|SOMYJBU12AC4689F8D|           Primitive|Robyn Hitchcock &...|ARBF9C11187FB46C78|      Propellor Time| 222.0926|0.51318973|         0.0| -12.943| 80.732|2010|\n",
      "|SOWXTPS12A8C1396F3| Split Communication|   Billy Dalessandro|ARVGX191187FB45213|       Into The Atom| 420.2575|       NaN|         0.0| -10.623|123.021|   0|\n",
      "|SOPBFVB12A8C13D9B4|            En Hiver|              Quidam|ARYU0X01187FB36FB4|   En Eaux Profondes|233.09016|0.35445493|         0.0| -13.315|146.336|   0|\n",
      "|SOWGCOI12AB018D0E2|    If You Ever Fall|           Ana Laura|AR9OYN11187B9B4370|           Ana Laura|216.89424|0.40511572|         0.0|  -8.608| 96.572|2006|\n",
      "|SOYEHUH12AAFF43302| Exotic Dancer Blues|  Southern Gentlemen|ARBM4IE1187B99167E| Exotic Dancer Blues| 268.7473|  0.270776|         0.0|  -6.633|  90.71|2000|\n",
      "|SOYRRAF12A6D4FBE81|The Heart That Bu...|         Jane Weaver|ARBVUH51187B999B6E|  Like An Aspen Leaf| 261.7465|0.32773668|         0.0| -11.674|122.879|   0|\n",
      "|SOPYZVC12AB0187742|Too Strange To Be...|       Andrea Parker|ARCBEJ01187B98FAC0|Here's One I Made...|379.14078|0.23201522|         0.0| -13.284| 67.472|   0|\n",
      "|SOYGLRN12A6D4FA141|             So Easy|     Obscenity Trial|AROFDX11187FB4014B|          That Night|258.66403|0.36727342|         0.0|  -6.304|130.004|2008|\n",
      "|SOCTLCQ12AC3DF93DD|    Melkwitte morgen|               Derek|ARSZ6B11187B99A3D3|        Lila Cortina|228.41425|       0.0|         0.0| -10.808|141.437|   0|\n",
      "|SOHXLQS12A6D4FCA6B|          Lovin' Cup|       Debbie Davies|AR7OCK81187B98D1F1|        Picture This|295.00037| 0.5692757|         0.0|  -9.793|117.931|   0|\n",
      "|SOKEDTX12A6D4F8FED|  Sayonara Greetings|          Praga Khan|ARWSCEB1187B992364|          Khantastic|205.81831|0.37753165|         0.0|  -4.267|113.934|2000|\n",
      "|SOKAVVV12AB0184111|              Amrita|               Atman|AR4MCB01187B98BF5C|     The Lonely Road|  262.922|0.37952334|         0.0| -10.475|119.996|2002|\n",
      "+------------------+--------------------+--------------------+------------------+--------------------+---------+----------+------------+--------+-------+----+\n",
      "only showing top 20 rows\n",
      "\n"
     ]
    }
   ],
   "source": [
    "attributes = rdd_songs.map(lambda p: Row(p[0], p[1], p[2], p[3], p[4], p[5], p[6], p[7], p[8], p[9], p[10]))\n",
    "fields = [StructField(\"song_id\", StringType(), True), StructField(\"title\", StringType(), True), \n",
    "          StructField(\"artist_name\", StringType(), True), StructField(\"artist_id\", StringType(), True),\n",
    "          StructField(\"release_album\", StringType(), True), \n",
    "          StructField(\"duration\", FloatType(), True), StructField(\"hotness\", FloatType(), True), \n",
    "          StructField(\"danceability\", FloatType(), True), StructField(\"loudness\", FloatType(), True), \n",
    "          StructField(\"tempo\", FloatType(), True), StructField(\"year\", IntegerType())]\n",
    "songs_schema = StructType(fields)\n",
    "\n",
    "df_songs = spark_session.createDataFrame(attributes, songs_schema)\n",
    "df_songs.show()"
   ]
  },
  {
   "cell_type": "markdown",
   "metadata": {},
   "source": [
    "<b> *   Table Artists </b>"
   ]
  },
  {
   "cell_type": "code",
   "execution_count": null,
   "metadata": {},
   "outputs": [],
   "source": [
    "attributes = rdd_artists.map(lambda p: Row(p[0], p[1], p[2], p[3], p[4], p[5]))\n",
    "fields = [StructField(\"id\", StringType(), True), StructField(\"name\", StringType(), True), \n",
    "          StructField(\"location\", StringType(), True), StructField(\"hotness\", FloatType(), True),\n",
    "          StructField(\"terms\", StringType(), True), \n",
    "          StructField(\"similar_artists\", StringType(), True)]\n",
    "artists_schema = StructType(fields)\n",
    "\n",
    "df_artists = spark_session.createDataFrame(attributes, artists_schema)\n",
    "df_artists.show()"
   ]
  },
  {
   "cell_type": "markdown",
   "metadata": {},
   "source": [
    "## Saving data frames in csv files (Skip)"
   ]
  },
  {
   "cell_type": "markdown",
   "metadata": {},
   "source": [
    "<b> *   Table Songs </b>"
   ]
  },
  {
   "cell_type": "code",
   "execution_count": 8,
   "metadata": {},
   "outputs": [],
   "source": [
    "df_songs.write.format('com.databricks.spark.csv')\\\n",
    "        .option(\"header\", \"true\")\\\n",
    "        .save('/home/ubuntu/AllsongsB.csv')\n"
   ]
  },
  {
   "cell_type": "markdown",
   "metadata": {},
   "source": [
    "<b> *   Table Artists </b>"
   ]
  },
  {
   "cell_type": "code",
   "execution_count": null,
   "metadata": {},
   "outputs": [],
   "source": [
    "df_artists.write.format('com.databricks.spark.csv')\\\n",
    "        .option(\"header\", \"true\")\\\n",
    "        .save('/home/ubuntu/MyArtists_all.csv')"
   ]
  },
  {
   "cell_type": "markdown",
   "metadata": {},
   "source": [
    "## Loading data frames from csv files"
   ]
  },
  {
   "cell_type": "markdown",
   "metadata": {},
   "source": [
    "<b> *   Table Songs </b>"
   ]
  },
  {
   "cell_type": "code",
   "execution_count": 85,
   "metadata": {},
   "outputs": [],
   "source": [
    "fields = [StructField(\"song_id\", StringType(), True), StructField(\"title\", StringType(), True), \n",
    "          StructField(\"artist_name\", StringType(), True), StructField(\"artist_id\", StringType(), True),\n",
    "          StructField(\"release_album\", StringType(), True), \n",
    "          StructField(\"duration\", FloatType(), True), StructField(\"hotness\", FloatType(), True), \n",
    "          StructField(\"danceability\", FloatType(), True), StructField(\"loudness\", FloatType(), True), \n",
    "          StructField(\"tempo\", FloatType(), True), StructField(\"year\", IntegerType())]\n",
    "songs_schema = StructType(fields)\n",
    "\n",
    "#df_songs = spark_session.read.load('/home/ubuntu/MySongs_all.csv/', \n",
    "#                          format='com.databricks.spark.csv', \n",
    "#                          header='true', \n",
    "#                          schema=songs_schema)\\\n",
    "\n",
    "df_songs = spark_session.read.csv(\"hdfs://192.168.1.153:9000/team19/AllsongsB.csv\",\n",
    "                                  header = True,\n",
    "                                  schema= songs_schema)\\\n",
    "                        .union(spark_session.read.csv(\"hdfs://192.168.1.153:9000/team19/MySongs_all.csv\",\n",
    "                                  header = True,\n",
    "                                  schema= songs_schema))\n",
    "                        "
   ]
  },
  {
   "cell_type": "markdown",
   "metadata": {},
   "source": [
    "Lets take a look at the table : "
   ]
  },
  {
   "cell_type": "code",
   "execution_count": 42,
   "metadata": {
    "scrolled": false
   },
   "outputs": [
    {
     "data": {
      "text/plain": [
       "77365"
      ]
     },
     "execution_count": 42,
     "metadata": {},
     "output_type": "execute_result"
    }
   ],
   "source": [
    "df_songs.count()"
   ]
  },
  {
   "cell_type": "markdown",
   "metadata": {},
   "source": [
    "<b> *   Table Artists </b>"
   ]
  },
  {
   "cell_type": "code",
   "execution_count": null,
   "metadata": {},
   "outputs": [],
   "source": [
    "fields = [StructField(\"id\", StringType(), True), StructField(\"name\", StringType(), True), \n",
    "          StructField(\"location\", StringType(), True), StructField(\"hotness\", FloatType(), True),\n",
    "          StructField(\"terms\", StringType(), True), \n",
    "          StructField(\"similar_artists\", StringType(), True)]\n",
    "artists_schema = StructType(fields)\n",
    "\n",
    "df_artists = spark_session.read.load('file:/home/ubuntu/MyArtists_all.csv', \n",
    "                          format='com.databricks.spark.csv', \n",
    "                          header='true', \n",
    "                          schema=artists_schema)\\\n",
    "                          .cache()"
   ]
  },
  {
   "cell_type": "markdown",
   "metadata": {},
   "source": [
    "Lets take a look at this table as well"
   ]
  },
  {
   "cell_type": "code",
   "execution_count": null,
   "metadata": {},
   "outputs": [],
   "source": [
    "df_artists.printSchema()\n",
    "df_artists.limit(10).show()"
   ]
  },
  {
   "cell_type": "markdown",
   "metadata": {},
   "source": [
    "## Functions"
   ]
  },
  {
   "cell_type": "code",
   "execution_count": 43,
   "metadata": {},
   "outputs": [],
   "source": [
    "\"\"\" This function returns the song information in a visible way (as a string) \"\"\"\n",
    "def song_str(song) :\n",
    "    if song[\"year\"] != 0 :\n",
    "        return \"{} - {} ({})\".format(song[\"title\"], song[\"artist_name\"], song[\"year\"])\n",
    "    else :\n",
    "        return \"{} - {}\".format(song[\"title\"], song[\"artist_name\"])"
   ]
  },
  {
   "cell_type": "code",
   "execution_count": 44,
   "metadata": {},
   "outputs": [],
   "source": [
    "\"\"\" This function asks the user for the title of a song and returns it from the database \"\"\"\n",
    "def ask_for_song() :\n",
    "    right = False # Boolean to verify that the user's song is the one found in the database   \n",
    "    while not right : \n",
    "        song_title = input(\" Title of the song : \")\n",
    "        # We look at the song in the database even if the user enters an incomplete name\n",
    "        song = df_songs.filter(df_songs[\"title\"].like(\"%\" + song_title + \"%\")).first()\n",
    "        while song == None :\n",
    "            print(\" This song doesn't exist in the database\")\n",
    "            song = df_songs.filter(df_songs[\"title\"].like(\"%\" + input(\"Title of the song : \") + \"%\")).first()\n",
    "        right = (input(\" Is your song {} (y/n) ? \".format(song_str(song))) == 'y')\n",
    "    \n",
    "    print(\" The chosen song is : {} \".format(song_str(song)))\n",
    "    return song"
   ]
  },
  {
   "cell_type": "code",
   "execution_count": 45,
   "metadata": {},
   "outputs": [],
   "source": [
    "\"\"\" This function asks the user for the values of the attributes (tempo, loudness, hotness, danceability) \"\"\"\n",
    "def ask_for_margins() :\n",
    "    margins = {}\n",
    "    print(\"\\nEnter the values of the margins you want to consider for the song attributes (tempo, loudness,\\\n",
    "    hotness, danceability). \\n\\nYou can enter '*' to skip the attribute and not take it into consideration.\\n \")\n",
    "    \n",
    "    list_names = [\"tempo\", \"loudness\", \"hotness\", \"danceability\"]\n",
    "    for att in list_names :\n",
    "        print(\"{} : \".format(att))\n",
    "        att_margin = input(\"\\t - margin (Enter * to skip): \")\n",
    "        if att_margin == \"*\" :\n",
    "            margins[att] = (100, 0)\n",
    "        else :\n",
    "            att_margin_increase = input(\"\\t - the margin's increase each step : \")\n",
    "            margins[att] = (float(att_margin), float(att_margin_increase))\n",
    "            \n",
    "    return margins"
   ]
  },
  {
   "cell_type": "code",
   "execution_count": 46,
   "metadata": {},
   "outputs": [],
   "source": [
    "\"\"\" This function returns the songs which belong to the same artist as the input song(Row) \"\"\"\n",
    "def same_artist(song) :\n",
    "    similar_songs = df_songs.filter(df_songs.artist_name == song[\"artist_name\"])\n",
    "    return similar_songs.filter(similar_songs.title != song[\"title\"])\n",
    "  "
   ]
  },
  {
   "cell_type": "code",
   "execution_count": 47,
   "metadata": {},
   "outputs": [],
   "source": [
    "\"\"\" This function returns the songs, from the dataframe, which have similar tempo as the input song\"\"\"\n",
    "def similar_tempo(song, dataframe, margin) : \n",
    "    similar_songs = dataframe.filter(dataframe.tempo.between(song[\"tempo\"] - margin, song[\"tempo\"] + margin))\\\n",
    "                             .filter(dataframe.title != song[\"title\"])\n",
    " \n",
    "    return similar_songs"
   ]
  },
  {
   "cell_type": "code",
   "execution_count": 48,
   "metadata": {},
   "outputs": [],
   "source": [
    "\"\"\" This function returns the songs, from the dataframe, which have similar loudness as the input song \"\"\"\n",
    "def similar_loudness(song, dataframe, margin) : \n",
    "    similar_songs = dataframe.filter(dataframe.loudness.between(song[\"loudness\"] - margin, song[\"loudness\"] + margin))\\\n",
    "                             .filter(dataframe.title != song[\"title\"])\n",
    "\n",
    "    return similar_songs"
   ]
  },
  {
   "cell_type": "code",
   "execution_count": 49,
   "metadata": {},
   "outputs": [],
   "source": [
    "\"\"\" This function returns the songs, from the dataframe, which have similar hotness as the input song \"\"\"\n",
    "def similar_hotness(song, dataframe, margin) : \n",
    "    similar_songs = dataframe.filter(dataframe.hotness.between(song[\"hotness\"] - margin, song[\"hotness\"] + margin))\\\n",
    "                             .filter(dataframe.title != song[\"title\"])\n",
    "\n",
    "    return similar_songs"
   ]
  },
  {
   "cell_type": "code",
   "execution_count": 50,
   "metadata": {},
   "outputs": [],
   "source": [
    "\"\"\" This function returns the songs, from the dataframe, which have similar danceability as the input song \"\"\"\n",
    "def similar_danceability(song, dataframe, margin) : \n",
    "    similar_songs = dataframe.filter(dataframe.danceability.between(song[\"danceability\"] - margin, song[\"danceability\"] + margin))\\\n",
    "                             .filter(dataframe.title != song[\"title\"])\n",
    "\n",
    "    return similar_songs"
   ]
  },
  {
   "cell_type": "code",
   "execution_count": 51,
   "metadata": {},
   "outputs": [],
   "source": [
    "\"\"\" This function returns the songs, from the dataframe, which are similar to the input song based on tempo, loudness,\n",
    "hotness and danceability \"\"\"\n",
    "# number is the number of generated suggestions\n",
    "# margins is a dictionary with the 4 attributes above as keys and their corresponding values are a tuple of\n",
    "# (initial margin, margin_increase)\n",
    "def similar_model1(song, number, margins) :\n",
    "    similar_songs = spark_session.createDataFrame(spark_context.emptyRDD(), songs_schema).cache()\n",
    "    x, num_iter = 0, 0\n",
    "    max_iterations = 200\n",
    "    while similar_songs.count() < number and num_iter < max_iterations :\n",
    "        similar_songs_inter = similar_tempo(song, df_songs, margins[\"tempo\"][1] * x + margins[\"tempo\"][0])\n",
    "        similar_songs_inter = similar_loudness(song, similar_songs_inter, margins[\"loudness\"][1] * x + margins[\"loudness\"][0])\n",
    "        similar_songs_inter = similar_danceability(song, similar_songs_inter, margins[\"hotness\"][1] * x + margins[\"hotness\"][0])\n",
    "        similar_songs = similar_hotness(song, similar_songs_inter, margins[\"danceability\"][1] * x + margins[\"danceability\"][0])\n",
    "        x += 1\n",
    "        num_iter +=1\n",
    "    return similar_songs.limit(number)"
   ]
  },
  {
   "cell_type": "markdown",
   "metadata": {},
   "source": [
    "## Core Analysis"
   ]
  },
  {
   "cell_type": "markdown",
   "metadata": {},
   "source": [
    "### Asking the user for a song "
   ]
  },
  {
   "cell_type": "code",
   "execution_count": null,
   "metadata": {
    "scrolled": false
   },
   "outputs": [],
   "source": [
    "user_song = ask_for_song()"
   ]
  },
  {
   "cell_type": "markdown",
   "metadata": {},
   "source": [
    "### Songs from the same artist"
   ]
  },
  {
   "cell_type": "code",
   "execution_count": null,
   "metadata": {
    "scrolled": true
   },
   "outputs": [],
   "source": [
    "songs_same_artist = same_artist(user_song)\n",
    "if songs_same_artist.count() != 0 :\n",
    "    some_songs = songs_same_artist.take(10)\n",
    "    print(\" Songs from the same artist :\")\n",
    "    for song in some_songs : \n",
    "        print(\" * \", song[\"title\"])\n",
    "else :\n",
    "    print(\" This artist doesn't have any other songs.\")\n",
    "    "
   ]
  },
  {
   "cell_type": "code",
   "execution_count": null,
   "metadata": {
    "scrolled": true
   },
   "outputs": [],
   "source": [
    "songs_same_artist.show()"
   ]
  },
  {
   "cell_type": "markdown",
   "metadata": {},
   "source": [
    "### Songs with similar tempo"
   ]
  },
  {
   "cell_type": "code",
   "execution_count": null,
   "metadata": {
    "scrolled": true
   },
   "outputs": [],
   "source": [
    "margin = 1\n",
    "songs_similar_tempo = similar_tempo(user_song, bb, margin).limit(10).collect()\n",
    "if songs_similar_tempo != None :\n",
    "    print(\"Songs with similar tempo (with a margin of {}) :\".format(margin))\n",
    "    for song in songs_similar_tempo : \n",
    "        print(\" * \", end=\"\")\n",
    "        print(song_str(song))"
   ]
  },
  {
   "cell_type": "markdown",
   "metadata": {},
   "source": [
    "### Songs with similar loudness"
   ]
  },
  {
   "cell_type": "code",
   "execution_count": null,
   "metadata": {},
   "outputs": [],
   "source": [
    "margin = 0.1\n",
    "songs_similar_loudness = similar_loudness(user_song, df_songs, margin).limit(10).collect()\n",
    "if songs_similar_loudness != None :\n",
    "    print(\"Songs with similar loudness (with a margin of {}) :\".format(margin))\n",
    "    for song in songs_similar_loudness : \n",
    "        print(\" * \", end=\"\")\n",
    "        print(song_str(song))"
   ]
  },
  {
   "cell_type": "markdown",
   "metadata": {},
   "source": [
    "### Songs with similar hotness"
   ]
  },
  {
   "cell_type": "code",
   "execution_count": null,
   "metadata": {},
   "outputs": [],
   "source": [
    "margin = 0.1\n",
    "songs_similar_hotness = similar_hotness(user_song, df_songs, margin).limit(10).collect()\n",
    "if songs_similar_hotness != None :\n",
    "    print(\"Songs with similar hotness (with a margin of {}) :\".format(margin))\n",
    "    for song in songs_similar_hotness : \n",
    "        print(\" * \", end=\"\")\n",
    "        print(song_str(song))"
   ]
  },
  {
   "cell_type": "markdown",
   "metadata": {},
   "source": [
    "### Songs with similar danceability"
   ]
  },
  {
   "cell_type": "code",
   "execution_count": null,
   "metadata": {
    "scrolled": false
   },
   "outputs": [],
   "source": [
    "margin = 0.1\n",
    "songs_similar_danceability = similar_danceability(user_song, df_songs, margin).limit(10).collect()\n",
    "if songs_similar_danceability != None :\n",
    "    print(\"Songs with similar danceability (with a margin of {}) :\".format(margin))\n",
    "    for song in songs_similar_danceability : \n",
    "        print(\" * \", end=\"\")\n",
    "        print(song_str(song))"
   ]
  },
  {
   "cell_type": "markdown",
   "metadata": {},
   "source": [
    "### Songs with similar tempo, loudness, hotness and danceability"
   ]
  },
  {
   "cell_type": "code",
   "execution_count": null,
   "metadata": {},
   "outputs": [],
   "source": [
    "margins = {\"tempo\" : (1, 0.1), \"loudness\" : (2, 0.4), \"hotness\" : (29.5, 0), \"danceability\" : (0.01, 0.00)}"
   ]
  },
  {
   "cell_type": "markdown",
   "metadata": {},
   "source": [
    "To make things clearer, lets plot first the margins,  which are going to be passed as an argument to the function below, as a function of the number of iterations :"
   ]
  },
  {
   "cell_type": "code",
   "execution_count": null,
   "metadata": {},
   "outputs": [],
   "source": [
    "X_iterations = range(20)\n",
    "Y_margins = [[], [], [], []]\n",
    "\n",
    "list_margins = [(1,0.1), (2,0.4), (29.5,0), (0.01,0)]\n",
    "for i in range(20) :\n",
    "    for j in range(4) :\n",
    "        Y_margins[j].append(list_margins[j][0] + i * list_margins[j][1])\n",
    "        \n",
    "labels = [\"tempo\", \"loudness\", \"hotness\", \"danceability\"]\n",
    "plt.figure(figsize=(10,8))\n",
    "for i in range(4) :\n",
    "    plt.plot(X_iterations, Y_margins[i], label = labels[i])\n",
    "plt.ylim(-1,30)\n",
    "plt.title(\"Margins' variation function of the number of iterations\")   \n",
    "plt.legend()\n",
    "plt.show()"
   ]
  },
  {
   "cell_type": "markdown",
   "metadata": {},
   "source": [
    "#### Remarks : \n",
    "- The margins are always getting larger\n",
    " \n",
    "- The user can ignore an attribute by giving it a large margin (See ’hotness’\n",
    "in the figure above)\n",
    "\n",
    "- The user can be strict about the margin of an attribute by choosing a\n",
    "small value for the corresponding margin increase (See ’danceability’ in\n",
    "the figure above)"
   ]
  },
  {
   "cell_type": "markdown",
   "metadata": {},
   "source": [
    "Lets take a look now at the result of the previous model"
   ]
  },
  {
   "cell_type": "code",
   "execution_count": null,
   "metadata": {
    "scrolled": true
   },
   "outputs": [],
   "source": [
    "songs_similar_model1 = similar_model1(user_song, 10, margins)\n",
    "print(\"Similar songs following the model 1:\")\n",
    "for song in songs_similar_model1.collect() : \n",
    "    print(\" * \", end=\"\")\n",
    "    print(song_str(song))"
   ]
  },
  {
   "cell_type": "code",
   "execution_count": null,
   "metadata": {
    "scrolled": true
   },
   "outputs": [],
   "source": [
    "songs_similar_model1.join(df_artists, df_songs.artist_id == df_artists.id).show()"
   ]
  },
  {
   "cell_type": "markdown",
   "metadata": {},
   "source": [
    "### Main program"
   ]
  },
  {
   "cell_type": "code",
   "execution_count": 216,
   "metadata": {
    "scrolled": true
   },
   "outputs": [
    {
     "name": "stdout",
     "output_type": "stream",
     "text": [
      "\n",
      "Similar songs following the model 1 :\n",
      " * Motgångar - Allan Edwall\n",
      " * Living The Dream - Umlaut\n",
      " * Don't Kill Your Feelings - The Headhunters (1977)\n",
      " * Never Been Better - Wax\n",
      " * Harvest Time - Tea Leaf Green (2009)\n",
      " * People Say - Chris Duarte Group (1997)\n",
      " * All I Got (Album Version) - Amel Larrieux (2004)\n",
      " * Uma Casa À Beira Mar - Ena Pá 2000\n",
      " * Jingle Crunk - Mochipet\n",
      " * El Son De La Santiaguera - Ibrahim Ferrer (2002)\n",
      " * Breathe In - Alex Kunnari (2008)\n",
      " * Surfin Kraken - The Kabeedies (2009)\n",
      " * Gadje Sirba - A Hawk And A Hacksaw (2006)\n",
      " * After Traveling - Home Of The Lame (2008)\n",
      " * Artista - Jumbo\n",
      " * Streetlife Parade - Secret Affair (1980)\n",
      " * Deep Everytime - Calibre (2001)\n",
      " * Neva Antiquated (Dark Jedi Remix) - Jedi Mind Tricks (1996)\n",
      " * I Set Myself Free - Constance Demby (1989)\n",
      " * Streets Of LX - Corvos (2007)\n",
      "\n",
      "Songs from the same artist :\n",
      " *  Sing\n",
      " *  Elle Est Pas Belle Ma Chérie ?\n",
      " Execution time :  14.554054975509644\n"
     ]
    }
   ],
   "source": [
    "#user_song = ask_for_song()\n",
    "#margins = ask_for_margins()\n",
    "margins ={\"tempo\" : (0, 0.02), \"loudness\" : (0, 0.02), \"hotness\" : (0, 0.02), \"danceability\" : (0, 0.02)}\n",
    "#number = input(\" The number of songs you want to generate : \")\n",
    "number = 20\n",
    "t = time.time()\n",
    "# Generation following the model 1\n",
    "songs_similar_model1 = similar_model1(user_song, int(number), margins)\n",
    "print(\"\\nSimilar songs following the model 1 :\")\n",
    "for song in songs_similar_model1.collect() : \n",
    "    print(\" * \", end=\"\")\n",
    "    print(song_str(song))\n",
    "\n",
    "# Other songs from the same artist : \n",
    "songs_same_artist = same_artist(user_song)\n",
    "if songs_same_artist.count() != 0 :\n",
    "    some_songs = songs_same_artist.take(10)\n",
    "    print(\"\\nSongs from the same artist :\")\n",
    "    for song in some_songs : \n",
    "        print(\" * \", song[\"title\"])\n",
    "else :\n",
    "    print(\" \\nThis artist doesn't have any other songs.\")\n",
    "\n",
    "print(\" Execution time : \", time.time() - t)"
   ]
  },
  {
   "cell_type": "code",
   "execution_count": 227,
   "metadata": {},
   "outputs": [
    {
     "data": {
      "text/plain": [
       "[2, 4, 8, 16, 24, 32]"
      ]
     },
     "execution_count": 227,
     "metadata": {},
     "output_type": "execute_result"
    }
   ],
   "source": [
    "cores[:6]"
   ]
  },
  {
   "cell_type": "code",
   "execution_count": 231,
   "metadata": {
    "scrolled": true
   },
   "outputs": [
    {
     "data": {
      "text/plain": [
       "Text(0.5, 1.0, ' Scalability test')"
      ]
     },
     "execution_count": 231,
     "metadata": {},
     "output_type": "execute_result"
    },
    {
     "data": {
      "image/png": "[encoded data removed]",
      "text/plain": [
       "<Figure size 432x288 with 1 Axes>"
      ]
     },
     "metadata": {},
     "output_type": "display_data"
    }
   ],
   "source": [
    "values_2 = [22.67, 17.35 , 15.2 , 14.16, 12.87, 12.67, 12.20, 12.59, 11.94] \n",
    "values_1 = [27.58, 17.68, 15.46, 13.83, 13.12, 12.8]\n",
    "cores = [2, 4, 8, 16, 24, 32, 40, 48, 56]\n",
    "plt.plot(cores, values_2, 'r+', label = \"77365 songs\")\n",
    "plt.plot(cores[:6], values_1, 'b+', label = \"38265 songs\")\n",
    "plt.ylim(0,30)\n",
    "plt.xlabel(\"Cores\")\n",
    "plt.ylabel(\"Execution time\")\n",
    "plt.legend()\n",
    "plt.title(\" Scalability test\", {\"fontsize\":16})"
   ]
  },
  {
   "cell_type": "code",
   "execution_count": null,
   "metadata": {},
   "outputs": [],
   "source": []
  },
  {
   "cell_type": "code",
   "execution_count": 230,
   "metadata": {},
   "outputs": [
    {
     "data": {
      "text/plain": [
       "Text(0.5, 1.0, ' Scalability test')"
      ]
     },
     "execution_count": 230,
     "metadata": {},
     "output_type": "execute_result"
    },
    {
     "data": {
      "image/png": "[encoded data removed]",
      "text/plain": [
       "<Figure size 432x288 with 1 Axes>"
      ]
     },
     "metadata": {},
     "output_type": "display_data"
    }
   ],
   "source": [
    "values = [22.67, 17.35 , 15.2 , 14.16, 12.87, 12.67, 12.20, 12.59, 11.94] \n",
    "cores = [2, 4, 8, 16, 24, 32, 40, 48, 56]\n",
    "plt.plot(cores, values, 'r+', label=\"\")\n",
    "plt.ylim(0,25)\n",
    "plt.xlabel(\"Cores\")\n",
    "plt.ylabel(\"Execution time\")\n",
    "plt.legend()\n",
    "plt.title(\" Scalability test\", {\"fontsize\":16})"
   ]
  },
  {
   "cell_type": "code",
   "execution_count": 202,
   "metadata": {
    "scrolled": true
   },
   "outputs": [
    {
     "data": {
      "text/plain": [
       "38265"
      ]
     },
     "execution_count": 202,
     "metadata": {},
     "output_type": "execute_result"
    }
   ],
   "source": [
    "df_songs.count()"
   ]
  },
  {
   "cell_type": "markdown",
   "metadata": {},
   "source": [
    "### Scalability test"
   ]
  },
  {
   "cell_type": "code",
   "execution_count": 213,
   "metadata": {},
   "outputs": [],
   "source": [
    "from pyspark.sql import SparkSession\n",
    "\n",
    "spark_session = SparkSession\\\n",
    "        .builder\\\n",
    "        .master(\"spark://host-192-168-1-153-ldsa:7077\")\\\n",
    "        .appName(\"Project_19\")\\\n",
    "        .config(\"spark.dynamicAllocation.enabled\", True)\\\n",
    "        .config(\"spark.shuffle.service.enabled\", True)\\\n",
    "        .config(\"spark.dynamicAllocation.executorIdleTimeout\",\"60m\")\\\n",
    "        .config(\"spark.dynamicAllocation.minExecutors\", 4)\\\n",
    "        .config(\"spark.dynamicAllocation.maxExecutors\", 4)\\\n",
    "        .config(\"spark.executor.cores\", 8)\\\n",
    "        .getOrCreate()\n",
    "\n",
    "spark_context = spark_session.sparkContext\n",
    "\n",
    "fields = [StructField(\"song_id\", StringType(), True), StructField(\"title\", StringType(), True), \n",
    "          StructField(\"artist_name\", StringType(), True), StructField(\"artist_id\", StringType(), True),\n",
    "          StructField(\"release_album\", StringType(), True), \n",
    "          StructField(\"duration\", FloatType(), True), StructField(\"hotness\", FloatType(), True), \n",
    "          StructField(\"danceability\", FloatType(), True), StructField(\"loudness\", FloatType(), True), \n",
    "          StructField(\"tempo\", FloatType(), True), StructField(\"year\", IntegerType())]\n",
    "songs_schema = StructType(fields)\n",
    "\n",
    "#df_songs = spark_session.read.load('/home/ubuntu/MySongs_all.csv/', \n",
    "#                          format='com.databricks.spark.csv', \n",
    "#                          header='true', \n",
    "#                          schema=songs_schema)\\\n",
    "\n",
    "df_songs = spark_session.read.csv(\"hdfs://192.168.1.153:9000/team19/AllsongsB.csv\",\n",
    "                                  header = True,\n",
    "                                  schema= songs_schema)\n",
    "                        "
   ]
  },
  {
   "cell_type": "markdown",
   "metadata": {},
   "source": [
    "# Releasing the resources"
   ]
  },
  {
   "cell_type": "code",
   "execution_count": 212,
   "metadata": {
    "scrolled": true
   },
   "outputs": [],
   "source": [
    "spark_context.stop()"
   ]
  },
  {
   "cell_type": "markdown",
   "metadata": {},
   "source": [
    "# Tests"
   ]
  },
  {
   "cell_type": "code",
   "execution_count": 151,
   "metadata": {},
   "outputs": [],
   "source": [
    "from pyspark.sql import SparkSession\n",
    "\n",
    "spark_session = SparkSession\\\n",
    "        .builder\\\n",
    "        .master(\"local[1]\")\\\n",
    "        .appName(\"Project_19\")\\\n",
    "        .config(\"spark.dynamicAllocation.enabled\", True)\\\n",
    "        .config(\"spark.shuffle.service.enabled\", True)\\\n",
    "        .config(\"spark.dynamicAllocation.executorIdleTimeout\",\"60m\")\\\n",
    "        .config(\"spark.dynamicAllocation.minExecutors\", 2)\\\n",
    "        .config(\"spark.dynamicAllocation.maxExecutors\", 2)\\\n",
    "        .config(\"spark.executor.cores\",8)\\\n",
    "        .getOrCreate()\n",
    "\n",
    "spark_context = spark_session.sparkContext\n",
    "\n",
    "fields = [StructField(\"song_id\", StringType(), True), StructField(\"title\", StringType(), True), \n",
    "          StructField(\"artist_name\", StringType(), True), StructField(\"artist_id\", StringType(), True),\n",
    "          StructField(\"release_album\", StringType(), True), \n",
    "          StructField(\"duration\", FloatType(), True), StructField(\"hotness\", FloatType(), True), \n",
    "          StructField(\"danceability\", FloatType(), True), StructField(\"loudness\", FloatType(), True), \n",
    "          StructField(\"tempo\", FloatType(), True), StructField(\"year\", IntegerType())]\n",
    "songs_schema = StructType(fields)\n",
    "\n"
   ]
  },
  {
   "cell_type": "code",
   "execution_count": 30,
   "metadata": {
    "scrolled": true
   },
   "outputs": [
    {
     "name": "stdout",
     "output_type": "stream",
     "text": [
      " Title of the song : rt\n",
      " Is your song Nailing Descartes To The Wall / (Liquid) Meat Is Still Murder - Propagandhi (y/n) ? y\n",
      " The chosen song is : Nailing Descartes To The Wall / (Liquid) Meat Is Still Murder - Propagandhi \n",
      "+------------------+--------------------+--------------------+------------------+--------------------+---------+----------+------------+--------+-------+----+\n",
      "|           song_id|               title|         artist_name|         artist_id|       release_album| duration|   hotness|danceability|loudness|  tempo|year|\n",
      "+------------------+--------------------+--------------------+------------------+--------------------+---------+----------+------------+--------+-------+----+\n",
      "|SOFKFFR12A81C207BD|Heaven is Burning...|           Styrofoam|AR2RZBP1187B9AE4ED|    The Point_Misser|543.63385|       0.0|         0.0|  -6.783|148.005|   0|\n",
      "|SOSTJNK12A6D4F855D|Snickers (Album V...|            Skarhead|ARH7M7Z1187B99B894|      Kings At Crime|150.56934| 0.5366224|         0.0|  -5.659|148.173|   0|\n",
      "|SOFYMIX12AAF3B3D4B|       Shatter Proof|          Counterfit|ARHA3QY1187B98A96B|From Finish to St...|283.58484|0.21508032|         0.0|  -6.968|147.833|   0|\n",
      "|SOVSNJX12AB0189848|           Back Then|             BoDeans|ARKL75U1187FB5B8B6|       Mr. Sad Clown|216.08444|0.35528553|         0.0|  -5.892|147.944|2010|\n",
      "|SOFXCAX12A6D4FE289|Bright End of Now...|        Matthew Good|ARCIDJA1187FB589B7|           Avalanche|248.92036| 0.5342452|         0.0|  -5.849|147.225|2003|\n",
      "|SOJRFCD12B34F32A41|     Cold Dark World|              Weezer|AR633SY1187B9AC3B9|              Weezer|231.23546|0.78883415|         0.0|  -7.101|147.246|2008|\n",
      "|SONORTR12A67ADE8AD|        Assal Douaen|Abdul Majeed Abdu...|ARN3MTC1187B9901C4|         Ensan Aktar|245.60281| 0.2120454|         0.0|  -6.546|148.082|   0|\n",
      "|SOBACNC12AAA8C84FD|      Tammy's Bodega|         Motel Motel|ARQWOFC11F4C847A86|          New Denver| 472.3718|0.34092274|         0.0|  -7.084|147.835|2009|\n",
      "|SOWWREW12A58A7C866|Pain And Paradise...|     The Albion Band|AR1YOA01187FB4D066|Rise Up Like The Sun| 184.3718|       0.0|         0.0|  -7.285|146.772|1978|\n",
      "|SOUERQC12AB018B2C2|           Pure Evil|            Matutero|ARJEJQA1187B993648|         Karmageddon|695.27466|       0.0|         0.0|  -7.245|147.945|2005|\n",
      "|SOXNBKU12A6D4FBD9F|          Stagger In|           Jim Cuddy|ARJCR261187B9A37AF|The Light That Gu...| 349.6224| 0.3041695|         0.0|  -5.665|146.935|2006|\n",
      "|SOIWSIL12A8C1325D4|       New York City|            The Cult|ARCUL501187B9AF797|        Sonic Temple|281.36444| 0.7367544|         0.0|  -6.917|148.048|1989|\n",
      "|SOMTZAG12A58A77E4C|      Seems Sick Now|   Unnatural Helpers|ARCXZTQ11F4C84298D|   Unnatural Helpers| 72.64608|  0.270776|         0.0|  -6.677|146.879|   0|\n",
      "|SOUBJQY12AB018DFFA|         Radio Sucks|              Eskimo|AROYS8V1187FB53D56|Balloonatic - Part 2|415.16364| 0.4079017|         0.0|   -6.05|148.034|   0|\n",
      "|SOVQKVJ12A58A7AA1E|The Double Life (...|        Rainer Maria|ARJ0V461187FB473FC|Polyvinyl 2004 Sa...|209.18813|0.49975234|         0.0|  -5.574|148.538|   0|\n",
      "|SOKQSZH12AB01821A7|      Short Way Home|The Builders and ...|ARJR0OC1187FB54483|Salvation Is A De...|258.48117| 0.5591809|         0.0|  -5.524|147.531|2009|\n",
      "|SOXEFOC12AC3DF5F17|    Kokusai Dori Dub|  Ryukyu Underground|ARE8JSI1187B99D708|  Ryukyu Underground|345.12933| 0.4871122|         0.0|  -6.722|147.042|   0|\n",
      "|SOAYSPZ12AB0186AD2|                Fear|               Penta|ARVGWYP1187B9A2B11|The Future Sound ...| 424.8028|       0.0|         0.0|  -6.083|147.969|2005|\n",
      "|SOXIQMU12AB0182D0B|                 7.2|       Arab On Radar|ARALONC1187FB4CDE7|  The Stolen Singles|121.36444|0.21508032|         0.0|  -5.719|147.684|2003|\n",
      "|SORAIMB12AB018B54A|          Crazy Love|    Robbie Seay Band|ARHG3RJ1187B995079|             Miracle|238.41914|0.63822794|         0.0|  -6.994|147.932|2010|\n",
      "+------------------+--------------------+--------------------+------------------+--------------------+---------+----------+------------+--------+-------+----+\n",
      "only showing top 20 rows\n",
      "\n"
     ]
    }
   ],
   "source": [
    "song = ask_for_song()\n",
    "margins ={\"tempo\" : (1, 0.01), \"loudness\" : (1, 0.02), \"hotness\" : (1, 0.03), \"danceability\" : (2, 0.00)}\n",
    "similar_songs_inter = similar_tempo(song, df_songs, margins[\"tempo\"][0])\n",
    "similar_songs_inter = similar_loudness(song, similar_songs_inter, margins[\"loudness\"][0])\n",
    "similar_songs_inter = similar_danceability(song, similar_songs_inter, margins[\"hotness\"][0])\n",
    "similar_songs = similar_hotness(song, similar_songs_inter, margins[\"danceability\"][0])\n",
    "similar_songs.show()"
   ]
  },
  {
   "cell_type": "code",
   "execution_count": null,
   "metadata": {
    "scrolled": true
   },
   "outputs": [],
   "source": [
    "terms = songs_similar_model1.join(df_artists, df_songs.artist_id == df_artists.id)\\\n",
    "        .select(df_artists.location, df_artists.hotness)\\\n",
    "        .collect()\n"
   ]
  }
 ],
 "metadata": {
  "kernelspec": {
   "display_name": "Python 3",
   "language": "python",
   "name": "python3"
  },
  "language_info": {
   "codemirror_mode": {
    "name": "ipython",
    "version": 3
   },
   "file_extension": ".py",
   "mimetype": "text/x-python",
   "name": "python",
   "nbconvert_exporter": "python",
   "pygments_lexer": "ipython3",
   "version": "3.6.7"
  }
 },
 "nbformat": 4,
 "nbformat_minor": 2
}
